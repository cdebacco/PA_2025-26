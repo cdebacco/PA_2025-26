{
 "cells": [
  {
   "cell_type": "markdown",
   "id": "e028c4f8-75da-4ff8-b087-f236fa54aa33",
   "metadata": {},
   "source": [
    "# L5: Queueing Theory\n"
   ]
  },
  {
   "cell_type": "code",
   "execution_count": 1,
   "id": "78c3a7eb-3ba9-4bbd-9018-40c75606fca2",
   "metadata": {
    "execution": {
     "iopub.execute_input": "2025-10-03T06:58:07.186937Z",
     "iopub.status.busy": "2025-10-03T06:58:07.186401Z",
     "iopub.status.idle": "2025-10-03T06:58:07.207374Z",
     "shell.execute_reply": "2025-10-03T06:58:07.206729Z",
     "shell.execute_reply.started": "2025-10-03T06:58:07.186902Z"
    }
   },
   "outputs": [],
   "source": [
    "\n",
    "%load_ext autoreload\n",
    "%autoreload 2"
   ]
  },
  {
   "cell_type": "code",
   "execution_count": 2,
   "id": "ffbaeb79-c0fb-4c88-963a-06d77009ee82",
   "metadata": {
    "execution": {
     "iopub.execute_input": "2025-10-03T06:58:07.750105Z",
     "iopub.status.busy": "2025-10-03T06:58:07.749229Z",
     "iopub.status.idle": "2025-10-03T06:58:09.473361Z",
     "shell.execute_reply": "2025-10-03T06:58:09.473123Z",
     "shell.execute_reply.started": "2025-10-03T06:58:07.750038Z"
    }
   },
   "outputs": [],
   "source": [
    "import numpy as np\n",
    "import pandas as pd\n",
    "import networkx as nx\n",
    "\n",
    "import matplotlib.pyplot as plt\n",
    "from matplotlib import cm\n",
    "import matplotlib as mpl"
   ]
  },
  {
   "cell_type": "code",
   "execution_count": 3,
   "id": "fb175290-0d46-46d8-acc3-f321039845b9",
   "metadata": {
    "execution": {
     "iopub.execute_input": "2025-10-03T06:58:09.474046Z",
     "iopub.status.busy": "2025-10-03T06:58:09.473913Z",
     "iopub.status.idle": "2025-10-03T06:58:10.159595Z",
     "shell.execute_reply": "2025-10-03T06:58:10.158996Z",
     "shell.execute_reply.started": "2025-10-03T06:58:09.474039Z"
    }
   },
   "outputs": [],
   "source": [
    "from scipy.linalg import expm"
   ]
  },
  {
   "cell_type": "code",
   "execution_count": 4,
   "id": "4bd1446b-125a-4d11-8235-7eabd9ccba28",
   "metadata": {
    "execution": {
     "iopub.execute_input": "2025-10-03T06:58:11.145456Z",
     "iopub.status.busy": "2025-10-03T06:58:11.144865Z",
     "iopub.status.idle": "2025-10-03T06:58:11.172872Z",
     "shell.execute_reply": "2025-10-03T06:58:11.172299Z",
     "shell.execute_reply.started": "2025-10-03T06:58:11.145422Z"
    }
   },
   "outputs": [],
   "source": [
    "def get_filename(filename: str, lecture_id: int = 1, file_extension: str = '.png') -> str:\n",
    "    return f\"L{lecture_id}_{filename}{file_extension}\"\n",
    "\n",
    "outdir = '../figures/'\n",
    "lecture_id = 5"
   ]
  },
  {
   "cell_type": "code",
   "execution_count": 5,
   "id": "f8d76e1f-7b51-436f-8913-5f11e5d89436",
   "metadata": {
    "execution": {
     "iopub.execute_input": "2025-10-03T06:58:16.338154Z",
     "iopub.status.busy": "2025-10-03T06:58:16.337843Z",
     "iopub.status.idle": "2025-10-03T06:58:16.365863Z",
     "shell.execute_reply": "2025-10-03T06:58:16.365143Z",
     "shell.execute_reply.started": "2025-10-03T06:58:16.338130Z"
    }
   },
   "outputs": [],
   "source": [
    "def zero_runs(a: np.ndarray, is_zero: bool = True):\n",
    "    '''\n",
    "    Find intervals where a==0 (or different)\n",
    "    '''\n",
    "    # Create an array that is 1 where a is 0, and pad each end with an extra 0.\n",
    "    if is_zero == True:\n",
    "        iszero = np.concatenate(([0], np.equal(a, 0).view(np.int8), [0]))\n",
    "    else:\n",
    "        iszero = np.concatenate(([0], (np.equal(a, 0)==False).view(np.int8), [0]))\n",
    "    absdiff = np.abs(np.diff(iszero))\n",
    "    # Runs start and end where absdiff is 1.\n",
    "    ranges = np.where(absdiff == 1)[0].reshape(-1, 2)\n",
    "    return ranges"
   ]
  },
  {
   "cell_type": "code",
   "execution_count": 6,
   "id": "c3f4f6bc-5c20-4e07-94ac-07a34471c0ad",
   "metadata": {
    "execution": {
     "iopub.execute_input": "2025-10-03T06:58:17.651435Z",
     "iopub.status.busy": "2025-10-03T06:58:17.650721Z",
     "iopub.status.idle": "2025-10-03T06:58:17.677777Z",
     "shell.execute_reply": "2025-10-03T06:58:17.677040Z",
     "shell.execute_reply.started": "2025-10-03T06:58:17.651389Z"
    }
   },
   "outputs": [],
   "source": [
    "'''\n",
    "------------------------------------------\n",
    "            SETTINGS\n",
    "------------------------------------------\n",
    "'''\n",
    "plt.style.use('fivethirtyeight')\n",
    "plt.style.use('seaborn-v0_8-white')\n",
    "plt.rcParams['font.family'] = 'PT Sans'\n",
    "# plt.rcParams['font.serif'] = 'Ubuntu'\n",
    "plt.rcParams['font.monospace'] = 'Ubuntu Mono'\n",
    "plt.rcParams['font.size'] = 14\n",
    "plt.rcParams['axes.labelsize'] = 14\n",
    "plt.rcParams['axes.labelweight'] = 'bold'\n",
    "plt.rcParams['xtick.labelsize'] = 12\n",
    "plt.rcParams['ytick.labelsize'] = 12\n",
    "plt.rcParams['legend.fontsize'] = 14\n",
    "plt.rcParams['figure.titlesize'] = 12\n",
    "\n",
    "fs = 20\n",
    "dpi = 100"
   ]
  },
  {
   "cell_type": "markdown",
   "id": "17dd20a7-ac3e-4802-a454-7db37a1637d7",
   "metadata": {},
   "source": [
    "## 1. Unfinished work $v(t)$\n",
    "Let's explore how this function looks like. \n",
    "For this we first need to specify:  \n",
    "    - Arrival times $\\tau_n$  \n",
    "    - Service times $x_n$"
   ]
  },
  {
   "cell_type": "markdown",
   "id": "a4df47c7-0614-482f-8678-0d2b227d2a60",
   "metadata": {
    "execution": {
     "iopub.execute_input": "2024-10-30T10:40:59.120940Z",
     "iopub.status.busy": "2024-10-30T10:40:59.120349Z",
     "iopub.status.idle": "2024-10-30T10:40:59.146965Z",
     "shell.execute_reply": "2024-10-30T10:40:59.146370Z",
     "shell.execute_reply.started": "2024-10-30T10:40:59.120900Z"
    }
   },
   "source": [
    "#### 1.1 Arrival times\n",
    "\n",
    "- Exponentially distributed i.i.d."
   ]
  },
  {
   "cell_type": "code",
   "execution_count": 7,
   "id": "0fe17f34-4940-48d6-a27c-ef578df9f24d",
   "metadata": {
    "execution": {
     "iopub.execute_input": "2025-10-03T06:58:29.909653Z",
     "iopub.status.busy": "2025-10-03T06:58:29.909114Z",
     "iopub.status.idle": "2025-10-03T06:58:29.933625Z",
     "shell.execute_reply": "2025-10-03T06:58:29.932975Z",
     "shell.execute_reply.started": "2025-10-03T06:58:29.909622Z"
    }
   },
   "outputs": [],
   "source": [
    "seed = 10\n",
    "prng = np.random.RandomState(seed)\n"
   ]
  },
  {
   "cell_type": "code",
   "execution_count": 8,
   "id": "f94b0432-3af4-4a12-91d9-39880825e9f0",
   "metadata": {
    "execution": {
     "iopub.execute_input": "2025-10-03T06:58:30.578383Z",
     "iopub.status.busy": "2025-10-03T06:58:30.577885Z",
     "iopub.status.idle": "2025-10-03T06:58:30.604551Z",
     "shell.execute_reply": "2025-10-03T06:58:30.603836Z",
     "shell.execute_reply.started": "2025-10-03T06:58:30.578352Z"
    }
   },
   "outputs": [],
   "source": [
    "n = 100 # number of packets\n",
    "lambda_tau = 1. # E[tau] = 1/lambda_tau\n",
    "taus = prng.exponential(scale=1/lambda_tau, size=n)"
   ]
  },
  {
   "cell_type": "markdown",
   "id": "393291ad-dcb4-4291-93b2-2a4db5b43b2a",
   "metadata": {
    "execution": {
     "iopub.execute_input": "2024-10-31T12:36:41.083212Z",
     "iopub.status.busy": "2024-10-31T12:36:41.082724Z",
     "iopub.status.idle": "2024-10-31T12:36:41.110588Z",
     "shell.execute_reply": "2024-10-31T12:36:41.109860Z",
     "shell.execute_reply.started": "2024-10-31T12:36:41.083181Z"
    }
   },
   "source": [
    "#### 1.2 Service time\n",
    "- Deterministic\n"
   ]
  },
  {
   "cell_type": "code",
   "execution_count": 23,
   "id": "6254f913-cd8f-4c29-a9bd-a4d22c1fa494",
   "metadata": {
    "execution": {
     "iopub.execute_input": "2025-10-03T07:02:11.719197Z",
     "iopub.status.busy": "2025-10-03T07:02:11.718392Z",
     "iopub.status.idle": "2025-10-03T07:02:11.745451Z",
     "shell.execute_reply": "2025-10-03T07:02:11.744964Z",
     "shell.execute_reply.started": "2025-10-03T07:02:11.719141Z"
    }
   },
   "outputs": [],
   "source": [
    "x = 0.8\n",
    "xs = x * np.ones(n)"
   ]
  },
  {
   "cell_type": "markdown",
   "id": "7e58e6b3-ed18-4c5e-8f4c-0bb0e0780a54",
   "metadata": {
    "execution": {
     "iopub.execute_input": "2024-12-02T10:16:17.364913Z",
     "iopub.status.busy": "2024-12-02T10:16:17.364338Z",
     "iopub.status.idle": "2024-12-02T10:16:17.391803Z",
     "shell.execute_reply": "2024-12-02T10:16:17.390913Z",
     "shell.execute_reply.started": "2024-12-02T10:16:17.364880Z"
    }
   },
   "source": [
    "Let's check the traffic intensity:\n",
    "- $\\rho = \\frac{E[x]}{E[\\tau]}$\n",
    "\n",
    "Expected service time over expected arrival time, the larger this number the busier the system gets. "
   ]
  },
  {
   "cell_type": "code",
   "execution_count": 24,
   "id": "bf3a0944-aace-4a71-ad76-52d704d54d5c",
   "metadata": {
    "execution": {
     "iopub.execute_input": "2025-10-03T07:02:12.253938Z",
     "iopub.status.busy": "2025-10-03T07:02:12.253268Z",
     "iopub.status.idle": "2025-10-03T07:02:12.281687Z",
     "shell.execute_reply": "2025-10-03T07:02:12.281144Z",
     "shell.execute_reply.started": "2025-10-03T07:02:12.253890Z"
    }
   },
   "outputs": [
    {
     "name": "stdout",
     "output_type": "stream",
     "text": [
      "rho=0.87\n"
     ]
    }
   ],
   "source": [
    "rho = np.mean(xs) / np.mean(taus)\n",
    "print(f\"rho={rho:.2f}\")"
   ]
  },
  {
   "cell_type": "markdown",
   "id": "c4bf7518-64d4-44fd-bd32-c5f907b4b073",
   "metadata": {
    "execution": {
     "iopub.execute_input": "2024-10-21T13:46:08.915302Z",
     "iopub.status.busy": "2024-10-21T13:46:08.913495Z",
     "iopub.status.idle": "2024-10-21T13:46:08.949114Z",
     "shell.execute_reply": "2024-10-21T13:46:08.948456Z",
     "shell.execute_reply.started": "2024-10-21T13:46:08.915217Z"
    }
   },
   "source": [
    "#### 1.3 Simulate $v(t)$\n",
    "We can now build functions to simulate $v(t)$ using:\n",
    "\n",
    "$v(t_{n}) = T_{n} = w_{n}+x_{n}$"
   ]
  },
  {
   "cell_type": "markdown",
   "id": "daad73f8-c76d-4e8f-a2cc-c0b891c4a932",
   "metadata": {
    "execution": {
     "iopub.execute_input": "2024-12-02T10:10:56.494655Z",
     "iopub.status.busy": "2024-12-02T10:10:56.493357Z",
     "iopub.status.idle": "2024-12-02T10:10:56.527909Z",
     "shell.execute_reply": "2024-12-02T10:10:56.527276Z",
     "shell.execute_reply.started": "2024-12-02T10:10:56.494580Z"
    }
   },
   "source": [
    "First we need to calculate $t_n$ from the interarrival $\\tau_n$"
   ]
  },
  {
   "cell_type": "code",
   "execution_count": 25,
   "id": "f575f806-7a53-429f-b364-f0eb80024955",
   "metadata": {
    "execution": {
     "iopub.execute_input": "2025-10-03T07:02:13.262225Z",
     "iopub.status.busy": "2025-10-03T07:02:13.261478Z",
     "iopub.status.idle": "2025-10-03T07:02:13.290680Z",
     "shell.execute_reply": "2025-10-03T07:02:13.290284Z",
     "shell.execute_reply.started": "2025-10-03T07:02:13.262175Z"
    }
   },
   "outputs": [
    {
     "data": {
      "text/plain": [
       "array([1.47543445, 0.0209703 , 1.0041613 , 1.3815213 , 0.69016565])"
      ]
     },
     "execution_count": 25,
     "metadata": {},
     "output_type": "execute_result"
    }
   ],
   "source": [
    "taus[:5]"
   ]
  },
  {
   "cell_type": "code",
   "execution_count": 26,
   "id": "b17b8616-43ff-44bb-a99b-959689ce73b5",
   "metadata": {
    "execution": {
     "iopub.execute_input": "2025-10-03T07:02:13.501332Z",
     "iopub.status.busy": "2025-10-03T07:02:13.500782Z",
     "iopub.status.idle": "2025-10-03T07:02:13.531403Z",
     "shell.execute_reply": "2025-10-03T07:02:13.531060Z",
     "shell.execute_reply.started": "2025-10-03T07:02:13.501293Z"
    }
   },
   "outputs": [
    {
     "data": {
      "text/plain": [
       "array([1.47543445, 1.49640474, 2.50056604, 3.88208734, 4.572253  ])"
      ]
     },
     "execution_count": 26,
     "metadata": {},
     "output_type": "execute_result"
    }
   ],
   "source": [
    "ts = np.cumsum(taus)\n",
    "ts[:5]"
   ]
  },
  {
   "cell_type": "code",
   "execution_count": 34,
   "id": "87228b5e-30f1-4603-9cfc-9c9079569d91",
   "metadata": {
    "execution": {
     "iopub.execute_input": "2025-10-03T07:03:20.296371Z",
     "iopub.status.busy": "2025-10-03T07:03:20.295092Z",
     "iopub.status.idle": "2025-10-03T07:03:20.330948Z",
     "shell.execute_reply": "2025-10-03T07:03:20.330381Z",
     "shell.execute_reply.started": "2025-10-03T07:03:20.296313Z"
    }
   },
   "outputs": [],
   "source": [
    "def simulate_queueing_system(taus: np.ndarray, xs: np.ndarray):\n",
    "    n = taus.shape[0]\n",
    "    assert xs.shape[0] == n\n",
    "\n",
    "    w = np.zeros(n) # waiting time\n",
    "    T = np.zeros(n) # service time\n",
    "    v = np.zeros(n) # workload\n",
    "\n",
    "    '''\n",
    "    Initial time step\n",
    "    Computed at time of initial arrival\n",
    "    '''\n",
    "    w[0] = 0 # waiting times\n",
    "    T[0] = xs[0] + w[0]\n",
    "    v[0] = T[0]\n",
    "    \n",
    "    '''\n",
    "    t > 0\n",
    "    '''\n",
    "    for j, tau in enumerate(taus[1:]):\n",
    "        i = j+1\n",
    "        # t_n = np.cumsum(taus[i])\n",
    "        w[i] = max(w[i-1] + xs[i-1] - tau,0)\n",
    "        T[i] = w[i] + xs[i]\n",
    "        v[i] = T[i]\n",
    "\n",
    "    return w,T,v\n"
   ]
  },
  {
   "cell_type": "code",
   "execution_count": 35,
   "id": "aea2a13e-aa31-4c9f-bc5c-9b63392d0ac3",
   "metadata": {
    "execution": {
     "iopub.execute_input": "2025-10-03T07:03:21.215556Z",
     "iopub.status.busy": "2025-10-03T07:03:21.215092Z",
     "iopub.status.idle": "2025-10-03T07:03:21.235216Z",
     "shell.execute_reply": "2025-10-03T07:03:21.234640Z",
     "shell.execute_reply.started": "2025-10-03T07:03:21.215529Z"
    }
   },
   "outputs": [],
   "source": [
    "w,T,v = simulate_queueing_system(taus,xs)"
   ]
  },
  {
   "cell_type": "markdown",
   "id": "d0f85f99-4d82-4cb5-aef1-b473a3ae5423",
   "metadata": {
    "execution": {
     "iopub.execute_input": "2024-12-02T10:09:08.383409Z",
     "iopub.status.busy": "2024-12-02T10:09:08.383006Z",
     "iopub.status.idle": "2024-12-02T10:09:08.408922Z",
     "shell.execute_reply": "2024-12-02T10:09:08.408080Z",
     "shell.execute_reply.started": "2024-12-02T10:09:08.383388Z"
    }
   },
   "source": [
    "So far this simulates **at** discrete time steps $t_n$.  \n",
    "But we can also fill the gaps **between** two successive $(t_n,t_{n+1})$, using:\n",
    "\n",
    "$v(t) = \\max \\{T_{n} - (t -t_{n}), 0\\} $"
   ]
  },
  {
   "cell_type": "code",
   "execution_count": 36,
   "id": "eec1e06e-af3d-45f4-8f31-4d67da35a85c",
   "metadata": {
    "execution": {
     "iopub.execute_input": "2025-10-03T07:03:41.038719Z",
     "iopub.status.busy": "2025-10-03T07:03:41.037991Z",
     "iopub.status.idle": "2025-10-03T07:03:41.065797Z",
     "shell.execute_reply": "2025-10-03T07:03:41.065316Z",
     "shell.execute_reply.started": "2025-10-03T07:03:41.038666Z"
    }
   },
   "outputs": [],
   "source": [
    "def get_intermediate_v(v,T,t, s = 100)-> np.ndarray:\n",
    "    '''\n",
    "    Get a continous-like representation of v (not just at discrete arrival/departures)\n",
    "    '''\n",
    "    n = v.shape[0]\n",
    "    Xaxis = [] #  x-values to sample in the x-axis\n",
    "    \n",
    "    xs = np.linspace(0,ts[0],s) # first time steps\n",
    "    Xaxis.extend(list(xs))\n",
    "    new_v = [0 for x in xs]\n",
    "    new_v[-1] = v[0]\n",
    "    for i in range(1,n):\n",
    "        xs = np.linspace(ts[i-1],ts[i],s) # first time steps\n",
    "        for t in xs:\n",
    "            v_t = max(T[i-1] - (t - ts[i-1]),0)\n",
    "            new_v.append(v_t)\n",
    "        # new_v[-1] = v[i]\n",
    "        Xaxis.extend(xs)\n",
    "    return new_v, Xaxis\n",
    "   "
   ]
  },
  {
   "cell_type": "markdown",
   "id": "330a97ee-c0fd-4c6a-8b2e-1867d3e91d63",
   "metadata": {
    "execution": {
     "iopub.execute_input": "2024-12-02T10:14:39.359358Z",
     "iopub.status.busy": "2024-12-02T10:14:39.358389Z",
     "iopub.status.idle": "2024-12-02T10:14:39.385731Z",
     "shell.execute_reply": "2024-12-02T10:14:39.384799Z",
     "shell.execute_reply.started": "2024-12-02T10:14:39.359303Z"
    }
   },
   "source": [
    "And we can also track $N_S(t)$, the number of packets under service at time $t$.  \n",
    "For this, you need the arrival times $t_n$ and departure times $r_n$ and then update $N_S(t)$:\n",
    "- Each time a packet arrives in the queue: `N_S(t) += 1`\n",
    "- Each time a packet departs the system: `N_S(t) -= 1`"
   ]
  },
  {
   "cell_type": "code",
   "execution_count": 37,
   "id": "62ebaee6-b4ca-493f-ab19-3903cc3bb852",
   "metadata": {
    "execution": {
     "iopub.execute_input": "2025-10-03T07:03:42.588881Z",
     "iopub.status.busy": "2025-10-03T07:03:42.588219Z",
     "iopub.status.idle": "2025-10-03T07:03:42.618122Z",
     "shell.execute_reply": "2025-10-03T07:03:42.617643Z",
     "shell.execute_reply.started": "2025-10-03T07:03:42.588832Z"
    }
   },
   "outputs": [],
   "source": [
    "     \n",
    "def get_N_S(T,ts, s = 100) ->(list,list):\n",
    "    '''\n",
    "    Get a continous-like representation of N_S (not just at discrete arrival/departures)\n",
    "    '''\n",
    "    n = T.shape[0]\n",
    "    assert n == ts.shape[0], f\"{n},{ts.shape[0]}\"\n",
    "    \n",
    "    rs = ts + T # departure times\n",
    "    Xaxis = [] #  x-values to sample in the x-axis\n",
    "    \n",
    "    xs = np.linspace(0,ts[0],s) # first time steps\n",
    "    Xaxis.extend(list(xs))\n",
    "    N_S = [0 for x in xs]\n",
    "    N_S[-1] = 1 # first time interval recieves one packet at time ts[0] (the first)\n",
    "    queue = [0]\n",
    "    for i in range(1,n):\n",
    "        xs = np.linspace(ts[i-1],ts[i],s) # first time steps\n",
    "        for t in xs:\n",
    "            departed = []\n",
    "            N_S_t = N_S[-1]\n",
    "            for j in queue: # run over all packets in the queue and check if they depart\n",
    "                if t > rs[j]: # packet i-th departs\n",
    "                    N_S_t = max(N_S_t-1,0)\n",
    "                    departed.append(j)\n",
    "\n",
    "            N_S.append(N_S_t)\n",
    "            queue = [j for j in queue if j not in departed]\n",
    "        N_S[-1] += 1\n",
    "        queue.append(i)\n",
    "        Xaxis.extend(xs)\n",
    "    return N_S, Xaxis"
   ]
  },
  {
   "cell_type": "code",
   "execution_count": 38,
   "id": "341a665d-200c-415a-b9d3-64061e6760eb",
   "metadata": {
    "execution": {
     "iopub.execute_input": "2025-10-03T07:03:44.041966Z",
     "iopub.status.busy": "2025-10-03T07:03:44.041454Z",
     "iopub.status.idle": "2025-10-03T07:03:44.080805Z",
     "shell.execute_reply": "2025-10-03T07:03:44.080415Z",
     "shell.execute_reply.started": "2025-10-03T07:03:44.041928Z"
    }
   },
   "outputs": [],
   "source": [
    "s = 100\n",
    "new_v, Xaxis = get_intermediate_v(v,T,ts,s=s)\n",
    "N_S, XaxisS = get_N_S(T,ts,s)\n",
    "\n",
    "assert len(N_S) == len(XaxisS)"
   ]
  },
  {
   "cell_type": "code",
   "execution_count": 39,
   "id": "5d6bfde1-b430-4c05-bbb3-825014e53d2c",
   "metadata": {
    "execution": {
     "iopub.execute_input": "2025-10-03T07:03:44.434487Z",
     "iopub.status.busy": "2025-10-03T07:03:44.434027Z",
     "iopub.status.idle": "2025-10-03T07:03:44.456392Z",
     "shell.execute_reply": "2025-10-03T07:03:44.455874Z",
     "shell.execute_reply.started": "2025-10-03T07:03:44.434454Z"
    }
   },
   "outputs": [],
   "source": [
    "if n < 20:\n",
    "    filename = 'queue_basic_stats'\n",
    "    outfile = get_filename(filename,lecture_id=lecture_id)\n",
    "else:\n",
    "    outfile = None"
   ]
  },
  {
   "cell_type": "code",
   "execution_count": 40,
   "id": "690d7450-04c9-4d03-8719-7024a73a23de",
   "metadata": {
    "execution": {
     "iopub.execute_input": "2025-10-03T07:03:45.084211Z",
     "iopub.status.busy": "2025-10-03T07:03:45.083751Z",
     "iopub.status.idle": "2025-10-03T07:03:45.235119Z",
     "shell.execute_reply": "2025-10-03T07:03:45.234843Z",
     "shell.execute_reply.started": "2025-10-03T07:03:45.084186Z"
    }
   },
   "outputs": [
    {
     "data": {
      "image/png": "[encoded data removed]",
      "text/plain": [
       "<Figure size 800x400 with 3 Axes>"
      ]
     },
     "metadata": {},
     "output_type": "display_data"
    }
   ],
   "source": [
    "\n",
    "fig, ax = plt.subplots(3,1, sharex=True, figsize=(8,4))\n",
    "\n",
    "ax[0].scatter(ts, np.ones(n) * prng.uniform(-1,1, size=n) * 0.5, s = 100, edgecolors='black')\n",
    "ax[0].set_ylabel('Arrival')\n",
    "ax[0].set_xlabel('t')\n",
    "ax[0].set(yticklabels=[])\n",
    "ax[0].set_ylim(-1,1)\n",
    "# plt.yticks(np.arange(1,2))\n",
    "\n",
    "ax[1].plot(Xaxis,new_v)\n",
    "ax[1].set_ylabel(r'$v(t)$')\n",
    "ax[1].set_xlabel('t')\n",
    "\n",
    "ax[2].plot(XaxisS,N_S)\n",
    "ax[2].set_ylabel(r'$N_S(t)$')\n",
    "ax[2].set_xlabel('t')\n",
    "ax[2].set_yticks(np.arange(max(N_S)+1))\n",
    "ax[2].grid(axis='y')\n",
    "\n",
    "'''\n",
    "Highlight idle times\n",
    "'''\n",
    "idle_times = zero_runs(new_v)\n",
    "for i,(a,b) in enumerate(idle_times):\n",
    "    ax[1].axvspan(Xaxis[a], Xaxis[min(b,len(Xaxis)-1)], alpha=0.1, color='b')\n",
    "    ax[2].axvspan(Xaxis[a], Xaxis[min(b,len(Xaxis)-1)], alpha=0.1, color='b')\n",
    "\n",
    "'''\n",
    "Highlight mean service time\n",
    "'''\n",
    "ax[0].fill_betweenx(np.ones(n),np.zeros(n),np.mean(xs) * np.ones(n))\n",
    "ax[0].axvspan(0, np.mean(xs), alpha=0.5, color='red')\n",
    "ax[0].plot([0,np.mean(xs)],[0,0],lw=5,color='r')\n",
    "ax[0].text(np.mean(xs) * 0.5 * 0.9,0.2,r'$x_c$', fontsize=20)\n",
    "plt.tight_layout()\n",
    "# plt.show()\n",
    "if outfile is not None:\n",
    "    \n",
    "    plt.savefig(f\"{outdir}{outfile}\", dpi=dpi, format=None, metadata=None,\n",
    "                bbox_inches='tight', pad_inches=0.1,\n",
    "                facecolor='auto', edgecolor='auto',\n",
    "                backend=None\n",
    "                )\n",
    "    print(f\"Figure saved in {outdir}{outfile}\")\n",
    "        \n",
    "plt.show()"
   ]
  },
  {
   "cell_type": "markdown",
   "id": "dfa04bc4-2fe4-4c49-bc22-15dfe11eff4a",
   "metadata": {
    "execution": {
     "iopub.execute_input": "2024-12-02T10:18:37.767399Z",
     "iopub.status.busy": "2024-12-02T10:18:37.766972Z",
     "iopub.status.idle": "2024-12-02T10:18:37.792712Z",
     "shell.execute_reply": "2024-12-02T10:18:37.792049Z",
     "shell.execute_reply.started": "2024-12-02T10:18:37.767373Z"
    }
   },
   "source": [
    "- Blue shades show idle times\n",
    "- Red area shows the expected service time $x_c = E[x]$"
   ]
  },
  {
   "cell_type": "markdown",
   "id": "1bbaff2f-98de-415c-8b4b-7d4d51cf0501",
   "metadata": {},
   "source": [
    "#### 1.4 Investigate waiting times "
   ]
  },
  {
   "cell_type": "code",
   "execution_count": 41,
   "id": "2ae21728-4989-4ddd-b9b9-741a53e3924e",
   "metadata": {
    "execution": {
     "iopub.execute_input": "2025-10-03T07:04:00.079380Z",
     "iopub.status.busy": "2025-10-03T07:04:00.078819Z",
     "iopub.status.idle": "2025-10-03T07:04:00.106762Z",
     "shell.execute_reply": "2025-10-03T07:04:00.106011Z",
     "shell.execute_reply.started": "2025-10-03T07:04:00.079338Z"
    }
   },
   "outputs": [],
   "source": [
    "outfile = None"
   ]
  },
  {
   "cell_type": "code",
   "execution_count": 42,
   "id": "b94b2dc5-006b-41e0-bcd5-30f2094ade68",
   "metadata": {
    "execution": {
     "iopub.execute_input": "2025-10-03T07:04:02.109900Z",
     "iopub.status.busy": "2025-10-03T07:04:02.109448Z",
     "iopub.status.idle": "2025-10-03T07:04:02.243190Z",
     "shell.execute_reply": "2025-10-03T07:04:02.242893Z",
     "shell.execute_reply.started": "2025-10-03T07:04:02.109874Z"
    }
   },
   "outputs": [
    {
     "data": {
      "image/png": "[encoded data removed]",
      "text/plain": [
       "<Figure size 800x400 with 2 Axes>"
      ]
     },
     "metadata": {},
     "output_type": "display_data"
    }
   ],
   "source": [
    "fig, ax = plt.subplots(1,2,  figsize=(8,4))\n",
    "\n",
    "nmax = min(n,20)\n",
    "ax[0].bar(np.arange(n)[:nmax], w[:nmax])\n",
    "ax[0].set_xlabel('Packet id')\n",
    "ax[0].set_ylabel(r'$w_n$ (time unit)')\n",
    "ax[0].set_xticks(np.arange(n)[:nmax],labels=np.arange(n)[:nmax])\n",
    "x_axis = np.linspace(0,nmax,100)\n",
    "avg_xs = np.mean(xs)\n",
    "ax[0].plot(x_axis,np.ones(x_axis.shape[0])*avg_xs,ls='--',label= 'Average service time', c='b', lw=2, zorder=0)\n",
    "ax[0].legend()\n",
    "           \n",
    "ax[1].hist(w)\n",
    "ax[1].set_ylabel('Number of packets')\n",
    "ax[1].set_xlabel(r'$w_n$ (time unit)')\n",
    "# ax[1].plot(x_axis,np.ones(x_axis.shape[0])*avg_xs)\n",
    "ax[1].axvline(x=avg_xs,ls='--',label= 'Average service time', c='b', lw=2, zorder=1)\n",
    "ax[1].legend()\n",
    "\n",
    "plt.tight_layout()\n",
    "# plt.show()\n",
    "if outfile is not None:\n",
    "    \n",
    "    plt.savefig(f\"{outdir}{outfile}\", dpi=dpi, format=None, metadata=None,\n",
    "                bbox_inches='tight', pad_inches=0.1,\n",
    "                facecolor='auto', edgecolor='auto',\n",
    "                backend=None\n",
    "                )\n",
    "    print(f\"Figure saved in {outdir}{outfile}\")\n",
    "        \n",
    "plt.show()"
   ]
  },
  {
   "cell_type": "markdown",
   "id": "94a43cc1-e7ea-4182-8f4e-a590ab61d400",
   "metadata": {},
   "source": [
    "#### 1.5 Investigate busy and idle distribution"
   ]
  },
  {
   "cell_type": "code",
   "execution_count": 43,
   "id": "05669a51-f731-4751-9255-fce040e12876",
   "metadata": {
    "execution": {
     "iopub.execute_input": "2025-10-03T07:04:25.408019Z",
     "iopub.status.busy": "2025-10-03T07:04:25.407611Z",
     "iopub.status.idle": "2025-10-03T07:04:25.434562Z",
     "shell.execute_reply": "2025-10-03T07:04:25.434082Z",
     "shell.execute_reply.started": "2025-10-03T07:04:25.407993Z"
    }
   },
   "outputs": [],
   "source": [
    "idle_times = zero_runs(new_v)\n",
    "busy_times = zero_runs(new_v,is_zero=False)"
   ]
  },
  {
   "cell_type": "code",
   "execution_count": 44,
   "id": "1047353e-32e4-4bfc-9235-debac536f66f",
   "metadata": {
    "execution": {
     "iopub.execute_input": "2025-10-03T07:04:25.726659Z",
     "iopub.status.busy": "2025-10-03T07:04:25.726070Z",
     "iopub.status.idle": "2025-10-03T07:04:25.755376Z",
     "shell.execute_reply": "2025-10-03T07:04:25.754956Z",
     "shell.execute_reply.started": "2025-10-03T07:04:25.726619Z"
    }
   },
   "outputs": [],
   "source": [
    "idle_dt = []\n",
    "busy_dt = []\n",
    "\n",
    "for i,(a,b) in enumerate(idle_times):\n",
    "    idle_dt.append(Xaxis[min(b,len(Xaxis)-1)]-Xaxis[a])\n",
    "for i,(a,b) in enumerate(busy_times):\n",
    "    busy_dt.append(Xaxis[min(b,len(Xaxis)-1)]-Xaxis[a])"
   ]
  },
  {
   "cell_type": "code",
   "execution_count": 45,
   "id": "523e1f0b-fd75-4985-8c9d-f21314bbfe87",
   "metadata": {
    "execution": {
     "iopub.execute_input": "2025-10-03T07:04:26.195453Z",
     "iopub.status.busy": "2025-10-03T07:04:26.194848Z",
     "iopub.status.idle": "2025-10-03T07:04:26.358371Z",
     "shell.execute_reply": "2025-10-03T07:04:26.358106Z",
     "shell.execute_reply.started": "2025-10-03T07:04:26.195408Z"
    }
   },
   "outputs": [
    {
     "data": {
      "image/png": "[encoded data removed]",
      "text/plain": [
       "<Figure size 800x400 with 2 Axes>"
      ]
     },
     "metadata": {},
     "output_type": "display_data"
    }
   ],
   "source": [
    "fig, ax = plt.subplots(1,2, sharex=True, figsize=(8,4))\n",
    "\n",
    "ax[0].hist(idle_dt)\n",
    "ax[0].set_ylabel('Number of idle periods')\n",
    "ax[0].set_xlabel(r'Idle time (time unit)')\n",
    "\n",
    "ax[1].hist(busy_dt)\n",
    "ax[1].set_ylabel('Number of busy periods')\n",
    "ax[1].set_xlabel(r'Busy time (time unit)')\n",
    "\n",
    "\n",
    "plt.tight_layout()"
   ]
  },
  {
   "cell_type": "markdown",
   "id": "99bef2bb-1a0a-4c83-b0ce-ece28a43de0a",
   "metadata": {},
   "source": [
    "#### 1.6 Little's law\n",
    "Let's now test Little's law on the simulated process above, which say that at the _steady-state_ (if it exists), we have:\n",
    "- $E[N_{S}] = \\lambda \\, E[T]$,\n",
    "\n",
    "  where:\n",
    "  - $\\lim_{t \\rightarrow \\infty} \\frac{1}{t}\\,\\int_{0}^{t}N_{S}(u)\\, du = E[N_{S}]$\n",
    "\n",
    "is the mean number of packets in the system; $\\lambda$ is the mean rate of arrivals and $E[T]$ is the mean time spent in a state (system or queue). \n",
    "\n"
   ]
  },
  {
   "cell_type": "markdown",
   "id": "93dff0c1-2f94-4b7d-8b9a-8d9d0f7273be",
   "metadata": {
    "execution": {
     "iopub.execute_input": "2024-12-02T10:38:21.604289Z",
     "iopub.status.busy": "2024-12-02T10:38:21.602667Z",
     "iopub.status.idle": "2024-12-02T10:38:21.646402Z",
     "shell.execute_reply": "2024-12-02T10:38:21.645675Z",
     "shell.execute_reply.started": "2024-12-02T10:38:21.604209Z"
    }
   },
   "source": [
    "As we do not have the analytical expression for $N_S(t)$, we can approximate with discrete time intervals $\\Delta t_n$, and\n",
    "take the piece-wise constant integral with:\n",
    "- $N_S(\\Delta t_n) \\approx \\frac{1}{2} [N_S(t_{n+1}) + N_S(t_{n})]$"
   ]
  },
  {
   "cell_type": "code",
   "execution_count": 46,
   "id": "b49b0469-c2c6-48e8-8d65-8482ed3e28c8",
   "metadata": {
    "execution": {
     "iopub.execute_input": "2025-10-03T07:06:50.176497Z",
     "iopub.status.busy": "2025-10-03T07:06:50.176095Z",
     "iopub.status.idle": "2025-10-03T07:06:50.203242Z",
     "shell.execute_reply": "2025-10-03T07:06:50.202704Z",
     "shell.execute_reply.started": "2025-10-03T07:06:50.176468Z"
    }
   },
   "outputs": [
    {
     "name": "stdout",
     "output_type": "stream",
     "text": [
      "E[N_S] = 2.297 (piece-wise constant discrete approx)\n"
     ]
    }
   ],
   "source": [
    "Exp_N_S = 0\n",
    "for i in range(0,len(N_S)-1):\n",
    "    Exp_N_S += 0.5 * (N_S[i+1]+N_S[i]) * (XaxisS[i+1] - XaxisS[i])\n",
    "\n",
    "\n",
    "print(f\"E[N_S] = {Exp_N_S /(XaxisS[-1]-XaxisS[0]):.3f} (piece-wise constant discrete approx)\")"
   ]
  },
  {
   "cell_type": "markdown",
   "id": "26ed2ea7-c9b9-401c-b9bb-e634eff55f8b",
   "metadata": {
    "execution": {
     "iopub.execute_input": "2024-12-02T10:43:09.691907Z",
     "iopub.status.busy": "2024-12-02T10:43:09.690764Z",
     "iopub.status.idle": "2024-12-02T10:43:09.721020Z",
     "shell.execute_reply": "2024-12-02T10:43:09.720234Z",
     "shell.execute_reply.started": "2024-12-02T10:43:09.691846Z"
    }
   },
   "source": [
    "Notice what you would get if you approximate:\n",
    "- $N_S(t) \\approx \\hat{N}_S$,\n",
    "- where $\\hat{N}_S$ is the empirical mean $\\hat{N}_S = \\frac{1}{N} \\sum_{n=1}^{N} N_S(t_n)$"
   ]
  },
  {
   "cell_type": "code",
   "execution_count": 47,
   "id": "1ff7d41a-764c-400d-920b-8cc6b95470ce",
   "metadata": {
    "execution": {
     "iopub.execute_input": "2025-10-03T07:06:55.604106Z",
     "iopub.status.busy": "2025-10-03T07:06:55.603596Z",
     "iopub.status.idle": "2025-10-03T07:06:55.630304Z",
     "shell.execute_reply": "2025-10-03T07:06:55.629706Z",
     "shell.execute_reply.started": "2025-10-03T07:06:55.604074Z"
    }
   },
   "outputs": [
    {
     "name": "stdout",
     "output_type": "stream",
     "text": [
      "E[N_S] = 2.558 (empirical mean)\n"
     ]
    }
   ],
   "source": [
    "print(f\"E[N_S] = {np.mean(N_S[10:]):.3f} (empirical mean)\")"
   ]
  },
  {
   "cell_type": "markdown",
   "id": "82c9a95b-7912-4a4d-984b-dd424a5e60ed",
   "metadata": {
    "execution": {
     "iopub.execute_input": "2024-12-02T10:48:01.014214Z",
     "iopub.status.busy": "2024-12-02T10:48:01.007521Z",
     "iopub.status.idle": "2024-12-02T10:48:01.042654Z",
     "shell.execute_reply": "2024-12-02T10:48:01.042029Z",
     "shell.execute_reply.started": "2024-12-02T10:48:01.014129Z"
    }
   },
   "source": [
    "Let's now compute the RHS of Little's law and compare:\n",
    " - $ \\lim_{n\\rightarrow \\infty}\\frac{1}{n} \\sum_{k=1}^{n}T_{k} = E[T]$\n",
    " - $ \\lim_{n\\rightarrow \\infty}\\frac{1}{n}\\sum_{k=1}^{n}(\\tau_{k}-\\tau_{k-1}) = \\frac{1}{\\lambda}$, where $\\lambda$ is mean _rate_ of arrival"
   ]
  },
  {
   "cell_type": "code",
   "execution_count": 48,
   "id": "f4fed555-7822-4ca1-8165-07063210a86d",
   "metadata": {
    "execution": {
     "iopub.execute_input": "2025-10-03T07:07:10.917039Z",
     "iopub.status.busy": "2025-10-03T07:07:10.915702Z",
     "iopub.status.idle": "2025-10-03T07:07:10.943050Z",
     "shell.execute_reply": "2025-10-03T07:07:10.942615Z",
     "shell.execute_reply.started": "2025-10-03T07:07:10.916978Z"
    }
   },
   "outputs": [
    {
     "data": {
      "text/plain": [
       "(np.float64(0.9142983191233561), 1.0)"
      ]
     },
     "execution_count": 48,
     "metadata": {},
     "output_type": "execute_result"
    }
   ],
   "source": [
    "np.mean(taus), 1. / lambda_tau"
   ]
  },
  {
   "cell_type": "code",
   "execution_count": 49,
   "id": "30109887-53f0-43ba-b87a-a682ed5fa1a5",
   "metadata": {
    "execution": {
     "iopub.execute_input": "2025-10-03T07:07:11.675454Z",
     "iopub.status.busy": "2025-10-03T07:07:11.674755Z",
     "iopub.status.idle": "2025-10-03T07:07:11.702851Z",
     "shell.execute_reply": "2025-10-03T07:07:11.702362Z",
     "shell.execute_reply.started": "2025-10-03T07:07:11.675401Z"
    }
   },
   "outputs": [
    {
     "name": "stdout",
     "output_type": "stream",
     "text": [
      "lambda x E[T] = 2.317\n"
     ]
    }
   ],
   "source": [
    "print(f\"lambda x E[T] = {1. /np.mean(taus) * np.mean(T):.3f}\")"
   ]
  },
  {
   "cell_type": "code",
   "execution_count": 50,
   "id": "66792c55-5320-4e99-a03b-6e3e8bc63b05",
   "metadata": {
    "execution": {
     "iopub.execute_input": "2025-10-03T07:07:12.068648Z",
     "iopub.status.busy": "2025-10-03T07:07:12.068130Z",
     "iopub.status.idle": "2025-10-03T07:07:12.095331Z",
     "shell.execute_reply": "2025-10-03T07:07:12.094720Z",
     "shell.execute_reply.started": "2025-10-03T07:07:12.068611Z"
    }
   },
   "outputs": [
    {
     "name": "stdout",
     "output_type": "stream",
     "text": [
      "lambda x E[T] = 2.118\n"
     ]
    }
   ],
   "source": [
    "print(f\"lambda x E[T] = {lambda_tau * np.mean(T):.3f}\")"
   ]
  },
  {
   "cell_type": "markdown",
   "id": "efd0d5ee-a0af-4627-bf0d-a64aa8113277",
   "metadata": {},
   "source": [
    "#### Rerun with many more packets\n",
    "TODO"
   ]
  },
  {
   "cell_type": "markdown",
   "id": "e5193be8-4dc7-4e14-b9e9-b5604bb2983e",
   "metadata": {
    "execution": {
     "iopub.execute_input": "2024-11-05T15:38:05.912012Z",
     "iopub.status.busy": "2024-11-05T15:38:05.911387Z",
     "iopub.status.idle": "2024-11-05T15:38:05.938781Z",
     "shell.execute_reply": "2024-11-05T15:38:05.938029Z",
     "shell.execute_reply.started": "2024-11-05T15:38:05.911964Z"
    }
   },
   "source": [
    "## 2. D/D/1 example\n",
    "- Both arrival and service time are _deterministic_  \n",
    "\n",
    "We should vary and see what happens:\n",
    "  1. $\\rho <1$\n",
    "  2. $\\rho \\sim 1$\n",
    "  3. $\\rho > 1$"
   ]
  },
  {
   "cell_type": "code",
   "execution_count": 51,
   "id": "656c5d99-af2e-4771-9b5c-e6126065a860",
   "metadata": {
    "execution": {
     "iopub.execute_input": "2025-10-03T07:08:29.582184Z",
     "iopub.status.busy": "2025-10-03T07:08:29.581745Z",
     "iopub.status.idle": "2025-10-03T07:08:29.608848Z",
     "shell.execute_reply": "2025-10-03T07:08:29.608298Z",
     "shell.execute_reply.started": "2025-10-03T07:08:29.582147Z"
    }
   },
   "outputs": [],
   "source": [
    "seed = 10\n",
    "prng = np.random.RandomState(seed)"
   ]
  },
  {
   "cell_type": "code",
   "execution_count": 52,
   "id": "1d89195e-123d-4faa-9f5c-2d4c16db21f4",
   "metadata": {
    "execution": {
     "iopub.execute_input": "2025-10-03T07:08:30.329585Z",
     "iopub.status.busy": "2025-10-03T07:08:30.328948Z",
     "iopub.status.idle": "2025-10-03T07:08:30.356417Z",
     "shell.execute_reply": "2025-10-03T07:08:30.355976Z",
     "shell.execute_reply.started": "2025-10-03T07:08:30.329544Z"
    }
   },
   "outputs": [
    {
     "name": "stdout",
     "output_type": "stream",
     "text": [
      "rho = 0.50\n"
     ]
    }
   ],
   "source": [
    "x_c = 0.5\n",
    "tau_c = 1.0 \n",
    "rho = x_c / tau_c\n",
    "print(f\"rho = {rho:.2f}\")\n",
    "assert x_c / tau_c < 1"
   ]
  },
  {
   "cell_type": "code",
   "execution_count": 53,
   "id": "baa4c8ad-1c78-46f4-91d1-cd42ea0df30a",
   "metadata": {
    "execution": {
     "iopub.execute_input": "2025-10-03T07:08:31.561629Z",
     "iopub.status.busy": "2025-10-03T07:08:31.561347Z",
     "iopub.status.idle": "2025-10-03T07:08:31.586486Z",
     "shell.execute_reply": "2025-10-03T07:08:31.585934Z",
     "shell.execute_reply.started": "2025-10-03T07:08:31.561608Z"
    }
   },
   "outputs": [],
   "source": [
    "n = 20 # number of packets\n",
    "taus = tau_c * np.ones(n)\n",
    "xs = x_c * np.ones(n)"
   ]
  },
  {
   "cell_type": "code",
   "execution_count": 54,
   "id": "a5dc2d1c-8427-4d9f-b8a4-4a28744383d8",
   "metadata": {
    "execution": {
     "iopub.execute_input": "2025-10-03T07:08:31.779501Z",
     "iopub.status.busy": "2025-10-03T07:08:31.778725Z",
     "iopub.status.idle": "2025-10-03T07:08:31.807849Z",
     "shell.execute_reply": "2025-10-03T07:08:31.807183Z",
     "shell.execute_reply.started": "2025-10-03T07:08:31.779435Z"
    }
   },
   "outputs": [],
   "source": [
    "ts = np.cumsum(taus)"
   ]
  },
  {
   "cell_type": "code",
   "execution_count": 55,
   "id": "9755c2fd-874e-44fc-ad65-a8059152b0eb",
   "metadata": {
    "execution": {
     "iopub.execute_input": "2025-10-03T07:08:32.200589Z",
     "iopub.status.busy": "2025-10-03T07:08:32.200091Z",
     "iopub.status.idle": "2025-10-03T07:08:32.226917Z",
     "shell.execute_reply": "2025-10-03T07:08:32.226200Z",
     "shell.execute_reply.started": "2025-10-03T07:08:32.200557Z"
    }
   },
   "outputs": [],
   "source": [
    "w,T,v = simulate_queueing_system(taus,xs)"
   ]
  },
  {
   "cell_type": "code",
   "execution_count": 56,
   "id": "1cbcaa75-b359-45ef-a69e-05338b401d61",
   "metadata": {
    "execution": {
     "iopub.execute_input": "2025-10-03T07:08:32.893584Z",
     "iopub.status.busy": "2025-10-03T07:08:32.892994Z",
     "iopub.status.idle": "2025-10-03T07:08:32.917695Z",
     "shell.execute_reply": "2025-10-03T07:08:32.916998Z",
     "shell.execute_reply.started": "2025-10-03T07:08:32.893541Z"
    }
   },
   "outputs": [],
   "source": [
    "s = 100\n",
    "new_v, Xaxis = get_intermediate_v(v,T,ts,s=s)\n",
    "N_S, XaxisS = get_N_S(T,ts,s)\n",
    "\n",
    "assert len(N_S) == len(XaxisS)"
   ]
  },
  {
   "cell_type": "code",
   "execution_count": 57,
   "id": "ffdc65e3-ba3e-46b9-a6df-00ba6a8c4918",
   "metadata": {
    "execution": {
     "iopub.execute_input": "2025-10-03T07:08:33.505529Z",
     "iopub.status.busy": "2025-10-03T07:08:33.505113Z",
     "iopub.status.idle": "2025-10-03T07:08:33.527052Z",
     "shell.execute_reply": "2025-10-03T07:08:33.526555Z",
     "shell.execute_reply.started": "2025-10-03T07:08:33.505501Z"
    }
   },
   "outputs": [],
   "source": [
    "outfile = None"
   ]
  },
  {
   "cell_type": "code",
   "execution_count": 58,
   "id": "066b4ee7-0410-4850-b7b6-8fd68e6ae2d7",
   "metadata": {
    "execution": {
     "iopub.execute_input": "2025-10-03T07:08:34.033396Z",
     "iopub.status.busy": "2025-10-03T07:08:34.032806Z",
     "iopub.status.idle": "2025-10-03T07:08:34.190928Z",
     "shell.execute_reply": "2025-10-03T07:08:34.190673Z",
     "shell.execute_reply.started": "2025-10-03T07:08:34.033354Z"
    }
   },
   "outputs": [
    {
     "data": {
      "image/png": "[encoded data removed]",
      "text/plain": [
       "<Figure size 800x400 with 3 Axes>"
      ]
     },
     "metadata": {},
     "output_type": "display_data"
    }
   ],
   "source": [
    "\n",
    "fig, ax = plt.subplots(3,1, sharex=True, figsize=(8,4))\n",
    "\n",
    "ax[0].scatter(ts, np.ones(n) * prng.uniform(-1,1, size=n) * 0.5, s = 100, edgecolors='black')\n",
    "ax[0].set_ylabel('Arrival')\n",
    "ax[0].set_xlabel('t')\n",
    "ax[0].set(yticklabels=[])\n",
    "ax[0].set_ylim(-1,1)\n",
    "# plt.yticks(np.arange(1,2))\n",
    "\n",
    "ax[1].plot(Xaxis,new_v)\n",
    "ax[1].set_ylabel(r'$v(t)$')\n",
    "ax[1].set_xlabel('t')\n",
    "\n",
    "ax[2].plot(XaxisS,N_S)\n",
    "ax[2].set_ylabel(r'$N_S(t)$')\n",
    "ax[2].set_xlabel('t')\n",
    "ax[2].set_yticks(np.arange(max(N_S)+1))\n",
    "ax[2].grid(axis='y')\n",
    "\n",
    "'''\n",
    "Highlight idle times\n",
    "'''\n",
    "idle_times = zero_runs(new_v)\n",
    "for i,(a,b) in enumerate(idle_times):\n",
    "    ax[1].axvspan(Xaxis[a], Xaxis[min(b,len(Xaxis)-1)], alpha=0.1, color='b')\n",
    "    ax[2].axvspan(Xaxis[a], Xaxis[min(b,len(Xaxis)-1)], alpha=0.1, color='b')\n",
    "\n",
    "'''\n",
    "Highlight mean service time\n",
    "'''\n",
    "ax[0].fill_betweenx(np.ones(n),np.zeros(n),np.mean(xs) * np.ones(n))\n",
    "ax[0].axvspan(0, np.mean(xs), alpha=0.5, color='red')\n",
    "ax[0].plot([0,np.mean(xs)],[0,0],lw=5,color='r')\n",
    "ax[0].text(np.mean(xs) * 0.5 * 0.9,0.2,r'$x_c$', fontsize=20)\n",
    "plt.tight_layout()\n",
    "# plt.show()\n",
    "if outfile is not None:\n",
    "    \n",
    "    plt.savefig(f\"{outdir}{outfile}\", dpi=dpi, format=None, metadata=None,\n",
    "                bbox_inches='tight', pad_inches=0.1,\n",
    "                facecolor='auto', edgecolor='auto',\n",
    "                backend=None\n",
    "                )\n",
    "    print(f\"Figure saved in {outdir}{outfile}\")\n",
    "        \n",
    "plt.show()"
   ]
  },
  {
   "cell_type": "markdown",
   "id": "59ba376f-fdf6-444e-ba36-dc9abfa5cc6f",
   "metadata": {},
   "source": [
    "Check the waiting times"
   ]
  },
  {
   "cell_type": "code",
   "execution_count": 59,
   "id": "4242b580-19cc-4a14-a3c4-6195ade7fb20",
   "metadata": {
    "execution": {
     "iopub.execute_input": "2025-10-03T07:09:22.097150Z",
     "iopub.status.busy": "2025-10-03T07:09:22.096088Z",
     "iopub.status.idle": "2025-10-03T07:09:22.123925Z",
     "shell.execute_reply": "2025-10-03T07:09:22.123503Z",
     "shell.execute_reply.started": "2025-10-03T07:09:22.097069Z"
    }
   },
   "outputs": [],
   "source": [
    "outfile = None"
   ]
  },
  {
   "cell_type": "code",
   "execution_count": 60,
   "id": "30c3c5ff-27c8-4831-a843-c98594aa4a49",
   "metadata": {
    "execution": {
     "iopub.execute_input": "2025-10-03T07:09:22.509606Z",
     "iopub.status.busy": "2025-10-03T07:09:22.509288Z",
     "iopub.status.idle": "2025-10-03T07:09:22.638251Z",
     "shell.execute_reply": "2025-10-03T07:09:22.637984Z",
     "shell.execute_reply.started": "2025-10-03T07:09:22.509587Z"
    }
   },
   "outputs": [
    {
     "data": {
      "image/png": "[encoded data removed]",
      "text/plain": [
       "<Figure size 800x400 with 2 Axes>"
      ]
     },
     "metadata": {},
     "output_type": "display_data"
    }
   ],
   "source": [
    "fig, ax = plt.subplots(1,2,  figsize=(8,4))\n",
    "\n",
    "ax[0].bar(np.arange(n), w)\n",
    "ax[0].set_xlabel('Packet id')\n",
    "ax[0].set_ylabel(r'$w_n$ (s)')\n",
    "ax[0].set_xticks(np.arange(n),labels=np.arange(n))\n",
    "x_axis = np.linspace(0,n,100)\n",
    "avg_xs = np.mean(xs)\n",
    "ax[0].plot(x_axis,np.ones(x_axis.shape[0])*avg_xs,ls='--',label= 'Average service time', c='b', lw=2, zorder=0)\n",
    "ax[0].legend()\n",
    "           \n",
    "ax[1].hist(w,bins=20)\n",
    "ax[1].set_ylabel('Number of packets')\n",
    "ax[1].set_xlabel(r'$w_n$ (s)')\n",
    "\n",
    "\n",
    "plt.tight_layout()\n",
    "# plt.show()\n",
    "if outfile is not None:\n",
    "    \n",
    "    plt.savefig(f\"{outdir}{outfile}\", dpi=dpi, format=None, metadata=None,\n",
    "                bbox_inches='tight', pad_inches=0.1,\n",
    "                facecolor='auto', edgecolor='auto',\n",
    "                backend=None\n",
    "                )\n",
    "    print(f\"Figure saved in {outdir}{outfile}\")\n",
    "        \n",
    "plt.show()"
   ]
  },
  {
   "cell_type": "markdown",
   "id": "8d2d6f14-ed32-43aa-9b03-d5680e32fb7f",
   "metadata": {},
   "source": [
    "Check busy and idle times"
   ]
  },
  {
   "cell_type": "code",
   "execution_count": 61,
   "id": "3e1a7dfc-32ae-4194-a9cd-2e835e4f597d",
   "metadata": {
    "execution": {
     "iopub.execute_input": "2025-10-03T07:09:25.627267Z",
     "iopub.status.busy": "2025-10-03T07:09:25.626683Z",
     "iopub.status.idle": "2025-10-03T07:09:25.656503Z",
     "shell.execute_reply": "2025-10-03T07:09:25.655871Z",
     "shell.execute_reply.started": "2025-10-03T07:09:25.627208Z"
    }
   },
   "outputs": [],
   "source": [
    "idle_times = zero_runs(new_v)\n",
    "busy_times = zero_runs(new_v,is_zero=False)\n",
    "\n",
    "idle_dt = []\n",
    "busy_dt = []\n",
    "\n",
    "for i,(a,b) in enumerate(idle_times):\n",
    "    idle_dt.append(Xaxis[min(b,len(Xaxis)-1)]-Xaxis[a])\n",
    "for i,(a,b) in enumerate(busy_times):\n",
    "    busy_dt.append(Xaxis[min(b,len(Xaxis)-1)]-Xaxis[a])\n",
    "    "
   ]
  },
  {
   "cell_type": "code",
   "execution_count": 62,
   "id": "436e9163-3bce-47b2-88a4-81089500eb36",
   "metadata": {
    "execution": {
     "iopub.execute_input": "2025-10-03T07:09:26.054022Z",
     "iopub.status.busy": "2025-10-03T07:09:26.053367Z",
     "iopub.status.idle": "2025-10-03T07:09:26.179371Z",
     "shell.execute_reply": "2025-10-03T07:09:26.179111Z",
     "shell.execute_reply.started": "2025-10-03T07:09:26.053975Z"
    }
   },
   "outputs": [
    {
     "data": {
      "image/png": "[encoded data removed]",
      "text/plain": [
       "<Figure size 800x400 with 2 Axes>"
      ]
     },
     "metadata": {},
     "output_type": "display_data"
    }
   ],
   "source": [
    "fig, ax = plt.subplots(1,2, sharex=True, figsize=(8,4))\n",
    "\n",
    "ax[0].hist(idle_dt)\n",
    "ax[0].set_ylabel('Number of idle periods')\n",
    "ax[0].set_xlabel(r'Idle time (time unit)')\n",
    "\n",
    "ax[1].hist(busy_dt)\n",
    "ax[1].set_ylabel('Number of busy periods')\n",
    "ax[1].set_xlabel(r'Busy time (time unit)')\n",
    "\n",
    "\n",
    "plt.tight_layout()"
   ]
  },
  {
   "cell_type": "markdown",
   "id": "fc745f9f-9341-40bb-9756-eb8a4278e72a",
   "metadata": {},
   "source": [
    "#### 2.1 Little's law"
   ]
  },
  {
   "cell_type": "code",
   "execution_count": 63,
   "id": "6363d416-f6b0-45c0-8c2f-c9c7566b7e72",
   "metadata": {
    "execution": {
     "iopub.execute_input": "2025-10-03T07:09:28.181699Z",
     "iopub.status.busy": "2025-10-03T07:09:28.181272Z",
     "iopub.status.idle": "2025-10-03T07:09:28.209734Z",
     "shell.execute_reply": "2025-10-03T07:09:28.209227Z",
     "shell.execute_reply.started": "2025-10-03T07:09:28.181671Z"
    }
   },
   "outputs": [
    {
     "name": "stdout",
     "output_type": "stream",
     "text": [
      "E[N_S] = 0.480\n"
     ]
    }
   ],
   "source": [
    "Exp_N_S = 0\n",
    "for i in range(len(N_S)-1):\n",
    "    Exp_N_S += 0.5 * (N_S[i+1]+N_S[i]) * (XaxisS[i+1] - XaxisS[i])\n",
    "\n",
    "\n",
    "print(f\"E[N_S] = {Exp_N_S /(XaxisS[-1]-XaxisS[0]):.3f}\")"
   ]
  },
  {
   "cell_type": "code",
   "execution_count": 64,
   "id": "4050d203-8fea-401c-9a75-cd739a90ca87",
   "metadata": {
    "execution": {
     "iopub.execute_input": "2025-10-03T07:09:28.419737Z",
     "iopub.status.busy": "2025-10-03T07:09:28.419238Z",
     "iopub.status.idle": "2025-10-03T07:09:28.439534Z",
     "shell.execute_reply": "2025-10-03T07:09:28.439259Z",
     "shell.execute_reply.started": "2025-10-03T07:09:28.419709Z"
    }
   },
   "outputs": [
    {
     "name": "stdout",
     "output_type": "stream",
     "text": [
      "E[N_S] = 0.485\n"
     ]
    }
   ],
   "source": [
    "print(f\"E[N_S] = {np.mean(N_S):.3f}\")"
   ]
  },
  {
   "cell_type": "code",
   "execution_count": 65,
   "id": "72f94205-52a4-463d-9063-bc12881bfe15",
   "metadata": {
    "execution": {
     "iopub.execute_input": "2025-10-03T07:09:28.917713Z",
     "iopub.status.busy": "2025-10-03T07:09:28.917056Z",
     "iopub.status.idle": "2025-10-03T07:09:28.937953Z",
     "shell.execute_reply": "2025-10-03T07:09:28.937299Z",
     "shell.execute_reply.started": "2025-10-03T07:09:28.917665Z"
    }
   },
   "outputs": [
    {
     "name": "stdout",
     "output_type": "stream",
     "text": [
      "lambda x E[T] = 0.500\n"
     ]
    }
   ],
   "source": [
    "print(f\"lambda x E[T] = {np.mean(taus) * np.mean(T):.3f}\")"
   ]
  },
  {
   "cell_type": "code",
   "execution_count": 66,
   "id": "135e498e-d079-43d1-8926-ce1badf79022",
   "metadata": {
    "execution": {
     "iopub.execute_input": "2025-10-03T07:09:29.575856Z",
     "iopub.status.busy": "2025-10-03T07:09:29.575052Z",
     "iopub.status.idle": "2025-10-03T07:09:29.604110Z",
     "shell.execute_reply": "2025-10-03T07:09:29.603663Z",
     "shell.execute_reply.started": "2025-10-03T07:09:29.575803Z"
    }
   },
   "outputs": [
    {
     "name": "stdout",
     "output_type": "stream",
     "text": [
      "lambda x E[T] = 0.500\n"
     ]
    }
   ],
   "source": [
    "print(f\"lambda x E[T] = {lambda_tau * np.mean(T):.3f}\")"
   ]
  },
  {
   "cell_type": "markdown",
   "id": "9d506dd9-f876-48c9-a39b-1cd6173f647d",
   "metadata": {},
   "source": [
    "## 3. M/M/1 example\n",
    "\n",
    "We know that this system can be modeled as a continous-time Markov process with:  \n",
    "$\n",
    "Q = \\left[ \\begin{array}{cccccc}\n",
    "\t\t-\\lambda & \\lambda&0&0& 0&\\dots\\\\\n",
    "\t\t\\mu & -(\\lambda + \\mu)& \\lambda &0& 0&\\dots\\\\\n",
    "\t\t0 & \t\\mu & -(\\lambda + \\mu)& \\lambda & 0 & \\dots\\\\\n",
    "\t\t\\dots &\\dots &\\dots &\\dots &\\dots &\\dots \n",
    "\t\t\\end{array}\n",
    "\t\\right] \\quad.\n",
    "$\n",
    "\n",
    "and that we can derive analytical expressions for the steady-state:  \n",
    "$\n",
    "\\pi_{i} = (1-\\rho)\\, \\rho^{i} \\quad.\n",
    "$\n",
    "\n",
    "We can now see this empirically by simulating from this process. \n"
   ]
  },
  {
   "cell_type": "markdown",
   "id": "0576918d-697c-46d8-aea9-8025d07d57c2",
   "metadata": {},
   "source": [
    "#### 3.1 Simulate the system\n",
    "\n",
    "We can start by sampling arrival and service times"
   ]
  },
  {
   "cell_type": "code",
   "execution_count": 67,
   "id": "b3bd889a-6f03-4767-84d8-d5b206993a4b",
   "metadata": {
    "execution": {
     "iopub.execute_input": "2025-10-03T07:09:36.893762Z",
     "iopub.status.busy": "2025-10-03T07:09:36.893314Z",
     "iopub.status.idle": "2025-10-03T07:09:36.918479Z",
     "shell.execute_reply": "2025-10-03T07:09:36.917828Z",
     "shell.execute_reply.started": "2025-10-03T07:09:36.893728Z"
    }
   },
   "outputs": [],
   "source": [
    "seed = 10\n",
    "prng = np.random.RandomState(seed)\n"
   ]
  },
  {
   "cell_type": "markdown",
   "id": "a24a43b8-42fd-42d4-b3cf-3016da979dd0",
   "metadata": {},
   "source": [
    "Vary $n$ and $\\rho$ and see what happens:\n",
    "- Small $n$ and $\\rho<1$\n",
    "- Larger $n$ and $\\rho<1$\n",
    "- Large $n$ and $\\rho \\approx 1$"
   ]
  },
  {
   "cell_type": "code",
   "execution_count": 98,
   "id": "439f1fe6-d8b0-45ec-9e1e-abcb6dc49a23",
   "metadata": {
    "execution": {
     "iopub.execute_input": "2025-10-03T07:11:43.489373Z",
     "iopub.status.busy": "2025-10-03T07:11:43.488906Z",
     "iopub.status.idle": "2025-10-03T07:11:43.513946Z",
     "shell.execute_reply": "2025-10-03T07:11:43.513279Z",
     "shell.execute_reply.started": "2025-10-03T07:11:43.489340Z"
    }
   },
   "outputs": [],
   "source": [
    "n = 10 # number of packets\n",
    "lambda_tau = 1. # E[tau] = 1/lambda_tau\n",
    "taus = prng.exponential(scale=1/lambda_tau, size=n)\n",
    "ts = np.cumsum(taus)\n",
    "\n",
    "mu_x = 2. # E[x] = 1/mu_x\n",
    "xs = prng.exponential(scale=1/mu_x, size=n)"
   ]
  },
  {
   "cell_type": "markdown",
   "id": "39493099-19ff-492f-86ca-83dc0b3522e5",
   "metadata": {
    "execution": {
     "iopub.execute_input": "2024-12-02T15:32:15.685492Z",
     "iopub.status.busy": "2024-12-02T15:32:15.683852Z",
     "iopub.status.idle": "2024-12-02T15:32:15.711174Z",
     "shell.execute_reply": "2024-12-02T15:32:15.710599Z",
     "shell.execute_reply.started": "2024-12-02T15:32:15.685416Z"
    }
   },
   "source": [
    "First let's check that we are in the favorable regime:\n",
    "\n",
    "$\\rho = \\frac{\\lambda}{\\mu} <1$"
   ]
  },
  {
   "cell_type": "code",
   "execution_count": 99,
   "id": "4cb1d1a1-b2e4-4e1e-9058-3b61af112000",
   "metadata": {
    "execution": {
     "iopub.execute_input": "2025-10-03T07:11:43.799423Z",
     "iopub.status.busy": "2025-10-03T07:11:43.798636Z",
     "iopub.status.idle": "2025-10-03T07:11:43.828700Z",
     "shell.execute_reply": "2025-10-03T07:11:43.828198Z",
     "shell.execute_reply.started": "2025-10-03T07:11:43.799363Z"
    }
   },
   "outputs": [
    {
     "name": "stdout",
     "output_type": "stream",
     "text": [
      "rho = 0.50\n"
     ]
    }
   ],
   "source": [
    "rho = lambda_tau / mu_x\n",
    "print(f\"rho = {rho:.2f}\")\n",
    "assert rho < 1"
   ]
  },
  {
   "cell_type": "markdown",
   "id": "96ebfc98-bb96-4da5-bd95-ab8053718332",
   "metadata": {},
   "source": [
    "Let's generate data"
   ]
  },
  {
   "cell_type": "code",
   "execution_count": 100,
   "id": "31f80d8d-e1ff-4c2d-951e-ce699a59327f",
   "metadata": {
    "execution": {
     "iopub.execute_input": "2025-10-03T07:11:44.130216Z",
     "iopub.status.busy": "2025-10-03T07:11:44.129450Z",
     "iopub.status.idle": "2025-10-03T07:11:44.177719Z",
     "shell.execute_reply": "2025-10-03T07:11:44.177174Z",
     "shell.execute_reply.started": "2025-10-03T07:11:44.130162Z"
    }
   },
   "outputs": [],
   "source": [
    "w,T,v = simulate_queueing_system(taus,xs)\n",
    "\n",
    "new_v, Xaxis = get_intermediate_v(v,T,ts,s=1000)\n",
    "N_S, XaxisS = get_N_S(T,ts,s)\n",
    "\n",
    "assert len(N_S) == len(XaxisS)"
   ]
  },
  {
   "cell_type": "markdown",
   "id": "4b4d273f-2ed5-4f6f-bc35-9b5affa067e3",
   "metadata": {},
   "source": [
    "And visualize the process"
   ]
  },
  {
   "cell_type": "code",
   "execution_count": 101,
   "id": "940dc9ec-0242-446d-83ba-d85b893d535b",
   "metadata": {
    "execution": {
     "iopub.execute_input": "2025-10-03T07:11:44.426684Z",
     "iopub.status.busy": "2025-10-03T07:11:44.426292Z",
     "iopub.status.idle": "2025-10-03T07:11:44.446136Z",
     "shell.execute_reply": "2025-10-03T07:11:44.445824Z",
     "shell.execute_reply.started": "2025-10-03T07:11:44.426658Z"
    }
   },
   "outputs": [],
   "source": [
    "outfile = None"
   ]
  },
  {
   "cell_type": "code",
   "execution_count": null,
   "id": "61f5cb63-d4ef-4a44-877c-325b759782c5",
   "metadata": {},
   "outputs": [],
   "source": [
    "\n",
    "fig, ax = plt.subplots(3,1, sharex=True, figsize=(8,4))\n",
    "\n",
    "ax[0].scatter(ts, np.ones(n) * prng.uniform(-1,1, size=n) * 0.5, s = 100, edgecolors='black')\n",
    "ax[0].set_ylabel('Arrival')\n",
    "ax[0].set_xlabel('t')\n",
    "ax[0].set(yticklabels=[])\n",
    "ax[0].set_ylim(-1,1)\n",
    "# plt.yticks(np.arange(1,2))\n",
    "\n",
    "ax[1].plot(Xaxis,new_v)\n",
    "ax[1].set_ylabel(r'$v(t)$')\n",
    "ax[1].set_xlabel('t')\n",
    "\n",
    "ax[2].plot(XaxisS,N_S)\n",
    "ax[2].set_ylabel(r'$N_S(t)$')\n",
    "ax[2].set_xlabel('t')\n",
    "ax[2].set_yticks(np.arange(max(N_S)+1))\n",
    "ax[2].grid(axis='y')\n",
    "\n",
    "'''\n",
    "Highlight idle times\n",
    "'''\n",
    "idle_times = zero_runs(new_v)\n",
    "for i,(a,b) in enumerate(idle_times):\n",
    "    ax[1].axvspan(Xaxis[a], Xaxis[min(b,len(Xaxis)-1)], alpha=0.1, color='b')\n",
    "    ax[2].axvspan(Xaxis[a], Xaxis[min(b,len(Xaxis)-1)], alpha=0.1, color='b')\n",
    "\n",
    "'''\n",
    "Highlight mean service time\n",
    "'''\n",
    "ax[0].fill_betweenx(np.ones(n),np.zeros(n),np.mean(xs) * np.ones(n))\n",
    "ax[0].axvspan(0, np.mean(xs), alpha=0.5, color='red')\n",
    "ax[0].plot([0,np.mean(xs)],[0,0],lw=5,color='r')\n",
    "ax[0].text(np.mean(xs) * 0.5 * 0.9,0.2,r'$x_c$', fontsize=20)\n",
    "plt.tight_layout()\n",
    "# plt.show()\n",
    "if outfile is not None:\n",
    "    \n",
    "    plt.savefig(f\"{outdir}{outfile}\", dpi=dpi, format=None, metadata=None,\n",
    "                bbox_inches='tight', pad_inches=0.1,\n",
    "                facecolor='auto', edgecolor='auto',\n",
    "                backend=None\n",
    "                )\n",
    "    print(f\"Figure saved in {outdir}{outfile}\")\n",
    "        \n",
    "plt.show()"
   ]
  },
  {
   "cell_type": "markdown",
   "id": "805419e5-2362-4b5c-bcb8-fcb618e8bcbd",
   "metadata": {},
   "source": [
    "We can notice several blue-shaded areas, the idle times."
   ]
  },
  {
   "cell_type": "code",
   "execution_count": 88,
   "id": "ea5079f2-d1c6-43ec-9ee3-51484e172578",
   "metadata": {
    "execution": {
     "iopub.execute_input": "2025-10-03T07:11:07.745610Z",
     "iopub.status.busy": "2025-10-03T07:11:07.745086Z",
     "iopub.status.idle": "2025-10-03T07:11:07.877124Z",
     "shell.execute_reply": "2025-10-03T07:11:07.876887Z",
     "shell.execute_reply.started": "2025-10-03T07:11:07.745571Z"
    }
   },
   "outputs": [
    {
     "data": {
      "image/png": "[encoded data removed]",
      "text/plain": [
       "<Figure size 800x400 with 2 Axes>"
      ]
     },
     "metadata": {},
     "output_type": "display_data"
    }
   ],
   "source": [
    "fig, ax = plt.subplots(1,2,  figsize=(8,4))\n",
    "\n",
    "nmax = min(n,20)\n",
    "ax[0].bar(np.arange(n)[:nmax], w[:nmax])\n",
    "ax[0].set_xlabel('Packet id')\n",
    "ax[0].set_ylabel(r'$w_n$ (time unit)')\n",
    "ax[0].set_xticks(np.arange(n)[:nmax],labels=np.arange(n)[:nmax])\n",
    "x_axis = np.linspace(0,nmax,100)\n",
    "avg_xs = np.mean(xs)\n",
    "ax[0].plot(x_axis,np.ones(x_axis.shape[0])*avg_xs,ls='--',label= 'Average service time', c='b', lw=2, zorder=0)\n",
    "ax[0].legend()\n",
    "           \n",
    "ax[1].hist(w)\n",
    "ax[1].set_ylabel('Number of packets')\n",
    "ax[1].set_xlabel(r'$w_n$ (time unit)')\n",
    "# ax[1].plot(x_axis,np.ones(x_axis.shape[0])*avg_xs)\n",
    "ax[1].axvline(x=avg_xs,ls='--',label= 'Average service time', c='b', lw=2, zorder=1)\n",
    "ax[1].axvline(x=np.mean(w),ls='--',label= 'Average waiting time', c='black', lw=2, zorder=1, alpha=0.5)\n",
    "ax[1].legend()\n",
    "\n",
    "plt.tight_layout()\n",
    "# plt.show()\n",
    "if outfile is not None:\n",
    "    \n",
    "    plt.savefig(f\"{outdir}{outfile}\", dpi=dpi, format=None, metadata=None,\n",
    "                bbox_inches='tight', pad_inches=0.1,\n",
    "                facecolor='auto', edgecolor='auto',\n",
    "                backend=None\n",
    "                )\n",
    "    print(f\"Figure saved in {outdir}{outfile}\")\n",
    "        \n",
    "plt.show()"
   ]
  },
  {
   "cell_type": "markdown",
   "id": "7c70b5b7-9cd2-437b-9625-dc520a81432a",
   "metadata": {},
   "source": [
    "#### 3.2 Long-run expected number of packets in the system\n",
    "We can now compare $N_S(t)$ in the long-run with the expected value of the distribution $\\pi_i$: \n",
    "\n",
    "$\n",
    " E[N_{S}(t)] = E[{\\text{geom}(\\rho)}] = \\frac{\\rho}{1-\\rho} =\\frac{\\lambda}{\\mu-\\lambda} \\quad.\n",
    "$"
   ]
  },
  {
   "cell_type": "code",
   "execution_count": 89,
   "id": "ab1031eb-3e4c-4a5f-9654-4133467644bd",
   "metadata": {
    "execution": {
     "iopub.execute_input": "2025-10-03T07:11:11.880214Z",
     "iopub.status.busy": "2025-10-03T07:11:11.879814Z",
     "iopub.status.idle": "2025-10-03T07:11:11.939163Z",
     "shell.execute_reply": "2025-10-03T07:11:11.938800Z",
     "shell.execute_reply.started": "2025-10-03T07:11:11.880188Z"
    }
   },
   "outputs": [
    {
     "name": "stdout",
     "output_type": "stream",
     "text": [
      "Data E[N_S] = 1.080 (piece-wise constant discrete approx)\n"
     ]
    }
   ],
   "source": [
    "Exp_N_S = 0\n",
    "for i in range(0,len(N_S)-1):\n",
    "    Exp_N_S += 0.5 * (N_S[i+1]+N_S[i]) * (XaxisS[i+1] - XaxisS[i])\n",
    "\n",
    "\n",
    "print(f\"Data E[N_S] = {Exp_N_S /(XaxisS[-1]-XaxisS[0]):.3f} (piece-wise constant discrete approx)\")"
   ]
  },
  {
   "cell_type": "code",
   "execution_count": 90,
   "id": "167732aa-6201-4840-8fff-ffa03b8a8650",
   "metadata": {
    "execution": {
     "iopub.execute_input": "2025-10-03T07:11:13.261614Z",
     "iopub.status.busy": "2025-10-03T07:11:13.261126Z",
     "iopub.status.idle": "2025-10-03T07:11:13.289085Z",
     "shell.execute_reply": "2025-10-03T07:11:13.288812Z",
     "shell.execute_reply.started": "2025-10-03T07:11:13.261577Z"
    }
   },
   "outputs": [
    {
     "name": "stdout",
     "output_type": "stream",
     "text": [
      "Data = 1.49 (empirical average approx)\n"
     ]
    }
   ],
   "source": [
    "print(f\"Data = {np.mean(N_S):.2f} (empirical average approx)\")"
   ]
  },
  {
   "cell_type": "code",
   "execution_count": 91,
   "id": "299dceae-2593-4ff3-9e89-cf3363116d01",
   "metadata": {
    "execution": {
     "iopub.execute_input": "2025-10-03T07:11:13.655272Z",
     "iopub.status.busy": "2025-10-03T07:11:13.654764Z",
     "iopub.status.idle": "2025-10-03T07:11:13.683487Z",
     "shell.execute_reply": "2025-10-03T07:11:13.682987Z",
     "shell.execute_reply.started": "2025-10-03T07:11:13.655238Z"
    }
   },
   "outputs": [
    {
     "name": "stdout",
     "output_type": "stream",
     "text": [
      "Theory = 1.00\n"
     ]
    }
   ],
   "source": [
    "exp_N_s_theo = lambda_tau / (mu_x-lambda_tau)\n",
    "print(f\"Theory = {exp_N_s_theo:.2f}\")"
   ]
  },
  {
   "cell_type": "markdown",
   "id": "89c6410d-17bc-4d0a-b4b1-e1a298ce9aeb",
   "metadata": {},
   "source": [
    "#### 3.3 Long-run idle and busy periods\n",
    "\n",
    "We can compare with the expected value of $\\pi_0$ and $1-\\pi_0$"
   ]
  },
  {
   "cell_type": "code",
   "execution_count": 92,
   "id": "6b1ad845-d408-4ba2-b71c-ecbb47502fae",
   "metadata": {
    "execution": {
     "iopub.execute_input": "2025-10-03T07:11:24.301581Z",
     "iopub.status.busy": "2025-10-03T07:11:24.300459Z",
     "iopub.status.idle": "2025-10-03T07:11:24.330482Z",
     "shell.execute_reply": "2025-10-03T07:11:24.329939Z",
     "shell.execute_reply.started": "2025-10-03T07:11:24.301522Z"
    }
   },
   "outputs": [],
   "source": [
    "pi0 = 1 - lambda_tau / mu_x"
   ]
  },
  {
   "cell_type": "code",
   "execution_count": 93,
   "id": "c6fa8e0b-7524-4b9e-a08e-af246c8a6817",
   "metadata": {
    "execution": {
     "iopub.execute_input": "2025-10-03T07:11:25.848922Z",
     "iopub.status.busy": "2025-10-03T07:11:25.848421Z",
     "iopub.status.idle": "2025-10-03T07:11:25.934042Z",
     "shell.execute_reply": "2025-10-03T07:11:25.933765Z",
     "shell.execute_reply.started": "2025-10-03T07:11:25.848889Z"
    }
   },
   "outputs": [],
   "source": [
    "idle_times = zero_runs(new_v)\n",
    "busy_times = zero_runs(new_v,is_zero=False)"
   ]
  },
  {
   "cell_type": "code",
   "execution_count": 94,
   "id": "feb0457f-c318-4b84-941b-64773cb85804",
   "metadata": {
    "execution": {
     "iopub.execute_input": "2025-10-03T07:11:29.740253Z",
     "iopub.status.busy": "2025-10-03T07:11:29.739678Z",
     "iopub.status.idle": "2025-10-03T07:11:29.767938Z",
     "shell.execute_reply": "2025-10-03T07:11:29.767499Z",
     "shell.execute_reply.started": "2025-10-03T07:11:29.740213Z"
    }
   },
   "outputs": [],
   "source": [
    "idle_dt = []\n",
    "busy_dt = []\n",
    "\n",
    "for i,(a,b) in enumerate(idle_times):\n",
    "    idle_dt.append(Xaxis[min(b,len(Xaxis)-1)]-Xaxis[a])\n",
    "for i,(a,b) in enumerate(busy_times):\n",
    "    busy_dt.append(Xaxis[min(b,len(Xaxis)-1)]-Xaxis[a])"
   ]
  },
  {
   "cell_type": "code",
   "execution_count": 95,
   "id": "09aa019b-0b8c-4212-be16-f42fc95b2d2e",
   "metadata": {
    "execution": {
     "iopub.execute_input": "2025-10-03T07:11:30.959877Z",
     "iopub.status.busy": "2025-10-03T07:11:30.959479Z",
     "iopub.status.idle": "2025-10-03T07:11:31.089896Z",
     "shell.execute_reply": "2025-10-03T07:11:31.089651Z",
     "shell.execute_reply.started": "2025-10-03T07:11:30.959848Z"
    }
   },
   "outputs": [
    {
     "data": {
      "image/png": "[encoded data removed]",
      "text/plain": [
       "<Figure size 800x400 with 2 Axes>"
      ]
     },
     "metadata": {},
     "output_type": "display_data"
    }
   ],
   "source": [
    "fig, ax = plt.subplots(1,2, sharex=True, figsize=(8,4))\n",
    "\n",
    "ax[0].hist(idle_dt)\n",
    "ax[0].set_ylabel('Number of idle periods')\n",
    "ax[0].set_xlabel(r'Idle time (time unit)')\n",
    "ax[0].axvline(x=pi0,ls='--',label= r'$\\pi_0$', c='b', lw=2, zorder=1)\n",
    "ax[0].axvline(x=np.mean(idle_dt)/(np.mean(idle_dt)+np.mean(busy_dt)),ls='-',label= f\"Data\", c='black', lw=2, zorder=1,alpha=0.8)\n",
    "ax[0].legend()\n",
    "\n",
    "ax[1].hist(busy_dt)\n",
    "ax[1].set_ylabel('Number of busy periods')\n",
    "ax[1].set_xlabel(r'Busy time (time unit)')\n",
    "ax[1].axvline(x=1-pi0,ls='--',label= r'$\\pi_0$', c='b', lw=2, zorder=1)\n",
    "ax[1].axvline(x=np.mean(busy_dt)/(np.mean(idle_dt)+np.mean(busy_dt)),ls='-',label= f\"Data\", c='black', lw=2, zorder=1,alpha=0.8)\n",
    "ax[1].legend()\n",
    "\n",
    "\n",
    "plt.tight_layout()"
   ]
  },
  {
   "cell_type": "markdown",
   "id": "45c52042-7041-423c-974e-2b9142904ea7",
   "metadata": {},
   "source": [
    "**Idle** proportion of time"
   ]
  },
  {
   "cell_type": "code",
   "execution_count": 96,
   "id": "48d2a86c-4520-4723-85fc-844c7259f683",
   "metadata": {
    "execution": {
     "iopub.execute_input": "2025-10-03T07:11:34.967310Z",
     "iopub.status.busy": "2025-10-03T07:11:34.966860Z",
     "iopub.status.idle": "2025-10-03T07:11:34.990779Z",
     "shell.execute_reply": "2025-10-03T07:11:34.990252Z",
     "shell.execute_reply.started": "2025-10-03T07:11:34.967276Z"
    }
   },
   "outputs": [
    {
     "name": "stdout",
     "output_type": "stream",
     "text": [
      "Theory: 0.500\n",
      "Data: 0.474\n"
     ]
    }
   ],
   "source": [
    "print(f\"Theory: {pi0:.3f}\")\n",
    "print(f\"Data: {np.sum(idle_dt)/(np.sum(idle_dt)+np.sum(busy_dt)):.3f}\")"
   ]
  },
  {
   "cell_type": "markdown",
   "id": "30c25cd8-0b40-472f-95de-b725fc12d0ff",
   "metadata": {
    "execution": {
     "iopub.execute_input": "2024-12-02T15:51:49.849850Z",
     "iopub.status.busy": "2024-12-02T15:51:49.849387Z",
     "iopub.status.idle": "2024-12-02T15:51:49.874832Z",
     "shell.execute_reply": "2024-12-02T15:51:49.874027Z",
     "shell.execute_reply.started": "2024-12-02T15:51:49.849823Z"
    }
   },
   "source": [
    "**Busy** proportion of time"
   ]
  },
  {
   "cell_type": "code",
   "execution_count": 97,
   "id": "9162078c-1ee7-48f7-a55a-01704980912e",
   "metadata": {
    "execution": {
     "iopub.execute_input": "2025-10-03T07:11:35.888946Z",
     "iopub.status.busy": "2025-10-03T07:11:35.888586Z",
     "iopub.status.idle": "2025-10-03T07:11:35.914850Z",
     "shell.execute_reply": "2025-10-03T07:11:35.914305Z",
     "shell.execute_reply.started": "2025-10-03T07:11:35.888923Z"
    }
   },
   "outputs": [
    {
     "name": "stdout",
     "output_type": "stream",
     "text": [
      "Theory: 0.500\n",
      "Data: 0.526\n"
     ]
    }
   ],
   "source": [
    "print(f\"Theory: {1-pi0:.3f}\")\n",
    "print(f\"Data: {np.sum(busy_dt)/(np.sum(idle_dt)+np.sum(busy_dt)):.3f}\")"
   ]
  },
  {
   "cell_type": "code",
   "execution_count": null,
   "id": "338f4cb9-8e73-416b-9100-9d4d9cbfbd87",
   "metadata": {},
   "outputs": [],
   "source": []
  },
  {
   "cell_type": "code",
   "execution_count": null,
   "id": "97713a1d-e245-4991-98b7-336a716c1946",
   "metadata": {},
   "outputs": [],
   "source": []
  }
 ],
 "metadata": {
  "kernelspec": {
   "display_name": "Python 3 (ipykernel)",
   "language": "python",
   "name": "python3"
  },
  "language_info": {
   "codemirror_mode": {
    "name": "ipython",
    "version": 3
   },
   "file_extension": ".py",
   "mimetype": "text/x-python",
   "name": "python",
   "nbconvert_exporter": "python",
   "pygments_lexer": "ipython3",
   "version": "3.12.7"
  }
 },
 "nbformat": 4,
 "nbformat_minor": 5
}
