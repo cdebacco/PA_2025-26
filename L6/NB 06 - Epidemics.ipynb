{
 "cells": [
  {
   "cell_type": "markdown",
   "id": "7da6a37a-8a5a-4de8-8446-d5c0074367fa",
   "metadata": {},
   "source": [
    "# L6: Epidemics"
   ]
  },
  {
   "cell_type": "code",
   "execution_count": null,
   "id": "78c3a7eb-3ba9-4bbd-9018-40c75606fca2",
   "metadata": {},
   "outputs": [],
   "source": [
    "\n",
    "%load_ext autoreload\n",
    "%autoreload 2"
   ]
  },
  {
   "cell_type": "code",
   "execution_count": null,
   "id": "ffbaeb79-c0fb-4c88-963a-06d77009ee82",
   "metadata": {},
   "outputs": [],
   "source": [
    "import numpy as np\n",
    "import pandas as pd\n",
    "import networkx as nx\n",
    "\n",
    "import matplotlib.pyplot as plt\n",
    "from matplotlib import cm\n",
    "import matplotlib as mpl\n",
    "\n",
    "from scipy.linalg import expm\n",
    "from scipy import integrate\n",
    "\n",
    "from IPython.display import display, Math"
   ]
  },
  {
   "cell_type": "code",
   "execution_count": null,
   "id": "4bd1446b-125a-4d11-8235-7eabd9ccba28",
   "metadata": {},
   "outputs": [],
   "source": [
    "def get_filename(filename: str, lecture_id: int = 1, file_extension: str = '.png') -> str:\n",
    "    return f\"L{lecture_id}_{filename}{file_extension}\"\n",
    "\n",
    "outdir = '../figures/'\n",
    "lecture_id = 6"
   ]
  },
  {
   "cell_type": "code",
   "execution_count": null,
   "id": "28c0bcc2-6258-42f9-9478-45c92678a937",
   "metadata": {},
   "outputs": [],
   "source": [
    "fs = 20\n",
    "color = 'salmon'"
   ]
  },
  {
   "cell_type": "code",
   "execution_count": null,
   "id": "fd165d4d-ef2d-48f3-bb38-e8bf42046fcd",
   "metadata": {},
   "outputs": [],
   "source": [
    "def dec_to_bin(x: int, N: int)-> str:\n",
    "    # int(bin(x)[2:]\n",
    "    return bin(x)[2:].zfill(N) # 0-pad on the left\n",
    "\n",
    "def get_avg_d_from_pN(p: float, N: int) -> float:\n",
    "    '''\n",
    "    E[d] = 2L/N\n",
    "    E[L] = p L_max\n",
    "    --> E[d] = 2p L_max/N\n",
    "    '''\n",
    "    L_max = N * (N - 1) / 2\n",
    "    d_avg = 2 * p * L_max / N\n",
    "    return d_avg\n",
    "\n",
    "def get_graph_from_Q(Q: np.ndarray,states: list, keep_selfloop: bool = False) -> nx.MultiDiGraph():\n",
    "    G = nx.MultiDiGraph()\n",
    "    assert Q.shape[0] == len(states)\n",
    "    for start_idx, node_start in enumerate(states):\n",
    "        for end_idx, node_end in enumerate(states):\n",
    "            value = Q[start_idx][end_idx]\n",
    "            if value != 0:\n",
    "                G.add_edge(node_start,node_end, weight=value)\n",
    "\n",
    "    if keep_selfloop == False:\n",
    "        G.remove_edges_from(nx.selfloop_edges(G))\n",
    "    return G\n",
    "\n",
    "def get_P(Q:np.ndarray,t: float) -> np.ndarray:\n",
    "    '''\n",
    "    Get P(t) = exp(Qt)\n",
    "    '''\n",
    "    return expm(Q * t)\n"
   ]
  },
  {
   "cell_type": "code",
   "execution_count": null,
   "id": "c3f4f6bc-5c20-4e07-94ac-07a34471c0ad",
   "metadata": {},
   "outputs": [],
   "source": [
    "'''\n",
    "------------------------------------------\n",
    "            SETTINGS\n",
    "------------------------------------------\n",
    "'''\n",
    "plt.style.use('fivethirtyeight')\n",
    "plt.style.use('seaborn-v0_8-white')\n",
    "plt.rcParams['font.family'] = 'PT Sans'\n",
    "# plt.rcParams['font.serif'] = 'Ubuntu'\n",
    "plt.rcParams['font.monospace'] = 'Ubuntu Mono'\n",
    "plt.rcParams['font.size'] = 14\n",
    "plt.rcParams['axes.labelsize'] = 14\n",
    "plt.rcParams['axes.labelweight'] = 'bold'\n",
    "plt.rcParams['xtick.labelsize'] = 12\n",
    "plt.rcParams['ytick.labelsize'] = 12\n",
    "plt.rcParams['legend.fontsize'] = 14\n",
    "plt.rcParams['figure.titlesize'] = 12\n",
    "\n",
    "ms = 100 # marker size\n",
    "fs = 20 # fontsize\n",
    "dpi = 100\n",
    "BLUE = \"#2a475e\""
   ]
  },
  {
   "cell_type": "markdown",
   "id": "b34a6c28-bdca-430a-962a-2c2c3854bb41",
   "metadata": {},
   "source": [
    "# 0. Classical compartmental model\n",
    "The standard SIS compartmental model has these equations:\n",
    "\n",
    "$\n",
    "\\frac{d S(t)}{dt}  = -\\beta \\, I(t) \\, S(t) + \\delta \\,I\n",
    "$\n",
    "\n",
    "$\n",
    "\\frac{d I(t)}{dt}  =   \\beta \\, I(t) \\, S(t)-\\delta \\, I(t)\n",
    "$\n",
    "\n",
    "\n",
    "We can see how to solve it numerically and plot the evolution of the system in terms of the observable quantity:\n",
    "$\n",
    "I(t)\n",
    "$"
   ]
  },
  {
   "cell_type": "code",
   "execution_count": null,
   "id": "159f2976-8576-4cc2-81ab-4a10ceafe08a",
   "metadata": {},
   "outputs": [],
   "source": [
    "def dSIS_homogeneous_meanfield(X, t, beta: float, delta: float, n_over_N: float = 1.0):\n",
    "    S, I = X\n",
    "    dSdt = delta * I - beta * n_over_N * S * I\n",
    "    dIdt = -dSdt\n",
    "    dX = np.array([dSdt,dIdt])\n",
    "    return dX"
   ]
  },
  {
   "cell_type": "code",
   "execution_count": null,
   "id": "9510956a-4c1d-4382-b48e-3259aeef201e",
   "metadata": {},
   "outputs": [],
   "source": [
    "delta = 1.\n",
    "beta = 0.1\n",
    "tau = beta / delta\n",
    "print(f\"tau = {tau}\")"
   ]
  },
  {
   "cell_type": "markdown",
   "id": "054c7e53-2c1f-417c-8d0a-a19ccbcb00e5",
   "metadata": {
    "execution": {
     "iopub.execute_input": "2024-12-13T16:36:19.230700Z",
     "iopub.status.busy": "2024-12-13T16:36:19.229720Z",
     "iopub.status.idle": "2024-12-13T16:36:19.256554Z",
     "shell.execute_reply": "2024-12-13T16:36:19.255729Z",
     "shell.execute_reply.started": "2024-12-13T16:36:19.230662Z"
    }
   },
   "source": [
    "Beside the epidemic parameters, we need to specify:\n",
    "- `d_avg`: how many individuals are influencing an individual, on average\n",
    "- `N`: number of individuals\n",
    "- `dynp_pINI`: fraction of initially infected nodes (initial condition)"
   ]
  },
  {
   "cell_type": "code",
   "execution_count": null,
   "id": "48b61372-2437-4065-ac63-5a24423e0552",
   "metadata": {},
   "outputs": [],
   "source": [
    "d_avg = 1.\n",
    "N = 100\n",
    "dynp_pINI = 0.4\n",
    "\n",
    "print(f\"d_avg/N = {d_avg/(N-1):.2f}\")"
   ]
  },
  {
   "cell_type": "markdown",
   "id": "33b018da-7cfa-40ee-8f86-3b0ec3164664",
   "metadata": {},
   "source": [
    "#### Steady-state\n",
    "If $\\tau\\leq1$:\n",
    "- $\\pi_0=1$, trivial steady-state (all susceptible)\n",
    "\n",
    "If $\\tau>1$:\n",
    "- $\\pi_0=\\frac{\\delta}{\\beta}=\\frac{1}{\\tau}$\n",
    "- $\\pi_1=\\frac{\\beta-\\delta}{\\delta} = \\frac{\\tau-1}{\\tau}$"
   ]
  },
  {
   "cell_type": "code",
   "execution_count": null,
   "id": "9393789c-9bb2-4a23-8800-1f05e271ff7d",
   "metadata": {},
   "outputs": [],
   "source": [
    "def get_compartmentSIS_pi1(beta: float, delta: float):\n",
    "    tau = beta/delta\n",
    "    if tau <=1:\n",
    "        return 0\n",
    "    else:\n",
    "        return (tau-1) / tau"
   ]
  },
  {
   "cell_type": "code",
   "execution_count": null,
   "id": "cbd5562b-e19b-43ca-acf3-53769cec7416",
   "metadata": {},
   "outputs": [],
   "source": [
    "pi_1 = get_compartmentSIS_pi1(beta,delta)\n",
    "print(f\"Fraction of infected individuals (compartment SIS theory):\\n{pi_1:.3f}\")"
   ]
  },
  {
   "cell_type": "markdown",
   "id": "9bd3dd41-5a2f-4c4b-9fde-b83110ec7793",
   "metadata": {
    "execution": {
     "iopub.execute_input": "2024-12-13T16:42:29.529288Z",
     "iopub.status.busy": "2024-12-13T16:42:29.528810Z",
     "iopub.status.idle": "2024-12-13T16:42:29.556470Z",
     "shell.execute_reply": "2024-12-13T16:42:29.555863Z",
     "shell.execute_reply.started": "2024-12-13T16:42:29.529259Z"
    }
   },
   "source": [
    "**Spoiler alert**. \n",
    "We expect the approximated steady-state to be:\n",
    "\n",
    "$v_\\infty = 1 - \\frac{1}{\\tau d}$\n",
    "\n",
    "(You can check what this is referring to...)"
   ]
  },
  {
   "cell_type": "code",
   "execution_count": null,
   "id": "91f46434-6cee-42ac-8e8a-55d672fd493f",
   "metadata": {},
   "outputs": [],
   "source": [
    "v_infty = max(1 - 1/(tau * d_avg),0)\n",
    "print(f\"Fraction of infected individuals (NIMFA approximation):\\n{v_infty:.3f}\")"
   ]
  },
  {
   "cell_type": "markdown",
   "id": "88337c0f-6613-43a2-ab76-06df5a7156ed",
   "metadata": {},
   "source": [
    "### Running the dynamics\n",
    "Using numerical integration of the differential equations with `integrate.odeint`"
   ]
  },
  {
   "cell_type": "code",
   "execution_count": null,
   "id": "b7d0f171-6c7f-4747-99bf-5a8957717132",
   "metadata": {},
   "outputs": [],
   "source": [
    "tmin = 0\n",
    "tmax = 1e3\n",
    "tcount = 10000\n",
    "times = np.linspace(tmin, tmax, tcount)\n"
   ]
  },
  {
   "cell_type": "code",
   "execution_count": null,
   "id": "22a73bdc-b359-4cee-8b43-83b3520b06a4",
   "metadata": {},
   "outputs": [],
   "source": [
    "I0 = dynp_pINI * N\n",
    "S0 = N - I0\n",
    "X0 = np.array([S0,I0])\n",
    "times = np.linspace(tmin,tmax,tcount)\n",
    "X = integrate.odeint(dSIS_homogeneous_meanfield, X0,times, \n",
    "                        args=( beta, delta, float(d_avg)/(N-1)))\n",
    "S, I_HoMF = X.T\n",
    "I_HoMF /= N"
   ]
  },
  {
   "cell_type": "code",
   "execution_count": null,
   "id": "0c270727-a27f-4314-aa14-07228bd53729",
   "metadata": {},
   "outputs": [],
   "source": [
    "I_HoMF[:-5]"
   ]
  },
  {
   "cell_type": "code",
   "execution_count": null,
   "id": "c818a4d4-94c9-41b9-af04-ca53e17eabfd",
   "metadata": {},
   "outputs": [],
   "source": [
    "outfile = None"
   ]
  },
  {
   "cell_type": "code",
   "execution_count": null,
   "id": "65a29fb1-d8dc-44d4-8d12-198c0a25447c",
   "metadata": {},
   "outputs": [],
   "source": [
    "fig, ax = plt.subplots(1,1,figsize=(10, 6))\n",
    "\n",
    "ax.plot(times,I_HoMF, ls='dashed',lw=2,c='red',alpha=0.8,label='Data (HoMFA)')\n",
    "ax.axhline(pi_1, label='Compartment SIS (Theory)',lw=2,c='b',alpha=0.8)\n",
    "ax.axhline(v_infty, label='NIMFA approximation (Theory)',lw=2,c='g',alpha=0.8)\n",
    "\n",
    "ax.set_xlabel('t',fontsize=fs)\n",
    "ax.set_ylabel(r'y(t)',fontsize=fs)\n",
    "ax.set_xscale('log')\n",
    "ax.legend()\n",
    "msg = r'$\\tau=$'+f\"{tau:.2f}\\n\"\n",
    "msg = msg + r'$\\delta=$'+f\"{delta:.2f}\\n\"\n",
    "msg = msg + f\"N = {N}\\n\"\n",
    "msg = msg + f\"<k> = {d_avg:.1f}\"\n",
    "\n",
    "ax.text(1e2,v_infty * 1.1, msg, color='black', \n",
    "        bbox=dict(facecolor='none', edgecolor='black'))\n",
    "\n",
    "plt.tight_layout()\n",
    "# plt.show()\n",
    "if outfile is not None:\n",
    "    \n",
    "    plt.savefig(f\"{outdir}{outfile}\", dpi=dpi, format=None, metadata=None,\n",
    "                bbox_inches='tight', pad_inches=0.1,\n",
    "                facecolor='auto', edgecolor='auto',\n",
    "                backend=None\n",
    "                )\n",
    "    print(f\"Figure saved in {outdir}{outfile}\")\n",
    "        "
   ]
  },
  {
   "cell_type": "markdown",
   "id": "88c83801-d84e-45c5-a41a-78c27d0291fb",
   "metadata": {},
   "source": [
    "You can play with the input parameters to see if you notice different behaviors..."
   ]
  },
  {
   "cell_type": "markdown",
   "id": "20a4edb7-73cd-4e58-8323-0a42d336a1e8",
   "metadata": {},
   "source": [
    "### Track the steady-state fraction of infected individuals\n",
    "\n",
    "For this, we need to vary the order parameters $\\tau=\\beta/\\delta$ and see where the system converges to as a function of this order parameter"
   ]
  },
  {
   "cell_type": "code",
   "execution_count": null,
   "id": "c3c8c83a-4c6e-498a-8a15-c8d9099145f3",
   "metadata": {},
   "outputs": [],
   "source": [
    "betas = np.linspace(1/d_avg * 0.1,1/d_avg*4,20)\n",
    "Is = np.zeros((len(betas),tcount))\n",
    "for bid,beta in enumerate(betas):\n",
    "\n",
    "    X = integrate.odeint(dSIS_homogeneous_meanfield, X0,times, \n",
    "                        args=( beta, delta, float(d_avg)/N))\n",
    "    S, I_HoMF = X.T\n",
    "    I_HoMF /= N\n",
    "\n",
    "    Is[bid,:] = I_HoMF\n"
   ]
  },
  {
   "cell_type": "code",
   "execution_count": null,
   "id": "05f35941-f2b3-41b9-a67d-519c5959d12a",
   "metadata": {},
   "outputs": [],
   "source": [
    "outfile = None"
   ]
  },
  {
   "cell_type": "code",
   "execution_count": null,
   "id": "c08aeccd-f40e-4191-bbc8-48349db0507c",
   "metadata": {},
   "outputs": [],
   "source": [
    "fig, ax = plt.subplots(1,1,figsize=(10, 4))\n",
    "\n",
    "y_theory_compartmentSIS = np.array([get_compartmentSIS_pi1(b,delta) for b in betas])\n",
    "y_theory_NIMFA = np.array([max(1 - 1/((b/delta) * d_avg),0) for b in betas])\n",
    "ax.scatter(betas,Is[:,-1], ls='--',lw=1,c='black',alpha=0.8, label='Data')\n",
    "ax.plot(betas,Is[:,-1], ls='--',lw=1,c='black',alpha=0.8)\n",
    "ax.plot(betas,y_theory_compartmentSIS, ls='-',lw=2,c='b',alpha=0.8, label='Compartment SIS (Theory)')\n",
    "ax.plot(betas,y_theory_NIMFA, ls='-',lw=2,c='g',alpha=0.8, label='NIMFA approximation (Theory)')\n",
    "\n",
    "ax.axvline(1/d_avg, lw=2,label=r'$\\tau_c^{(HMF)}$')\n",
    "ax.set_xlabel(r'$\\tau$',fontsize=fs)\n",
    "ax.set_ylabel(r'$y(\\infty)$',fontsize=fs)\n",
    "\n",
    "ax.legend()\n",
    "msg = r'$\\tau=$'+f\"{tau:.2f}\\n\"\n",
    "msg = msg + r'$\\delta=$'+f\"{delta:.2f}\\n\"\n",
    "msg = msg + f\"N = {N}\\n\"\n",
    "msg = msg + f\"<k> = {d_avg:.1f}\"\n",
    "# ax.set_title(msg)\n",
    "\n",
    "# plt.text(1e4,0.5,f\"tau_c = {tau_c1:.2f}\")\n",
    "ax.text(3/d_avg,0.1, msg, color='black', \n",
    "        bbox=dict(facecolor='none', edgecolor='black'))\n",
    "\n",
    "plt.tight_layout()\n",
    "# plt.show()\n",
    "if outfile is not None:\n",
    "    \n",
    "    plt.savefig(f\"{outdir}{outfile}\", dpi=dpi, format=None, metadata=None,\n",
    "                bbox_inches='tight', pad_inches=0.1,\n",
    "                facecolor='auto', edgecolor='auto',\n",
    "                backend=None\n",
    "                )\n",
    "    print(f\"Figure saved in {outdir}{outfile}\")"
   ]
  },
  {
   "cell_type": "markdown",
   "id": "00f812c0-d7a2-455b-866a-be2f20c30c8d",
   "metadata": {},
   "source": [
    "# 1. Exact $\\epsilon$-SIS dynamics"
   ]
  },
  {
   "cell_type": "markdown",
   "id": "335d20c0-5133-4df4-800a-f9f864e0d473",
   "metadata": {
    "execution": {
     "iopub.execute_input": "2024-12-12T11:28:22.620614Z",
     "iopub.status.busy": "2024-12-12T11:28:22.619128Z",
     "iopub.status.idle": "2024-12-12T11:28:22.658549Z",
     "shell.execute_reply": "2024-12-12T11:28:22.657812Z",
     "shell.execute_reply.started": "2024-12-12T11:28:22.620542Z"
    }
   },
   "source": [
    "Let's consider the _exact_ dynamics (for **small** $N$ only!) for a **random network** topology."
   ]
  },
  {
   "cell_type": "code",
   "execution_count": null,
   "id": "1556dce6-a111-46e9-ba26-195af178b3a2",
   "metadata": {},
   "outputs": [],
   "source": [
    "seed = 10\n",
    "prng = np.random.RandomState(seed)"
   ]
  },
  {
   "cell_type": "markdown",
   "id": "99fe21a0-efec-49bd-b2a0-af0dd20df649",
   "metadata": {},
   "source": [
    "## 1.1 Set up the problem\n",
    "Let's start by first creating the states, to familiarize ourselves with the binary notation:\n",
    "\n",
    "$i=\\sum_{k=1}^{N}x_{k}(i) \\,2^{k-1}$\n",
    "\n"
   ]
  },
  {
   "cell_type": "code",
   "execution_count": null,
   "id": "5a0086ff-a85b-4b43-81a3-61a46aabb30d",
   "metadata": {},
   "outputs": [],
   "source": [
    "N = 4 # number of nodes, keep it small!\n",
    "assert N <=10\n",
    "\n",
    "states = [dec_to_bin(i,N) for i in range(2**N)] # in binary notation\n",
    "states[:10]"
   ]
  },
  {
   "cell_type": "markdown",
   "id": "a04f29d8-1531-4083-880e-6108f81664a1",
   "metadata": {},
   "source": [
    "## 1.2 Build $Q$"
   ]
  },
  {
   "cell_type": "markdown",
   "id": "aa5d27ed-30cf-4e58-9d58-be4ecfe54660",
   "metadata": {
    "execution": {
     "iopub.execute_input": "2024-12-11T10:33:36.459434Z",
     "iopub.status.busy": "2024-12-11T10:33:36.459003Z",
     "iopub.status.idle": "2024-12-11T10:33:36.485196Z",
     "shell.execute_reply": "2024-12-11T10:33:36.484255Z",
     "shell.execute_reply.started": "2024-12-11T10:33:36.459409Z"
    }
   },
   "source": [
    "Let's now build $Q$, using:  \n",
    "$\n",
    "q_{ij} = \\left\\{ \\begin{array}{ll}\n",
    "                    \\delta & j=i-2^{m-1}; m=1,\\dots,N; x_m(i)=1 \\;\\;  \\text{(infected nodes)} \\\\\n",
    "                     \\epsilon +\\beta\\sum_k a_{mk}\\, x_k(i) & j=i+2^{m-1}; m=1,\\dots,N; x_m(i)=0  \\;\\;\\text{(susceptible nodes)}  \\\\\n",
    "                      -\\sum_{k\\neq j} q_{kj} & i=j \\;\\;\\text{(diagonal terms)}  \\\\\n",
    "                      0 & \\text{otherwise}\n",
    "                \\end{array}\n",
    "        \\right.\n",
    "$"
   ]
  },
  {
   "cell_type": "markdown",
   "id": "b1196410-0d7b-422a-a30a-a85eb4f7ec26",
   "metadata": {},
   "source": [
    "We need $A$, hence a graph. \n",
    "\n",
    "We use an ER model for generating the random graph."
   ]
  },
  {
   "cell_type": "code",
   "execution_count": null,
   "id": "5d91cf2f-4736-4abf-b43c-b475bcb35675",
   "metadata": {},
   "outputs": [],
   "source": [
    "p = 2 * np.log(N) / N\n",
    "\n",
    "d_avg = get_avg_d_from_pN(p,N)\n",
    "\n",
    "G = nx.erdos_renyi_graph(N, p, seed=seed)\n",
    "A = nx.adjacency_matrix(G).toarray()\n",
    "\n",
    "print(f\"d_avg (theory)= {d_avg:.2f}\")\n",
    "print(f\"d_avg (empirical) = {np.mean(list(dict(G.degree()).values())):.2f}\")\n"
   ]
  },
  {
   "cell_type": "markdown",
   "id": "0d4b0f0a-6d4b-47de-8c14-7a094f9f77f6",
   "metadata": {},
   "source": [
    "#### 1.2.1 Setup the main parameters\n",
    "\n",
    "- $\\epsilon$ (self-infection)\n",
    "- $\\beta$ (neighbors influence)\n",
    "- $\\delta$ (recovery)\n",
    "\n",
    "Start fixing $\\epsilon=0$, $\\tau=\\beta/\\delta <1$ and then play with these values."
   ]
  },
  {
   "cell_type": "code",
   "execution_count": null,
   "id": "1ea6989e-0982-4a4f-8304-3061e8b92294",
   "metadata": {},
   "outputs": [],
   "source": [
    "epsilon = 0.0\n",
    "delta = 1.\n",
    "beta = 0.1\n",
    "tau = beta / delta\n",
    "print(f\"tau = {tau}\")\n",
    "\n",
    "eigenvalues, eigenvectors = np.linalg.eig(A) # needed to get tau_c1\n",
    "tau_c1 = 1/np.max(eigenvalues)\n",
    "print(f\"1/lambda_1 = {tau_c1:.2f}\")"
   ]
  },
  {
   "cell_type": "markdown",
   "id": "0515648c-69bb-40d3-b128-999f54bcc1fd",
   "metadata": {},
   "source": [
    "### 1.2.2 Compute Q"
   ]
  },
  {
   "cell_type": "code",
   "execution_count": null,
   "id": "7ff9bec7-da97-4157-8c98-2f09cad187f5",
   "metadata": {},
   "outputs": [],
   "source": [
    "Ns = np.arange(N)\n",
    "V = len(states)\n",
    "Q = np.zeros((V,V))\n",
    "for i,si in enumerate(states):\n",
    "    '''\n",
    "    Transitions I --> S\n",
    "    '''\n",
    "    mask = np.array([si[m] for m in Ns]) == '1'\n",
    "    infected_mid = Ns[mask]\n",
    "    for m in infected_mid:\n",
    "        sj = si \n",
    "        # sj[m] = '0' # switch 1 -> 0\n",
    "        sj = si[:m] + '0' + si[m+1:]\n",
    "        idx = states.index(sj)\n",
    "        Q[i,idx] = delta\n",
    "    '''\n",
    "    Transitions S --> I\n",
    "    '''\n",
    "    mask = np.array([si[m] for m in Ns]) == '0'\n",
    "    susceptible_mid = Ns[mask]\n",
    "    for m in susceptible_mid:\n",
    "        sj = si\n",
    "        # sj[m] = '1' # switch 1 -> 0\n",
    "        sj = si[:m] + '1' + si[m+1:]\n",
    "        idx = states.index(sj)\n",
    "        \n",
    "        rate_A = sum([int(si[int(idx_n)]) for idx_n in np.where(A[m]==1)[0]])\n",
    "        rate = epsilon + beta * rate_A\n",
    "        Q[i,idx] = rate\n",
    "\n",
    "'''\n",
    "Diagonal entries\n",
    "'''\n",
    "for i in range(Q.shape[0]):\n",
    "    rowSum = Q[i].sum() \n",
    "    Q[i,i] = - (rowSum - Q[i,i])\n"
   ]
  },
  {
   "cell_type": "markdown",
   "id": "a166b2cc-1396-4dca-83f0-99c0b195d44d",
   "metadata": {
    "execution": {
     "iopub.execute_input": "2024-12-12T11:31:15.157066Z",
     "iopub.status.busy": "2024-12-12T11:31:15.156558Z",
     "iopub.status.idle": "2024-12-12T11:31:15.186059Z",
     "shell.execute_reply": "2024-12-12T11:31:15.185496Z",
     "shell.execute_reply.started": "2024-12-12T11:31:15.157038Z"
    }
   },
   "source": [
    "Check that the only \"all-zero\" transition is the trivial \"all-health\" state (absorbing)"
   ]
  },
  {
   "cell_type": "code",
   "execution_count": null,
   "id": "3d767139-3cfa-4a5e-a533-c6deb5480e31",
   "metadata": {},
   "outputs": [],
   "source": [
    "np.where(np.sum(Q,axis=1) - np.diag(Q) == 0)[0]"
   ]
  },
  {
   "cell_type": "code",
   "execution_count": null,
   "id": "ad3abea9-0475-4000-8474-e31fb4d4dfaf",
   "metadata": {},
   "outputs": [],
   "source": [
    "filename = 'SIS_exact_example'\n",
    "if N <= 4:\n",
    "    outfile = get_filename(filename,lecture_id=lecture_id)\n",
    "else:\n",
    "    outfile = None"
   ]
  },
  {
   "cell_type": "markdown",
   "id": "6b297cef-dc56-476b-9495-51fa69ea005c",
   "metadata": {},
   "source": [
    "### 1.2.3 Visualize $A$ and $Q$"
   ]
  },
  {
   "cell_type": "code",
   "execution_count": null,
   "id": "299a4438-5c5f-4e57-af8c-e98b0ece0277",
   "metadata": {},
   "outputs": [],
   "source": [
    "plt.figure(figsize=(16,6))\n",
    "\n",
    "\n",
    "'''\n",
    "Adjacency matrix of the network\n",
    "'''\n",
    "plt.subplot(1,3,1)\n",
    "plt.imshow(A, vmax=1,vmin=0, cmap='Blues')\n",
    "plt.title(f\"A\",fontsize=fs)\n",
    "plt.xticks(np.arange(N),labels=np.arange(1,N+1))\n",
    "plt.yticks(np.arange(N),labels=np.arange(1,N+1))\n",
    "# plt.axis('off')\n",
    "# plt.colorbar()\n",
    "\n",
    "'''\n",
    "Q\n",
    "'''\n",
    "plt.subplot(1,3,2)\n",
    "plt.imshow(Q, vmax=1,vmin=0, cmap='Blues')\n",
    "\n",
    "for (j,i),label in np.ndenumerate(Q):\n",
    "    if label != 0:\n",
    "        plt.text(i,j,f\"{label:.1f}\",ha='center',va='center', c=color, fontsize = 6)\n",
    "        plt.text(i,j,f\"{label:.1f}\",ha='center',va='center', c=color, fontsize = 6)\n",
    "plt.axis('off')\n",
    "plt.colorbar()\n",
    "plt.title(f\"Q\",fontsize=fs)\n",
    "\n",
    "'''\n",
    "Markov graph from Q\n",
    "'''\n",
    "plt.subplot(1,3,3)\n",
    "ax = plt.gca()\n",
    "\n",
    "G_Q = get_graph_from_Q(Q,states)\n",
    "\n",
    "# pos = nx.spring_layout(G_Q, seed=10,iterations=1)\n",
    "pos = nx.circular_layout(G_Q)\n",
    "\n",
    "nx.draw_networkx_nodes(G_Q, pos, node_size=1000, edgecolors='black', node_color='white',ax=ax)\n",
    "nx.draw_networkx_labels(G_Q, pos, font_size=12,ax=ax)\n",
    "\n",
    "arc_rad = 0.2\n",
    "\n",
    "w = [G_Q[nodes[0]][nodes[1]][0]['weight']for nodes in G_Q.edges]\n",
    "edges = nx.draw_networkx_edges(G_Q, pos, ax=ax, connectionstyle=f'arc3, rad = {arc_rad}', edge_cmap=cm.Blues, width=w)\n",
    "\n",
    "pc = mpl.collections.PatchCollection(edges, cmap=cm.Blues)\n",
    "\n",
    "# ax = plt.gca()\n",
    "ax.set_axis_off()\n",
    "# plt.colorbar(pc, ax=ax)\n",
    "plt.title(f\"G(Q)\",fontsize=fs)\n",
    "\n",
    "plt.tight_layout()\n",
    "# plt.show()\n",
    "if outfile is not None:\n",
    "    \n",
    "    plt.savefig(f\"{outdir}{outfile}\", dpi=dpi, format=None, metadata=None,\n",
    "                bbox_inches='tight', pad_inches=0.1,\n",
    "                facecolor='auto', edgecolor='auto',\n",
    "                backend=None\n",
    "                )\n",
    "    print(f\"Figure saved in {outdir}{outfile}\")\n",
    "        \n",
    "plt.show()"
   ]
  },
  {
   "cell_type": "markdown",
   "id": "f5d64f7a-1e5f-47d9-a651-1f52226de3f6",
   "metadata": {},
   "source": [
    "## 1.3 Run the dynamics\n",
    "\n",
    "We need to choose an observable quantity to track, and interesting and representative quantity for the dynamics.\n",
    "\n",
    "One such quantity is the expected value of the number of infected individuals:\n",
    "\n",
    "- $y(t) = \\frac{1}{N} \\sum_{k} E[X_{k}(t)=1]$\n",
    "\n",
    "This can be computed by taking:\n",
    "\n",
    "- $y(t) = \\frac{1}{N}\\sum_{j =1}^{2^N} f(s_j)\\, P(s_j(t))$,\n",
    "\n",
    "  where $f(s_j)=\\sum_{m=1}^N x_m(j)$, i.e. the total number of infected individuals in a state $s_j$.\n"
   ]
  },
  {
   "cell_type": "markdown",
   "id": "76d04970-b897-4121-b63b-bd0ddabd1e25",
   "metadata": {},
   "source": [
    "#### Select initial state and assign all probability to it (as in a Diract-delta)\n",
    "\n",
    "- $X(0) = x_0$\n",
    "- $S(0) = \\delta(X(0) - x_0)$"
   ]
  },
  {
   "cell_type": "code",
   "execution_count": null,
   "id": "9b51acfc-4ee3-4e69-b161-ce8a3eb6fd03",
   "metadata": {},
   "outputs": [],
   "source": [
    "# x = prng.choice([0, 1], size=(N,))\n",
    "x = prng.choice(states, size=(1,))[0]\n",
    "print(f\"Initial state = {x}\")"
   ]
  },
  {
   "cell_type": "code",
   "execution_count": null,
   "id": "05e79f5b-373f-487d-8a56-db5e87f1e202",
   "metadata": {},
   "outputs": [],
   "source": [
    "S_0 = np.zeros(V)\n",
    "idx0 = states.index(x)\n",
    "S_0[idx0] = 1. # all probability mass is placed in the initial state\n"
   ]
  },
  {
   "cell_type": "markdown",
   "id": "4db38856-ba90-42bf-a8ae-08aaffa34364",
   "metadata": {
    "execution": {
     "iopub.execute_input": "2024-12-11T15:01:05.131268Z",
     "iopub.status.busy": "2024-12-11T15:01:05.130736Z",
     "iopub.status.idle": "2024-12-11T15:01:05.155668Z",
     "shell.execute_reply": "2024-12-11T15:01:05.154703Z",
     "shell.execute_reply.started": "2024-12-11T15:01:05.131236Z"
    }
   },
   "source": [
    "Let's now build the matrices to compute $y(t)$.  \n",
    "\n",
    "- $S(t)^T = S_0^T\\, e^{Qt}$"
   ]
  },
  {
   "cell_type": "code",
   "execution_count": null,
   "id": "82ccf4b2-3612-4dd2-b5d3-eb94a984eed8",
   "metadata": {},
   "outputs": [],
   "source": [
    "P = get_P(Q, t = 1)\n",
    "S_t = np.dot(S_0, P)\n",
    "assert np.allclose(S_t.sum(),1)"
   ]
  },
  {
   "cell_type": "code",
   "execution_count": null,
   "id": "c8e47152-2947-4a74-a429-48df75a3ba18",
   "metadata": {},
   "outputs": [],
   "source": [
    "def get_y_t(S_t: np.array, N: int)-> float:\n",
    "    Ns = np.arange(N)\n",
    "    y_t = 0\n",
    "    for i,pi in enumerate(S_t):\n",
    "        n1 = np.sum(np.array([states[i][m-1] for m in Ns]) == '1') # computes the number of '1' in a state\n",
    "        y_t +=  n1 * pi # weighted by the probability of that state\n",
    "    return y_t"
   ]
  },
  {
   "cell_type": "markdown",
   "id": "ef48e387-3625-4db6-b88b-e99073972ed0",
   "metadata": {},
   "source": [
    "#### Run the dynamics for various time steps"
   ]
  },
  {
   "cell_type": "code",
   "execution_count": null,
   "id": "7356946d-e23b-47b5-b897-ddf9ad9b8538",
   "metadata": {},
   "outputs": [],
   "source": [
    "time_steps = [0.01,0.05,0.1,0.5,1.0,2.0,5.0,10.,1e2,1e3,1e4, 1e5, 1e6]\n",
    "time_steps.sort()\n",
    "T = len(time_steps)+1 # number of timesteps to simulate\n",
    "\n",
    "R = 100 # number of samples (different initial states)\n",
    "y_t = np.zeros((R,T))\n",
    "for r in np.arange(R):\n",
    "    # Set initial state\n",
    "    x = prng.choice(states, size=(1,))[0]\n",
    "    S_0 = np.zeros(V)\n",
    "    idx0 = states.index(x)\n",
    "    S_0[idx0] = 1. # all probability mass is placed in the initial state\n",
    "    # print(f\"Starting state distribution = {S_0}\")\n",
    "    # print(f\"Starting state = {x}\")\n",
    "    '''\n",
    "    Compute y(t) as a function of time\n",
    "    '''\n",
    "    y_t[r,0] = get_y_t(S_0,N) / N\n",
    "    for i, t in enumerate(time_steps):\n",
    "        \n",
    "        P = get_P(Q, t = t)\n",
    "        S_t = np.dot(S_0, P)\n",
    "    \n",
    "        y_t[r,i+1] = get_y_t(S_t,N) / N"
   ]
  },
  {
   "cell_type": "code",
   "execution_count": null,
   "id": "922cf277-c1fa-4fba-bfcc-1ae495e3fe90",
   "metadata": {},
   "outputs": [],
   "source": [
    "filename = f'SIS_exact_y_infty_e{epsilon:.2}_tau{tau:.2f}'\n",
    "outfile = get_filename(filename,lecture_id=lecture_id)\n",
    "\n",
    "# outfile = None"
   ]
  },
  {
   "cell_type": "code",
   "execution_count": null,
   "id": "99d4f719-0736-437d-b31d-06b812df49ad",
   "metadata": {},
   "outputs": [],
   "source": [
    "fig, ax = plt.subplots(1,1,figsize=(8, 4))\n",
    "xs = [0] + list(time_steps)\n",
    "xs = [x/ (1/delta) for x in xs]\n",
    "ys = np.mean(y_t,axis=0)\n",
    "ax.plot(xs,ys, ls='--',lw=1,c='black',alpha=0.8,label='Average trajectory')\n",
    "\n",
    "\n",
    "for i in range(10):\n",
    "    ax.plot(xs,y_t[i])\n",
    "\n",
    "ax.set_xlabel('t, units'+ r'$ (1/\\delta)$',fontsize=fs)\n",
    "ax.set_ylabel(r'y(t)',fontsize=fs)\n",
    "ax.set_xscale('log')\n",
    "ax.legend()\n",
    "msg = r'$\\tau=$'+f\"{tau:.2f}\\n\"\n",
    "msg = msg + r'$\\tau_c=$'+f\"{tau_c1:.2f}\\n\"\n",
    "msg = msg + r'$\\delta=$'+f\"{delta:.2f}\\n\"\n",
    "msg = msg + r'$\\epsilon=$'+f\"{epsilon:.1f}\\n\"\n",
    "msg = msg + f\"N = {N}\\n\"\n",
    "msg = msg + f\"<k> = {d_avg:.1f}\"\n",
    "# ax.set_title(msg)\n",
    "\n",
    "# plt.text(1e4,0.5,f\"tau_c = {tau_c1:.2f}\")\n",
    "ax.text(1e5,0.3, msg, color='black', \n",
    "        bbox=dict(facecolor='none', edgecolor='black'))\n",
    "\n",
    "plt.tight_layout()\n",
    "# plt.show()\n",
    "if outfile is not None:\n",
    "    \n",
    "    plt.savefig(f\"{outdir}{outfile}\", dpi=dpi, format=None, metadata=None,\n",
    "                bbox_inches='tight', pad_inches=0.1,\n",
    "                facecolor='auto', edgecolor='auto',\n",
    "                backend=None\n",
    "                )\n",
    "    print(f\"Figure saved in {outdir}{outfile}\")\n",
    "        "
   ]
  },
  {
   "cell_type": "markdown",
   "id": "4eb4959c-818d-4971-acce-420eed615942",
   "metadata": {},
   "source": [
    "#### Q: how do we change parameters to see a **metastable** state?"
   ]
  },
  {
   "cell_type": "markdown",
   "id": "f203062c-fb82-43e9-9a68-deda18ecdf6e",
   "metadata": {},
   "source": [
    "Play with them and try!"
   ]
  },
  {
   "cell_type": "markdown",
   "id": "a9370cce-b765-4f4c-8fea-7bdfa0b9a5e8",
   "metadata": {},
   "source": [
    "# 2. NIMFA simulation\n",
    "We can run this approximation by using the ODE:\n",
    "\n",
    "$\\frac{d v_{i}(t)}{dt} = -\\delta \\, v_{i}(t)  + (1-v_{i}(t)) [\\beta \\sum_{k}a_{ik}v_{k}(t)  +\\epsilon] $\n",
    "\n",
    "and using numerical integration with `scipy.integrate.ode`"
   ]
  },
  {
   "cell_type": "code",
   "execution_count": null,
   "id": "9e9f45a8-b9da-47d1-92be-6c36edb75a79",
   "metadata": {},
   "outputs": [],
   "source": [
    "from scipy import integrate"
   ]
  },
  {
   "cell_type": "code",
   "execution_count": null,
   "id": "fcaba13b-4a78-4e08-bce1-35dd89e22479",
   "metadata": {},
   "outputs": [],
   "source": [
    "def dSIS_NIMFA(Y, t, neighs: dict, beta: float = 1., delta: float = 0., epsilon: float = 0.):\n",
    "    N = len(neighs)\n",
    "    dY = np.zeros(N)\n",
    "    for i in np.arange(N):\n",
    "        dY[i] = sum(beta * (1-Y[i]) * Y[nbr] for nbr in neighs[i]) + (1-Y[i]) * epsilon - delta * Y[i]\n",
    "\n",
    "    return dY"
   ]
  },
  {
   "cell_type": "code",
   "execution_count": null,
   "id": "0232606e-fae0-468a-b987-fcee16d41ab1",
   "metadata": {},
   "outputs": [],
   "source": [
    "tmin = 0\n",
    "tmax = 1e3\n",
    "tcount = 100000\n",
    "times = np.linspace(tmin, tmax, tcount)\n",
    "\n",
    "Y0 = dynp_pINI * np.ones(N)\n",
    "\n",
    "Y = integrate.odeint(dSIS_NIMFA, Y0, times,  \n",
    "                                args =(neighs, beta, delta, epsilon))\n",
    "# Is = sum(Y.T) / N\n",
    "Is = Y.T \n",
    "Is = np.mean(Is,axis=0)\n",
    "Is[-5:]"
   ]
  },
  {
   "cell_type": "code",
   "execution_count": null,
   "id": "1483334f-45b9-43c2-a7e9-2922df0a6ee1",
   "metadata": {},
   "outputs": [],
   "source": [
    "outfile = None"
   ]
  },
  {
   "cell_type": "code",
   "execution_count": null,
   "id": "5cd2908a-b1e4-4ca8-a29a-65fe96a3db37",
   "metadata": {},
   "outputs": [],
   "source": [
    "fig, ax = plt.subplots(1,1,figsize=(10, 4))\n",
    "\n",
    "ax.plot(times,Is, ls='-',lw=2,c='blue',alpha=0.8,label='NIMFA trajectory')\n",
    "\n",
    "ax.set_xlabel('t, units'+ r'$ (1/\\delta)$',fontsize=fs)\n",
    "ax.set_ylabel(r'y(t)',fontsize=fs)\n",
    "ax.set_xscale('log')\n",
    "ax.legend()\n",
    "msg = r'$\\tau=$'+f\"{tau:.2f}\\n\"\n",
    "msg = msg + r'$\\tau_c=$'+f\"{tau_c1:.2f}\\n\"\n",
    "msg = msg + r'$\\delta=$'+f\"{delta:.2f}\\n\"\n",
    "msg = msg + r'$\\epsilon=$'+f\"{epsilon:.1f}\\n\"\n",
    "msg = msg + f\"N = {N}\\n\"\n",
    "msg = msg + f\"<k> = {d_avg:.1f}\"\n",
    "# ax.set_title(msg)\n",
    "\n",
    "# plt.text(1e4,0.5,f\"tau_c = {tau_c1:.2f}\")\n",
    "ax.text(1e2,0.2, msg, color='black', \n",
    "        bbox=dict(facecolor='none', edgecolor='black'))\n",
    "\n",
    "plt.tight_layout()\n",
    "# plt.show()\n",
    "if outfile is not None:\n",
    "    \n",
    "    plt.savefig(f\"{outdir}{outfile}\", dpi=dpi, format=None, metadata=None,\n",
    "                bbox_inches='tight', pad_inches=0.1,\n",
    "                facecolor='auto', edgecolor='auto',\n",
    "                backend=None\n",
    "                )\n",
    "    print(f\"Figure saved in {outdir}{outfile}\")\n",
    "        "
   ]
  },
  {
   "cell_type": "markdown",
   "id": "5bdebd13-e6bc-4ef6-852a-9113282f71a6",
   "metadata": {},
   "source": [
    "Try with larger N!"
   ]
  },
  {
   "cell_type": "markdown",
   "id": "0923b599-3a65-451d-add5-eec895fe8800",
   "metadata": {},
   "source": [
    "## 3.1 Vary $\\tau$ and track steady-state\n",
    "We could check how is the steady-state of the expected fraction of infected nodes changing with $\\tau=\\beta/\\delta$ \n",
    "\n",
    "We can keep $\\delta$ fixed and vary $\\beta$"
   ]
  },
  {
   "cell_type": "code",
   "execution_count": null,
   "id": "0433c685-9b0d-4b32-b13d-e3e2301f277b",
   "metadata": {},
   "outputs": [],
   "source": [
    "N = 100 # number of nodes, keep it small!\n",
    "p = 2 * np.log(N) / N\n",
    "\n",
    "d_avg = get_avg_d_from_pN(p,N)\n",
    "G = nx.erdos_renyi_graph(N, p, seed=seed)\n",
    "A = nx.adjacency_matrix(G).toarray()\n",
    "\n",
    "degrees = A.sum(axis=1)\n",
    "neighs = {i : np.where(A[i]>0)[0] for i in range(N)}\n",
    "\n",
    "print(f\"d_avg (theory)= {d_avg:.2f}\")\n",
    "print(f\"d_avg (empirical) = {np.mean(list(dict(G.degree()).values())):.2f}\")\n",
    "\n",
    "eigenvalues, eigenvectors = np.linalg.eig(A) # needed to get tau_c1\n",
    "tau_c1 = 1/np.max(eigenvalues)\n",
    "print(f\"1/lambda_1 = {tau_c1:.2f}\")"
   ]
  },
  {
   "cell_type": "code",
   "execution_count": null,
   "id": "ac1ebbb7-9180-460d-80b0-6d4c48e6690b",
   "metadata": {},
   "outputs": [],
   "source": [
    "tmin = 0\n",
    "tmax = 1e3\n",
    "tcount = 100000\n",
    "times = np.linspace(tmin, tmax, tcount)\n",
    "\n",
    "dynp_pINI = 0.6\n",
    "Y0 = dynp_pINI * np.ones(N)\n",
    "\n",
    "betas = np.linspace(tau_c1 * 0.8,tau_c1*4,20)\n",
    "Is = np.zeros((len(betas),tcount))\n",
    "for bid,beta in enumerate(betas):\n",
    "    # print(f\"beta={beta:.2} | 1/lambda_1 = {tau_c1:.2f} vs tau={beta/delta:.2f}\")\n",
    "    Y0 = dynp_pINI * np.ones(N)\n",
    "    Y = integrate.odeint(dSIS_NIMFA, Y0, times,  \n",
    "                                    args =(neighs, beta, delta, epsilon))\n",
    "    # Is = sum(Y.T) / N\n",
    "    Is_tmp = Y.T \n",
    "    Is[bid,:] = np.mean(Is_tmp,axis=0)"
   ]
  },
  {
   "cell_type": "code",
   "execution_count": null,
   "id": "85fe0210-48a8-47f6-b309-7061bde4f68b",
   "metadata": {},
   "outputs": [],
   "source": [
    "fig, ax = plt.subplots(1,1,figsize=(10, 4))\n",
    "\n",
    "ax.scatter(betas,Is[:,-1], ls='--',lw=1,c='black',alpha=0.8)\n",
    "ax.plot(betas,Is[:,-1], ls='--',lw=1,c='black',alpha=0.8)\n",
    "\n",
    "ax.axvline(tau_c1, lw=2,label=r'$\\tau_c^{(1)}$')\n",
    "ax.set_xlabel(r'$\\tau$',fontsize=fs)\n",
    "ax.set_ylabel(r'$y(\\infty)$',fontsize=fs)\n",
    "\n",
    "ax.legend()\n",
    "msg = r'$\\tau_c=$'+f\"{tau_c1:.2f}\\n\"\n",
    "msg = msg + r'$\\delta=$'+f\"{delta:.2f}\\n\"\n",
    "msg = msg + r'$\\epsilon=$'+f\"{epsilon:.1f}\\n\"\n",
    "msg = msg + f\"N = {N}\\n\"\n",
    "msg = msg + f\"<k> = {d_avg:.1f}\"\n",
    "# ax.set_title(msg)\n",
    "\n",
    "# plt.text(1e4,0.5,f\"tau_c = {tau_c1:.2f}\")\n",
    "ax.text(0.3,0.2, msg, color='black', \n",
    "        bbox=dict(facecolor='none', edgecolor='black'))\n",
    "\n",
    "plt.tight_layout()\n",
    "# plt.show()\n",
    "if outfile is not None:\n",
    "    \n",
    "    plt.savefig(f\"{outdir}{outfile}\", dpi=dpi, format=None, metadata=None,\n",
    "                bbox_inches='tight', pad_inches=0.1,\n",
    "                facecolor='auto', edgecolor='auto',\n",
    "                backend=None\n",
    "                )\n",
    "    print(f\"Figure saved in {outdir}{outfile}\")"
   ]
  },
  {
   "cell_type": "markdown",
   "id": "f77de1b7-f70c-4988-97f0-d1f9f34b3ccb",
   "metadata": {},
   "source": [
    "Check also what happens if you change the initial fraction of infected nodes"
   ]
  },
  {
   "cell_type": "markdown",
   "id": "b621180f-1af0-41e9-9689-60ccf404b1e3",
   "metadata": {},
   "source": [
    "## 3.2 Compare with homogeneous approx (no network structure)\n",
    "The only information needed is the average degree, i.e. average number of infected individuals that can infect a given sucseptible node"
   ]
  },
  {
   "cell_type": "markdown",
   "id": "1cf61f31-799f-483c-93d7-317ccef6a8de",
   "metadata": {},
   "source": [
    "Set up network parameters"
   ]
  },
  {
   "cell_type": "code",
   "execution_count": null,
   "id": "5d61edf4-641c-4166-945a-24d3f7f25a6b",
   "metadata": {},
   "outputs": [],
   "source": [
    "N = 100 # number of nodes, keep it small!\n",
    "p = 2 * np.log(N) / N\n",
    "\n",
    "d_avg = get_avg_d_from_pN(p,N)\n",
    "G = nx.erdos_renyi_graph(N, p, seed=seed)\n",
    "A = nx.adjacency_matrix(G).toarray()\n",
    "\n",
    "degrees = A.sum(axis=1)\n",
    "neighs = {i : np.where(A[i]>0)[0] for i in range(N)}\n",
    "\n",
    "print(f\"d_avg (theory)= {d_avg:.2f}\")\n",
    "print(f\"d_avg (empirical) = {np.mean(list(dict(G.degree()).values())):.2f}\")\n",
    "\n",
    "eigenvalues, eigenvectors = np.linalg.eig(A) # needed to get tau_c1\n",
    "tau_c1 = 1/np.max(eigenvalues)\n",
    "print(f\"1/lambda_1 = {tau_c1:.2f}\")"
   ]
  },
  {
   "cell_type": "code",
   "execution_count": null,
   "id": "66fc3b90-db2c-4683-b167-f4fe0c88b4a8",
   "metadata": {},
   "outputs": [],
   "source": [
    "d_avg = np.mean(degrees)"
   ]
  },
  {
   "cell_type": "markdown",
   "id": "6c602f11-47f0-4c1d-8bcc-1aa511436361",
   "metadata": {},
   "source": [
    "Setup epidemic parameters"
   ]
  },
  {
   "cell_type": "code",
   "execution_count": null,
   "id": "d494fb5b-ba30-40bf-bb3c-397266c03968",
   "metadata": {},
   "outputs": [],
   "source": [
    "epsilon = 0.0\n",
    "delta = 1.\n",
    "beta = 1.\n",
    "tau = beta / delta\n",
    "print(f\"tau = {tau}\")"
   ]
  },
  {
   "cell_type": "markdown",
   "id": "b7ae8a30-4b4a-41fc-9c50-ed093f18f6f0",
   "metadata": {},
   "source": [
    "Computational parameters"
   ]
  },
  {
   "cell_type": "code",
   "execution_count": null,
   "id": "1e8bbe50-a506-47ad-b4b3-31b30b65dcf9",
   "metadata": {},
   "outputs": [],
   "source": [
    "tmin = 0\n",
    "tmax = 1e3\n",
    "tcount = 100000\n",
    "times = np.linspace(tmin, tmax, tcount)\n"
   ]
  },
  {
   "cell_type": "markdown",
   "id": "17b2ca7a-d766-402a-a5ac-f55cefe44453",
   "metadata": {},
   "source": [
    "Run Homogeneous MF"
   ]
  },
  {
   "cell_type": "code",
   "execution_count": null,
   "id": "ae8ede46-bd6b-4759-ae5b-fb65ffb93b4e",
   "metadata": {},
   "outputs": [],
   "source": [
    "dynp_pINI = 0.2"
   ]
  },
  {
   "cell_type": "code",
   "execution_count": null,
   "id": "f20f4b99-54ca-4f6e-99e8-75f65c06aa1c",
   "metadata": {},
   "outputs": [],
   "source": [
    "I0 = dynp_pINI * N\n",
    "S0 = N - I0\n",
    "X0 = np.array([S0,I0])\n",
    "times = np.linspace(tmin,tmax,tcount)\n",
    "X = integrate.odeint(dSIS_homogeneous_meanfield, X0,times, \n",
    "                        args=(float(d_avg)/N, tau, delta))\n",
    "S, I_HoMF = X.T\n",
    "I_HoMF /= N"
   ]
  },
  {
   "cell_type": "markdown",
   "id": "38c2cc80-902f-4f2a-b367-0653c90729bf",
   "metadata": {},
   "source": [
    "Run NIMFA"
   ]
  },
  {
   "cell_type": "code",
   "execution_count": null,
   "id": "138a831f-c44e-4df1-b066-431b9eed6d76",
   "metadata": {},
   "outputs": [],
   "source": [
    "\n",
    "Y0 = dynp_pINI * np.ones(N)\n",
    "\n",
    "Y = integrate.odeint(dSIS_NIMFA, Y0, times,  \n",
    "                                args =(neighs, beta, delta, epsilon))\n",
    "# Is = sum(Y.T) / N\n",
    "Is = Y.T \n",
    "Is = np.mean(Is,axis=0)\n",
    "Is[-5:]"
   ]
  },
  {
   "cell_type": "markdown",
   "id": "035c5d62-7663-423b-856e-0f04721c193d",
   "metadata": {},
   "source": [
    "Plot"
   ]
  },
  {
   "cell_type": "code",
   "execution_count": null,
   "id": "820e52ff-a12a-4984-9a96-98614db1ceea",
   "metadata": {},
   "outputs": [],
   "source": [
    "outfile = None"
   ]
  },
  {
   "cell_type": "code",
   "execution_count": null,
   "id": "a0346f9b-833d-4989-9b77-7383a89e9902",
   "metadata": {},
   "outputs": [],
   "source": [
    "fig, ax = plt.subplots(1,1,figsize=(10, 4))\n",
    "\n",
    "ax.plot(times,Is, ls='dotted',lw=2,c='blue',alpha=0.8,label='NIMFA')\n",
    "ax.plot(times,I_HoMF, ls='dashed',lw=2,c='red',alpha=0.8,label='HoMFA')\n",
    "\n",
    "ax.set_xlabel('t',fontsize=fs)\n",
    "ax.set_ylabel(r'y(t)',fontsize=fs)\n",
    "ax.set_xscale('log')\n",
    "ax.legend()\n",
    "msg = r'$\\tau=$'+f\"{tau:.2f}\\n\"\n",
    "msg = msg + r'$\\tau_c=$'+f\"{tau_c1:.2f}\\n\"\n",
    "msg = msg + r'$\\delta=$'+f\"{delta:.2f}\\n\"\n",
    "msg = msg + r'$\\epsilon=$'+f\"{epsilon:.1f}\\n\"\n",
    "msg = msg + f\"N = {N}\\n\"\n",
    "msg = msg + f\"<k> = {d_avg:.1f}\"\n",
    "# ax.set_title(msg)\n",
    "\n",
    "# plt.text(1e4,0.5,f\"tau_c = {tau_c1:.2f}\")\n",
    "ax.text(1e1,0.3, msg, color='black', \n",
    "        bbox=dict(facecolor='none', edgecolor='black'))\n",
    "\n",
    "plt.tight_layout()\n",
    "# plt.show()\n",
    "if outfile is not None:\n",
    "    \n",
    "    plt.savefig(f\"{outdir}{outfile}\", dpi=dpi, format=None, metadata=None,\n",
    "                bbox_inches='tight', pad_inches=0.1,\n",
    "                facecolor='auto', edgecolor='auto',\n",
    "                backend=None\n",
    "                )\n",
    "    print(f\"Figure saved in {outdir}{outfile}\")\n",
    "        "
   ]
  },
  {
   "cell_type": "markdown",
   "id": "fcb0b7df-fc59-480d-9cf6-85bc43b02e4f",
   "metadata": {},
   "source": [
    "How do you make results more different?"
   ]
  },
  {
   "cell_type": "code",
   "execution_count": null,
   "id": "4f1eaff6-6f7e-4456-b137-e6df231a25b2",
   "metadata": {},
   "outputs": [],
   "source": []
  }
 ],
 "metadata": {
  "kernelspec": {
   "display_name": "Python 3 (ipykernel)",
   "language": "python",
   "name": "python3"
  },
  "language_info": {
   "codemirror_mode": {
    "name": "ipython",
    "version": 3
   },
   "file_extension": ".py",
   "mimetype": "text/x-python",
   "name": "python",
   "nbconvert_exporter": "python",
   "pygments_lexer": "ipython3",
   "version": "3.12.7"
  }
 },
 "nbformat": 4,
 "nbformat_minor": 5
}
