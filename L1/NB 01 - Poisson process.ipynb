{
 "cells": [
  {
   "cell_type": "code",
   "execution_count": null,
   "id": "111bcd99-22e9-4b7c-88f8-fe3219a7fd66",
   "metadata": {},
   "outputs": [],
   "source": [
    "%load_ext autoreload\n",
    "%autoreload 2"
   ]
  },
  {
   "cell_type": "code",
   "execution_count": null,
   "id": "57bf21c4-bca0-421f-8c44-2e565c3c3590",
   "metadata": {},
   "outputs": [],
   "source": [
    "import numpy as np\n",
    "import pandas as pd\n",
    "import matplotlib.pyplot as plt\n",
    "from scipy.special import factorial"
   ]
  },
  {
   "cell_type": "code",
   "execution_count": null,
   "id": "ad405a82-25d4-4d08-ad15-31919dfdb8f2",
   "metadata": {},
   "outputs": [],
   "source": [
    "# plt.style.available"
   ]
  },
  {
   "cell_type": "code",
   "execution_count": null,
   "id": "d42f4982-4958-428c-b66c-f66ee091df4f",
   "metadata": {},
   "outputs": [],
   "source": [
    "'''\n",
    "------------------------------------------\n",
    "            SETTINGS\n",
    "------------------------------------------\n",
    "'''\n",
    "plt.style.use('fivethirtyeight')\n",
    "# plt.style.use('seaborn-v0_8-notebook')\n",
    "plt.rcParams['font.family'] = 'PT Sans'\n",
    "# plt.rcParams['font.serif'] = 'Ubuntu'\n",
    "plt.rcParams['font.monospace'] = 'Ubuntu Mono'\n",
    "plt.rcParams['font.size'] = 14\n",
    "plt.rcParams['axes.labelsize'] = 14\n",
    "plt.rcParams['axes.labelweight'] = 'bold'\n",
    "plt.rcParams['xtick.labelsize'] = 12\n",
    "plt.rcParams['ytick.labelsize'] = 12\n",
    "plt.rcParams['legend.fontsize'] = 14\n",
    "plt.rcParams['figure.titlesize'] = 12\n",
    "\n",
    "dpi = 100"
   ]
  },
  {
   "cell_type": "code",
   "execution_count": null,
   "id": "5161dc16-4a91-4db9-b98d-980a66f15ed8",
   "metadata": {},
   "outputs": [],
   "source": [
    "def get_filename(filename: str, lecture_id: int = 1, file_extension: str = '.png') -> str:\n",
    "    return f\"L{lecture_id}_{filename}{file_extension}\""
   ]
  },
  {
   "cell_type": "code",
   "execution_count": null,
   "id": "daf121a3-9596-4103-b8bc-603928245c43",
   "metadata": {},
   "outputs": [],
   "source": [
    "outdir = '../figures/'\n",
    "lecture_id = 1"
   ]
  },
  {
   "cell_type": "code",
   "execution_count": null,
   "id": "856ca535-63c6-4f14-96be-516d2d4c01f0",
   "metadata": {},
   "outputs": [],
   "source": [
    "seed = 10\n",
    "prng = np.random.RandomState(seed)"
   ]
  },
  {
   "cell_type": "markdown",
   "id": "428c0c85-ef97-4bfc-b426-f8ce7786438d",
   "metadata": {},
   "source": [
    "# 1. Rolling a dice\n",
    "Let's simulate a stochastic process of rolling a dice."
   ]
  },
  {
   "cell_type": "code",
   "execution_count": null,
   "id": "6d636bc3-d416-4741-b3c6-aff86c6f0408",
   "metadata": {},
   "outputs": [],
   "source": [
    "filename = 'rolling_dice'\n",
    "filename = get_filename(filename,lecture_id=lecture_id)\n",
    "\n",
    "outfile = filename"
   ]
  },
  {
   "cell_type": "code",
   "execution_count": null,
   "id": "9f5ccbcf-c953-4655-a43d-7308fec32c97",
   "metadata": {},
   "outputs": [],
   "source": [
    "T = 20 # number of draws\n",
    "y = prng.choice(np.arange(1,7),size=T,replace=True)\n",
    "x = np.arange(T).astype(int)"
   ]
  },
  {
   "cell_type": "code",
   "execution_count": null,
   "id": "5eef68a0-3619-468d-95c1-d6a41c334f41",
   "metadata": {},
   "outputs": [],
   "source": [
    "plt.scatter(x,y, s=100)\n",
    "plt.step(x,y,  where='mid')\n",
    "\n",
    "plt.xlabel('Iteration id')\n",
    "plt.ylabel('Number selected')\n",
    "plt.xticks(x.astype(int))\n",
    "plt.yticks(y.astype(int))\n",
    "\n",
    "# plt.title(f\"Rolling a dice\")\n",
    "\n",
    "plt.tight_layout()\n",
    "if outfile is not None:\n",
    "    \n",
    "    plt.savefig(f\"{outdir}{outfile}\", dpi=dpi, format=None, metadata=None,\n",
    "                bbox_inches='tight', pad_inches=0.1,\n",
    "                facecolor='auto', edgecolor='auto',\n",
    "                backend=None\n",
    "                )\n",
    "    print(f\"Figure saved in {outdir}{outfile}\")\n",
    "        \n",
    "plt.show()"
   ]
  },
  {
   "cell_type": "markdown",
   "id": "3d4f9d21-cc09-475b-9704-7eed9ad8939d",
   "metadata": {},
   "source": [
    "### 1.1 Increments\n",
    "Let's take a look at the increments:  \n",
    "$X_{n+1} - X_{n}$ ,  \n",
    "where $X_n \\in \\{1,\\dots,6\\}$ is the result at time $n$."
   ]
  },
  {
   "cell_type": "code",
   "execution_count": null,
   "id": "4f869ca0-e90e-4d0b-be5b-929be3f456ed",
   "metadata": {},
   "outputs": [],
   "source": [
    "filename = 'rolling_dice_increments'\n",
    "filename = get_filename(filename,lecture_id=lecture_id)\n",
    "\n",
    "outfile = filename\n",
    "outfile"
   ]
  },
  {
   "cell_type": "code",
   "execution_count": null,
   "id": "562ab4ca-af71-4ac3-ac3a-4454894cd10b",
   "metadata": {},
   "outputs": [],
   "source": [
    "y_increments = np.diff(y)"
   ]
  },
  {
   "cell_type": "code",
   "execution_count": null,
   "id": "72010366-cde9-40f3-aae7-966192ffe3ec",
   "metadata": {},
   "outputs": [],
   "source": [
    "plt.scatter(x[1:],y_increments, s=100)\n",
    "plt.step(x[1:],y_increments,  where='mid')\n",
    "plt.plot(x,np.zeros(len(x)), color = 'grey',ls='--',zorder=0,lw=2)\n",
    "\n",
    "plt.xlabel('Iteration id')\n",
    "plt.ylabel('Increment')\n",
    "plt.xticks(x.astype(int))\n",
    "plt.yticks(y_increments.astype(int))\n",
    "\n",
    "# plt.title(f\"Rolling a dice: increments\")\n",
    "\n",
    "plt.tight_layout()\n",
    "if outfile is not None:\n",
    "    \n",
    "    plt.savefig(f\"{outdir}{outfile}\", dpi=dpi, format=None, metadata=None,\n",
    "                bbox_inches='tight', pad_inches=0.1,\n",
    "                facecolor='auto', edgecolor='auto',\n",
    "                backend=None\n",
    "                )\n",
    "    print(f\"Figure saved in {outdir}{outfile}\")\n",
    "        \n",
    "plt.show()"
   ]
  },
  {
   "cell_type": "markdown",
   "id": "83f92ac0-3133-4572-8f36-2b7aff9f11e8",
   "metadata": {},
   "source": [
    "In general they can be positive, or negative and fluctuate between a maximum and a minimum value."
   ]
  },
  {
   "cell_type": "markdown",
   "id": "6ae72a0a-6ae0-4631-8f27-49b70d54feb8",
   "metadata": {
    "execution": {
     "iopub.execute_input": "2024-10-04T12:28:36.898251Z",
     "iopub.status.busy": "2024-10-04T12:28:36.898114Z",
     "iopub.status.idle": "2024-10-04T12:28:36.900665Z",
     "shell.execute_reply": "2024-10-04T12:28:36.900454Z",
     "shell.execute_reply.started": "2024-10-04T12:28:36.898242Z"
    }
   },
   "source": [
    "### 1.2 Analyzing the empirical distributions\n",
    "To better understand the process, let's investigate some relevant quantities.  \n",
    "As we are dealing with random variables, it is useful to observe distributions."
   ]
  },
  {
   "cell_type": "code",
   "execution_count": null,
   "id": "f519da42-986a-420d-80ee-31d4da906af6",
   "metadata": {},
   "outputs": [],
   "source": [
    "filename = 'rolling_dice_dist'\n",
    "filename = get_filename(filename,lecture_id=lecture_id)\n",
    "\n",
    "outfile = filename\n",
    "outfile"
   ]
  },
  {
   "cell_type": "markdown",
   "id": "e0dc640e-ab3a-4038-972e-54f28d7a2c44",
   "metadata": {},
   "source": [
    "If we want to investigate a probability distribution, we need to consider a large enough number of samples.  \n",
    "Hence, let's increase the number of draws $T$."
   ]
  },
  {
   "cell_type": "code",
   "execution_count": null,
   "id": "e067f635-203b-4178-8143-f66506063841",
   "metadata": {},
   "outputs": [],
   "source": [
    "T = 10000 # number of draws\n",
    "y = prng.choice(np.arange(1,7),size=T,replace=True)\n",
    "y_increments = np.diff(y)\n",
    "x = np.arange(T).astype(int)"
   ]
  },
  {
   "cell_type": "markdown",
   "id": "ff7ba6ff-0645-4ed4-a6fe-62f44233c546",
   "metadata": {},
   "source": [
    "- What are the most frequent numbers drawn\n",
    "- How is the increment distributed?"
   ]
  },
  {
   "cell_type": "code",
   "execution_count": null,
   "id": "ceb9c798-6379-4f57-a2d7-8f1250787ce3",
   "metadata": {},
   "outputs": [],
   "source": [
    "plt.figure(figsize=(6.5,3))\n",
    "\n",
    "plt.subplot(1,2,1)\n",
    "plt.hist(y, bins=6,rwidth=0.5)\n",
    "plt.ylabel('Frequency')\n",
    "plt.xlabel('Number selected')\n",
    "plt.xticks(np.arange(1,7))\n",
    "\n",
    "plt.subplot(1,2,2)\n",
    "plt.hist(y_increments, bins=11,rwidth=0.5)\n",
    "plt.ylabel('Frequency')\n",
    "plt.xlabel('Increment')\n",
    "plt.xticks(np.arange(-5,6))\n",
    "# plt.xlim([-5,5])\n",
    "\n",
    "plt.tight_layout()\n",
    "\n",
    "if outfile is not None:\n",
    "    \n",
    "    plt.savefig(f\"{outdir}{outfile}\", dpi=dpi, format=None, metadata=None,\n",
    "                bbox_inches='tight', pad_inches=0.1,\n",
    "                facecolor='auto', edgecolor='auto',\n",
    "                backend=None\n",
    "                )\n",
    "    print(f\"Figure saved in {outdir}{outfile}\")\n",
    "        \n",
    "plt.show()"
   ]
  },
  {
   "cell_type": "markdown",
   "id": "b5ca7d54-24a0-4219-8b4b-81b0ad9011d6",
   "metadata": {},
   "source": [
    "### 1.3 Turning a dice rolling into a _counting process_\n",
    "The process was not a counting process.   \n",
    "For this we need: \n",
    "- Positive $N(t) \\geq 0$\n",
    "- Non-decreasing $N(s+t) - N(s) \\geq 0$"
   ]
  },
  {
   "cell_type": "code",
   "execution_count": null,
   "id": "1c7f8132-b3a5-4196-ba17-668b63c114ce",
   "metadata": {},
   "outputs": [],
   "source": [
    "filename = 'rolling_dice_counting'\n",
    "filename = get_filename(filename,lecture_id=lecture_id)\n",
    "\n",
    "outfile = filename\n",
    "outfile"
   ]
  },
  {
   "cell_type": "code",
   "execution_count": null,
   "id": "efbe0303-d1bd-48d9-820f-0b4d58554861",
   "metadata": {},
   "outputs": [],
   "source": [
    "# outfile = None"
   ]
  },
  {
   "cell_type": "markdown",
   "id": "b4a6da09-b57c-4325-b1e0-275b2d0065ad",
   "metadata": {},
   "source": [
    "Let's first generate some random dice draws."
   ]
  },
  {
   "cell_type": "code",
   "execution_count": null,
   "id": "cf013caf-9894-4e0d-b51c-94b21055859e",
   "metadata": {},
   "outputs": [],
   "source": [
    "T = 20 # number of draws\n",
    "y = prng.choice(np.arange(1,7),size=T,replace=True)"
   ]
  },
  {
   "cell_type": "markdown",
   "id": "6cad2c58-5f71-485c-9bd7-a801ad8cc819",
   "metadata": {},
   "source": [
    "Now let's make it a counting process!  \n",
    "How?  \n",
    "By Introducing a $N(t)$ equal to the sum of the numbers drawn."
   ]
  },
  {
   "cell_type": "code",
   "execution_count": null,
   "id": "4ef301bb-b496-407a-b908-b9695f205c3c",
   "metadata": {},
   "outputs": [],
   "source": [
    "N = np.cumsum(y)\n",
    "x = np.arange(len(N))\n",
    "n_increments = np.diff(N)"
   ]
  },
  {
   "cell_type": "code",
   "execution_count": null,
   "id": "ae95ae5f-75d9-4bb2-ba01-39c891b5416b",
   "metadata": {},
   "outputs": [],
   "source": [
    "plt.figure(figsize=(12,4))\n",
    "\n",
    "plt.subplot(1,2,1)\n",
    "plt.scatter(x,N, s=10)\n",
    "plt.step(x,N, where='mid')\n",
    "\n",
    "plt.xlabel('Iteration id')\n",
    "plt.ylabel('N(t)')\n",
    "\n",
    "\n",
    "plt.subplot(1,2,2)\n",
    "plt.scatter(x[1:],n_increments, s=10)\n",
    "plt.step(x[1:],n_increments,  where='mid')\n",
    "plt.plot(x,np.zeros(len(x)), color = 'grey',ls='--',zorder=0,lw=2)\n",
    "\n",
    "plt.xlabel('Iteration id')\n",
    "plt.ylabel('Increment N(t)')\n",
    "plt.xticks(x.astype(int))\n",
    "plt.yticks(n_increments.astype(int))\n",
    "plt.tight_layout()\n",
    "\n",
    "if outfile is not None:\n",
    "    \n",
    "    plt.savefig(f\"{outdir}{outfile}\", dpi=dpi, format=None, metadata=None,\n",
    "                bbox_inches='tight', pad_inches=0.1,\n",
    "                facecolor='auto', edgecolor='auto',\n",
    "                backend=None\n",
    "                )\n",
    "    print(f\"Figure saved in {outdir}{outfile}\")\n",
    "        \n",
    "# plt.show()"
   ]
  },
  {
   "cell_type": "markdown",
   "id": "87e80faf-6dba-4935-b99e-20d492993f97",
   "metadata": {},
   "source": [
    "# 2. Poisson process (PP)"
   ]
  },
  {
   "cell_type": "markdown",
   "id": "352a439e-3f16-4ff6-abd8-c34f5a43e516",
   "metadata": {},
   "source": [
    "Let's generate events using the definition of a Poisson process."
   ]
  },
  {
   "cell_type": "code",
   "execution_count": null,
   "id": "4f8dc285-e82f-4189-8b62-ded4ba65fd69",
   "metadata": {},
   "outputs": [],
   "source": [
    "seed = 10\n",
    "prng = np.random.RandomState(seed)"
   ]
  },
  {
   "cell_type": "markdown",
   "id": "8bcb1a75-4449-4ae4-b49d-ab57aae3671a",
   "metadata": {},
   "source": [
    "Here we also want to generate more than one sample of the process, so we play also with the variable $M$."
   ]
  },
  {
   "cell_type": "code",
   "execution_count": null,
   "id": "f50b9c91-67a4-4e77-8058-958c8bc89b85",
   "metadata": {},
   "outputs": [],
   "source": [
    "rate, delta_t = 10, 1\n",
    "T = 20 # max time window\n",
    "M = 1000 # number of samples of the process"
   ]
  },
  {
   "cell_type": "markdown",
   "id": "49a8cdc6-1361-48b5-93e8-411bfb774de6",
   "metadata": {},
   "source": [
    "Now we can draw increments from a Poisson of rate $\\lambda \\,t$.  \n",
    "And we repeat this $M$ times."
   ]
  },
  {
   "cell_type": "code",
   "execution_count": null,
   "id": "8299ac43-9a8a-4cd4-bbc1-3bdf85b9a837",
   "metadata": {},
   "outputs": [],
   "source": [
    "y_increments = prng.poisson(rate * delta_t,size=(M,T))\n",
    "y = np.array([np.cumsum(y_increments[i]) for i in range(M)])\n",
    "\n",
    "x = np.arange(len(y[0]))\n",
    "\n",
    "len(y_increments),len(y), y.shape"
   ]
  },
  {
   "cell_type": "code",
   "execution_count": null,
   "id": "ea9ead0f-6e98-4b44-96b0-28b8db6b665e",
   "metadata": {},
   "outputs": [],
   "source": [
    "filename = 'pp_basic'\n",
    "filename = get_filename(filename,lecture_id=lecture_id)\n",
    "\n",
    "outfile = filename\n",
    "outfile"
   ]
  },
  {
   "cell_type": "code",
   "execution_count": null,
   "id": "8ec1e948-b6d9-418f-872f-9f08e637070b",
   "metadata": {},
   "outputs": [],
   "source": [
    "idx = 0\n",
    "plt.figure(figsize=(12,4))\n",
    "\n",
    "plt.subplot(1,2,1)\n",
    "\n",
    "selected_samples = prng.choice(np.arange(M),5)\n",
    "for idx in selected_samples:\n",
    "    plt.step(x,y[idx], where='mid', label = f'Sample {idx}',alpha=0.7)\n",
    "\n",
    "plt.xlabel('Iteration id')\n",
    "plt.ylabel('N(t)')\n",
    "plt.xticks(x.astype(int))\n",
    "# plt.yticks(y.astype(int))\n",
    "plt.legend()\n",
    "\n",
    "plt.subplot(1,2,2)\n",
    "\n",
    "plt.step(x,y_increments[idx],  where='mid', label=f'Sample {idx}')\n",
    "plt.plot(x,np.zeros(len(x)), color = 'grey',ls='--',zorder=0,lw=2)\n",
    "\n",
    "plt.xlabel('Iteration id')\n",
    "plt.ylabel('Increment N(t)')\n",
    "plt.xticks(x.astype(int))\n",
    "# plt.yticks(y_increments.astype(int))\n",
    "plt.legend()\n",
    "plt.tight_layout()\n",
    "\n",
    "if outfile is not None:\n",
    "    \n",
    "    plt.savefig(f\"{outdir}{outfile}\", dpi=dpi, format=None, metadata=None,\n",
    "                bbox_inches='tight', pad_inches=0.1,\n",
    "                facecolor='auto', edgecolor='auto',\n",
    "                backend=None\n",
    "                )\n",
    "    print(f\"Figure saved in {outdir}{outfile}\")\n",
    "        \n",
    "# plt.show()"
   ]
  },
  {
   "cell_type": "markdown",
   "id": "c9715c60-2fa7-4f61-bb89-41e950bbdd39",
   "metadata": {},
   "source": [
    "It does not really tell us anything about being _Poisson_.  \n",
    "Let's generate poisson numbers with paramerer $\\lambda t$ and compare with the empirical increments $N(s+t)-N(s)$."
   ]
  },
  {
   "cell_type": "code",
   "execution_count": null,
   "id": "ae216f63-c055-4333-b37f-680334da9e77",
   "metadata": {},
   "outputs": [],
   "source": [
    "def poisson_pmf(x, lmbda):\n",
    "    return (np.power(lmbda, x) / factorial(x)) * np.exp(-lmbda)\n",
    "    \n",
    "xs = np.arange(y_increments.max()+5)\n",
    "ps = poisson_pmf(xs, rate * delta_t)"
   ]
  },
  {
   "cell_type": "code",
   "execution_count": null,
   "id": "805e3856-c15a-4f29-bce2-4aef2c6f6762",
   "metadata": {},
   "outputs": [],
   "source": [
    "outfile = None"
   ]
  },
  {
   "cell_type": "code",
   "execution_count": null,
   "id": "3cf82d8b-15aa-4dd4-a019-9f098581e228",
   "metadata": {},
   "outputs": [],
   "source": [
    "bins = 20\n",
    "\n",
    "plt.figure(figsize=(6,4))\n",
    "\n",
    "plt.hist(y_increments[0], bins=bins,rwidth=0.5,density=True, label='Data')\n",
    "plt.ylabel('Frequency')\n",
    "plt.xlabel('Increment')\n",
    "\n",
    "plt.plot(xs, ps, 'ko-', lw=1,label='Theory')\n",
    "plt.legend()\n",
    "\n",
    "plt.tight_layout()\n",
    "\n",
    "if outfile is not None:\n",
    "    \n",
    "    plt.savefig(f\"{outdir}{outfile}\", dpi=dpi, format=None, metadata=None,\n",
    "                bbox_inches='tight', pad_inches=0.1,\n",
    "                facecolor='auto', edgecolor='auto',\n",
    "                backend=None\n",
    "                )\n",
    "    print(f\"Figure saved in {outdir}{outfile}\")\n",
    "        \n",
    "plt.show()"
   ]
  },
  {
   "cell_type": "markdown",
   "id": "d65f641d-4622-4df2-b3f3-b67220c4254e",
   "metadata": {
    "execution": {
     "iopub.execute_input": "2024-10-04T15:42:54.860690Z",
     "iopub.status.busy": "2024-10-04T15:42:54.859244Z",
     "iopub.status.idle": "2024-10-04T15:42:54.869595Z",
     "shell.execute_reply": "2024-10-04T15:42:54.868873Z",
     "shell.execute_reply.started": "2024-10-04T15:42:54.860640Z"
    }
   },
   "source": [
    "- **Remark**: from the plots above we cannot really tell _when_ the events happened in time. We only know that within a time interval $t$ there where $k$ events."
   ]
  },
  {
   "cell_type": "markdown",
   "id": "b2f44445-d3b3-4813-96bf-4ee421e1f3cd",
   "metadata": {},
   "source": [
    "# 3. Interarrival times"
   ]
  },
  {
   "cell_type": "markdown",
   "id": "7e7159a0-dbe5-4f78-9ddf-664791354153",
   "metadata": {},
   "source": [
    "Using the property of **interrarival times** of being iid exponentially distributed variables, we can now **simulate** also the times of _when_ events happen."
   ]
  },
  {
   "cell_type": "code",
   "execution_count": null,
   "id": "ad05955b-49d6-4776-92dd-3107d4510d91",
   "metadata": {},
   "outputs": [],
   "source": [
    "seed = 10\n",
    "prng = np.random.RandomState(seed=seed)"
   ]
  },
  {
   "cell_type": "code",
   "execution_count": null,
   "id": "c21d5322-f96c-4c23-9636-d2d7ab87d2f8",
   "metadata": {},
   "outputs": [],
   "source": [
    "rate = 10\n",
    "T = 2 # observation time window\n",
    "N = 20 # number of events\n",
    "\n",
    "# generate interarrival times from exponential distribution\n",
    "x = prng.exponential(1/rate, N)  \n",
    "\n",
    "# compute successive sums to create a sequence of arrival times\n",
    "ts = np.cumsum(x)  \n",
    "\n",
    "# remove events that exceed the horizon\n",
    "ts = ts[ts < T]  \n",
    "\n",
    "y = np.ones(len(x))\n",
    "\n",
    "N = np.arange(len(ts))\n",
    "len(ts),len(x), len(N)"
   ]
  },
  {
   "cell_type": "code",
   "execution_count": null,
   "id": "530f605e-2a10-40a0-a7c9-47a5d0fb67c9",
   "metadata": {},
   "outputs": [],
   "source": [
    "filename = 'pp_interarrival'\n",
    "filename = get_filename(filename,lecture_id=lecture_id)\n",
    "\n",
    "outfile = filename\n",
    "outfile\n",
    "\n",
    "# outfile = None"
   ]
  },
  {
   "cell_type": "code",
   "execution_count": null,
   "id": "6c77daa5-8aa7-42cd-9c7c-6f0385da4bb1",
   "metadata": {},
   "outputs": [],
   "source": [
    "plt.figure(figsize=(9,5))\n",
    "\n",
    "plt.subplot(2,1,1)\n",
    "plt.scatter(ts, y, s = 100, edgecolors='black')\n",
    "plt.ylabel('Event happening')\n",
    "plt.xlabel('t')\n",
    "plt.yticks(np.arange(1,2))\n",
    "\n",
    "plt.subplot(2,1,2)\n",
    "plt.step(ts,N)\n",
    "plt.ylabel('N(t)')\n",
    "plt.xlabel('t')\n",
    "# plt.yticks(np.arange(1,2))\n",
    "\n",
    "if outfile is not None:\n",
    "    \n",
    "    plt.savefig(f\"{outdir}{outfile}\", dpi=dpi, format=None, metadata=None,\n",
    "                bbox_inches='tight', pad_inches=0.1,\n",
    "                facecolor='auto', edgecolor='auto',\n",
    "                backend=None\n",
    "                )\n",
    "    print(f\"Figure saved in {outdir}{outfile}\")"
   ]
  },
  {
   "cell_type": "code",
   "execution_count": null,
   "id": "8fa023b2-f62b-460e-9de6-0810b5844ea0",
   "metadata": {},
   "outputs": [],
   "source": [
    "def exponential_pmf(x, lmbda):\n",
    "    return lmbda * np.exp(-lmbda * x)\n",
    "xs = np.linspace(0,x.max()+5,100)\n",
    "exps = exponential_pmf(xs, rate)\n"
   ]
  },
  {
   "cell_type": "markdown",
   "id": "b445a0c8-98af-4d0f-90fd-946b27b8aab6",
   "metadata": {},
   "source": [
    "Let's check that the empirical distribution matches the theoretical exponent distribution of the {$\\tau_n$}"
   ]
  },
  {
   "cell_type": "code",
   "execution_count": null,
   "id": "1fc80638-4c36-4734-8d18-213390a28307",
   "metadata": {},
   "outputs": [],
   "source": [
    "bins = 20\n",
    "\n",
    "plt.figure(figsize=(6,4))\n",
    "\n",
    "plt.hist(x, bins=bins,rwidth=0.5,density=True, label='Empirical')\n",
    "plt.plot(xs,exps, label='Theoretical exponential')\n",
    "plt.ylabel('Frequency')\n",
    "plt.xlabel('Interrarival time')\n",
    "plt.xlim([0,x.max() * 1.1])\n",
    "plt.legend()\n",
    "\n",
    "\n",
    "plt.tight_layout()\n",
    "\n",
    "if outfile is not None:\n",
    "    \n",
    "    plt.savefig(f\"{outdir}{outfile}\", dpi=dpi, format=None, metadata=None,\n",
    "                bbox_inches='tight', pad_inches=0.1,\n",
    "                facecolor='auto', edgecolor='auto',\n",
    "                backend=None\n",
    "                )\n",
    "    print(f\"Figure saved in {outdir}{outfile}\")\n",
    "        \n",
    "plt.show()"
   ]
  },
  {
   "cell_type": "markdown",
   "id": "19576851-516c-4d62-9ece-1128ec0c8678",
   "metadata": {},
   "source": [
    "### Can we simulate a PP in an other way, beside using the {$\\tau_n$}?\n",
    "We need to simulate the times _when_ the events happen.\n",
    "How?\n",
    "\n",
    "Using the property of PP vs **uniform** distribution!"
   ]
  },
  {
   "cell_type": "code",
   "execution_count": null,
   "id": "e092818b-2c9d-4978-bf7d-490125ece7ce",
   "metadata": {},
   "outputs": [],
   "source": [
    "seed = 10\n",
    "prng = np.random.RandomState(seed)\n",
    "\n",
    "rate, delta_t = 10, 1\n",
    "T = 1000 # max time window"
   ]
  },
  {
   "cell_type": "markdown",
   "id": "a5eb971f-c608-4427-bf65-4a70847513a1",
   "metadata": {
    "execution": {
     "iopub.execute_input": "2024-10-07T09:57:36.052351Z",
     "iopub.status.busy": "2024-10-07T09:57:36.051532Z",
     "iopub.status.idle": "2024-10-07T09:57:36.057551Z",
     "shell.execute_reply": "2024-10-07T09:57:36.056348Z",
     "shell.execute_reply.started": "2024-10-07T09:57:36.052320Z"
    }
   },
   "source": [
    "1. For each time interval $t$ we generate $n(t) = N(s+t) - N(s)$ events. \n",
    "\n",
    "2. Then, we generate $n(t)$ time indices {$t_k$} uniformly at random within $[s,s+t)$. "
   ]
  },
  {
   "cell_type": "markdown",
   "id": "626c3cef-24a3-4259-bb33-7bc8f2a1b9fb",
   "metadata": {},
   "source": [
    "Example for one interval"
   ]
  },
  {
   "cell_type": "code",
   "execution_count": null,
   "id": "141ddd87-3815-432d-a13f-ec4fefb6b8c5",
   "metadata": {},
   "outputs": [],
   "source": [
    "nt = np.random.poisson(rate * delta_t) # number of events within an interval delta_t\n",
    "ts = np.random.uniform(0, delta_t, size=nt)\n",
    "ts = np.sort(ts)\n",
    "print(f\"n(t) = {nt}\\nt_k={ts}\")\n",
    "\n",
    "plt.figure(figsize=(6,6))\n",
    "\n",
    "plt.subplot(2,1,1)\n",
    "y = np.ones(len(ts))\n",
    "plt.scatter(ts, y, s = 100, edgecolors='black')\n",
    "plt.ylabel('Event happening')\n",
    "plt.xlabel('t')\n",
    "# plt.yticks(np.arange(1,2))\n",
    "\n",
    "plt.subplot(2,1,2)\n",
    "plt.step(ts,np.cumsum(y))\n",
    "plt.plot(ts,nt * np.ones(len(ts)),ls='--',label=f\"n(t)={nt}\", c='black',lw=2)\n",
    "plt.ylabel('N(t)')\n",
    "plt.xlabel('t')\n",
    "plt.legend()\n",
    "\n",
    "plt.show()"
   ]
  },
  {
   "cell_type": "markdown",
   "id": "3d7fe9aa-78f7-406e-ac55-36c3846fb955",
   "metadata": {},
   "source": [
    "Now sample for $T$ many intervals and collect the {$\\tau_k$}"
   ]
  },
  {
   "cell_type": "code",
   "execution_count": null,
   "id": "82aea5d8-4e1b-45b6-82b2-c49d50414e65",
   "metadata": {},
   "outputs": [],
   "source": [
    "taus = [] # interarrival times\n",
    "for i in range(T):\n",
    "\n",
    "    nt = np.random.poisson(rate * delta_t) # number of events within an interval delta_t\n",
    "    ts = np.random.uniform(0, delta_t, size=nt)\n",
    "    ts = np.sort(ts)\n",
    "\n",
    "    # append all these interarrival times\n",
    "    taus.extend(np.diff(ts))\n",
    "taus = np.array(taus)"
   ]
  },
  {
   "cell_type": "markdown",
   "id": "ac18e0fa-e9f5-4c65-bb11-e9b2cbd61392",
   "metadata": {},
   "source": [
    "Plot empirical distribution and check if it matches an exponential distribution of mean $1/\\lambda$."
   ]
  },
  {
   "cell_type": "code",
   "execution_count": null,
   "id": "abaf85b3-b8a1-45b4-addb-cf54addb2deb",
   "metadata": {},
   "outputs": [],
   "source": [
    "xs = np.linspace(0,taus.max(),100)\n",
    "exps = exponential_pmf(xs, rate)"
   ]
  },
  {
   "cell_type": "code",
   "execution_count": null,
   "id": "b832799d-9c6b-47fa-a8ab-6f4f18394a5f",
   "metadata": {},
   "outputs": [],
   "source": [
    "plt.figure()\n",
    "\n",
    "bins = 20\n",
    "plt.hist(taus,density=True)\n",
    "plt.hist(exps,alpha=0.5,density=True)\n",
    "plt.xlim(0,taus.max())\n",
    "plt.show()"
   ]
  },
  {
   "cell_type": "markdown",
   "id": "9928c59d-b81e-4e1b-9d3a-ccbaef4551a3",
   "metadata": {},
   "source": [
    "This has some issue with the binning...let's try plotting with the cumulative distribution function (CDF) instead."
   ]
  },
  {
   "cell_type": "code",
   "execution_count": null,
   "id": "2b50b39a-162c-4c0c-b0d4-90ed3ee2f4ee",
   "metadata": {},
   "outputs": [],
   "source": [
    "# compute the (experimental) CDF of the data\n",
    "ecdf_x = np.sort(taus)\n",
    "ecdf_y = np.arange(len(ecdf_x)) / float(len(ecdf_x))\n",
    "\n",
    "# compute the (exact) CDF of the exponential\n",
    "xs = np.linspace(0, taus.max(), 100)\n",
    "exps = 1 - np.exp(-rate * xs)\n",
    "\n",
    "fig, ax = plt.subplots(1,1, figsize=(8,5))\n",
    "ax.plot(xs, exps, label='Theoretical (Exp) CDF')\n",
    "ax.plot(ecdf_x, ecdf_y, label='Empirical CDF')\n",
    "ax.set(xlabel=r'$\\tau_k$ (interarrival time)', ylabel=r'$F(x)$')\n",
    "ax.legend(fontsize=14)"
   ]
  },
  {
   "cell_type": "markdown",
   "id": "7a4d381e-05f2-4715-b6ed-53c105915172",
   "metadata": {},
   "source": [
    "## Q: what happens if you change the _uniform_ distribution to something else?\n",
    "Let's try.  \n",
    "We can for instance use a Gamma distribution."
   ]
  },
  {
   "cell_type": "code",
   "execution_count": null,
   "id": "962b76b7-7fcb-47b8-8253-cbc5a1c46695",
   "metadata": {},
   "outputs": [],
   "source": [
    "shape, scale= 1,1  # mean= shape * scale, std=scale*sqrt(shape)\n",
    "print(shape * scale, np.sqrt(shape) * scale)\n",
    "# np.random.gamma(shape, scale, 1)"
   ]
  },
  {
   "cell_type": "code",
   "execution_count": null,
   "id": "c21b6701-41cd-47bb-bbd5-dd20991fecd8",
   "metadata": {},
   "outputs": [],
   "source": [
    "nt = np.random.poisson(rate * delta_t) # number of events within an interval delta_t\n",
    "ts = np.random.gamma(shape, scale, size=nt)\n",
    "ts = np.sort(ts)\n",
    "print(f\"n(t) = {nt}, {len(ts)}\")\n",
    "\n",
    "plt.figure(figsize=(6,6))\n",
    "\n",
    "plt.subplot(2,1,1)\n",
    "y = np.ones(len(ts))\n",
    "plt.scatter(ts, y, s = 100, edgecolors='black')\n",
    "plt.ylabel('Event happening')\n",
    "plt.xlabel('t')\n",
    "# plt.yticks(np.arange(1,2))\n",
    "\n",
    "plt.subplot(2,1,2)\n",
    "plt.step(ts,np.cumsum(y))\n",
    "plt.plot(ts,nt * np.ones(len(ts)),ls='--',label=f\"n(t)={nt}\", c='black',lw=2)\n",
    "plt.ylabel('N(t)')\n",
    "plt.xlabel('t')\n",
    "# plt.xlim([0,delta_t])\n",
    "plt.legend()\n",
    "\n",
    "plt.show()"
   ]
  },
  {
   "cell_type": "markdown",
   "id": "635f1274-f7bb-470a-af7c-c830ba7a8b32",
   "metadata": {},
   "source": [
    "So far we do not notice much difference ...  \n",
    "Let's generate more intervals."
   ]
  },
  {
   "cell_type": "code",
   "execution_count": null,
   "id": "8e8c736f-f58d-4ab8-82ab-7132360dda98",
   "metadata": {},
   "outputs": [],
   "source": [
    "taus = [] # interarrival times\n",
    "for i in range(T):\n",
    "\n",
    "    nt = np.random.poisson(rate * delta_t) # number of events within an interval delta_t\n",
    "    # ts = np.random.uniform(0, delta_t, size=nT)\n",
    "    ts = np.random.gamma(shape, scale, size=nt)\n",
    "    ts = np.sort(ts)\n",
    "\n",
    "    # append all these interarrival times\n",
    "    taus.extend(np.diff(ts))\n",
    "taus = np.array(taus)"
   ]
  },
  {
   "cell_type": "markdown",
   "id": "cd6b495c-fe18-47c5-9273-255673b063f9",
   "metadata": {},
   "source": [
    "Generate samples from a Gamma distribution to plot the theoretical CDF"
   ]
  },
  {
   "cell_type": "code",
   "execution_count": null,
   "id": "8062e415-4030-4d34-9fca-8f069b22897f",
   "metadata": {},
   "outputs": [],
   "source": [
    "# compute the (experimental) CDF of the data\n",
    "ecdf_x = np.sort(taus)\n",
    "ecdf_y = np.arange(len(ecdf_x)) / float(len(ecdf_x))\n",
    "\n",
    "# compute the (exact) CDF of the exponential\n",
    "xs = np.linspace(0, taus.max(), 100)\n",
    "exps = 1 - np.exp(-rate * xs)\n",
    "\n",
    "fig, ax = plt.subplots(1,1, figsize=(8,5))\n",
    "ax.plot(xs, exps, label='Theoretical (Exp) CDF')\n",
    "ax.plot(ecdf_x, ecdf_y, label='Empirical CDF')\n",
    "ax.set(xlabel=r'$\\tau_k$ (interarrival time)', ylabel=r'$F(x)$')\n",
    "ax.legend(fontsize=14)"
   ]
  },
  {
   "cell_type": "markdown",
   "id": "f6ba4fdb-0b9e-4060-97b2-fca9daa38a7d",
   "metadata": {},
   "source": [
    "The two distributions don't match.  \n",
    "That's because you need **uniformly** distributed times $t_k$ to get **exponentially** distributed interarrivals $\\tau_k$,"
   ]
  },
  {
   "cell_type": "markdown",
   "id": "c66df3f9-4b91-4b5a-833e-c30603398f0e",
   "metadata": {},
   "source": [
    "# 4. Non-uniform Poisson Process\n",
    "Let's simulate a NUPP and see how it looks like.\n",
    "\n",
    "We consider as an example:\n",
    " - $\\lambda(t) = \\lambda_{max} \\, \\cos^2(2\\pi\\, t)$\n",
    "\n",
    "This is a periodic behavior with $\\lambda$ oscillating between 0 and its maximum value $\\lambda_{max}$.\n"
   ]
  },
  {
   "cell_type": "markdown",
   "id": "48f32483-fd51-4023-9a66-b239da26a336",
   "metadata": {
    "execution": {
     "iopub.execute_input": "2024-10-07T16:11:12.541107Z",
     "iopub.status.busy": "2024-10-07T16:11:12.539589Z",
     "iopub.status.idle": "2024-10-07T16:11:12.555084Z",
     "shell.execute_reply": "2024-10-07T16:11:12.554180Z",
     "shell.execute_reply.started": "2024-10-07T16:11:12.541031Z"
    }
   },
   "source": [
    "Simulating the process (no need to know why this is the way to simulate, but if you are interested you should look at \"rejection sampling\")."
   ]
  },
  {
   "cell_type": "code",
   "execution_count": null,
   "id": "6f448830-7873-4446-a95b-0420f26a1e53",
   "metadata": {},
   "outputs": [],
   "source": [
    "T = 2\n",
    "maxrate = 10\n",
    "\n",
    "# Generate rate function\n",
    "def rfun(t, maxrate: float = 10.):\n",
    "    return maxrate * (np.cos(t * (2*np.pi)) ** 2)\n",
    "\n",
    "N_T = np.random.poisson(maxrate * T)\n",
    "ts  = np.random.uniform(0, T,size=N_T)\n",
    "\n",
    "# thinning\n",
    "ts_thin = ts[np.random.uniform(size=len(ts)) <= (rfun(ts, maxrate=maxrate) / maxrate)].copy() # valid values for the NUPP"
   ]
  },
  {
   "cell_type": "code",
   "execution_count": null,
   "id": "13eb7243-16ae-44b6-9f8b-1b20e439571d",
   "metadata": {},
   "outputs": [],
   "source": [
    "fig, axs = plt.subplots(2,1, figsize=(10,3), sharex=True)\n",
    "\n",
    "# draw rate\n",
    "xs = np.linspace(0,T,100)\n",
    "axs[0].plot(xs, rfun(xs), 'b-')\n",
    "axs[0].set_ylabel(r'$\\lambda$')\n",
    "# draw points\n",
    "axs[1].scatter(ts, [0]*len(ts), c='k', s=50, alpha=0.1)\n",
    "axs[1].scatter(ts_thin, [0]*len(ts_thin), c='b', s=50, alpha=0.4)\n",
    "axs[1].set(xlim=[0, T])\n",
    "axs[1].get_yaxis().set_visible(False)\n",
    "axs[1].set_xlabel('t')"
   ]
  },
  {
   "cell_type": "code",
   "execution_count": null,
   "id": "0416387d-421c-4fdf-aa7b-7fab0b3d7dfe",
   "metadata": {},
   "outputs": [],
   "source": []
  },
  {
   "cell_type": "code",
   "execution_count": null,
   "id": "44b7d9a1-a844-4ffb-9a41-bb0ffd4bb2a0",
   "metadata": {},
   "outputs": [],
   "source": []
  },
  {
   "cell_type": "code",
   "execution_count": null,
   "id": "bb70a979-b54d-4e84-af95-260c4fcf6928",
   "metadata": {},
   "outputs": [],
   "source": []
  }
 ],
 "metadata": {
  "kernelspec": {
   "display_name": "Python 3 (ipykernel)",
   "language": "python",
   "name": "python3"
  },
  "language_info": {
   "codemirror_mode": {
    "name": "ipython",
    "version": 3
   },
   "file_extension": ".py",
   "mimetype": "text/x-python",
   "name": "python",
   "nbconvert_exporter": "python",
   "pygments_lexer": "ipython3",
   "version": "3.12.7"
  }
 },
 "nbformat": 4,
 "nbformat_minor": 5
}
