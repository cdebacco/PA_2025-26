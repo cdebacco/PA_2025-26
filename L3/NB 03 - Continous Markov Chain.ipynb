{
 "cells": [
  {
   "cell_type": "markdown",
   "id": "db1649db-aaa9-4192-93c9-3d3ca30005c3",
   "metadata": {},
   "source": [
    "# L3: Continuous Markov Process"
   ]
  },
  {
   "cell_type": "code",
   "execution_count": null,
   "id": "78c3a7eb-3ba9-4bbd-9018-40c75606fca2",
   "metadata": {},
   "outputs": [],
   "source": [
    "\n",
    "%load_ext autoreload\n",
    "%autoreload 2"
   ]
  },
  {
   "cell_type": "code",
   "execution_count": null,
   "id": "ffbaeb79-c0fb-4c88-963a-06d77009ee82",
   "metadata": {},
   "outputs": [],
   "source": [
    "import numpy as np\n",
    "import pandas as pd\n",
    "import networkx as nx\n",
    "\n",
    "import matplotlib.pyplot as plt\n",
    "from matplotlib import cm\n",
    "import matplotlib as mpl"
   ]
  },
  {
   "cell_type": "code",
   "execution_count": null,
   "id": "fb175290-0d46-46d8-acc3-f321039845b9",
   "metadata": {},
   "outputs": [],
   "source": [
    "from scipy.linalg import expm"
   ]
  },
  {
   "cell_type": "code",
   "execution_count": null,
   "id": "4bd1446b-125a-4d11-8235-7eabd9ccba28",
   "metadata": {},
   "outputs": [],
   "source": [
    "def get_filename(filename: str, lecture_id: int = 1, file_extension: str = '.png') -> str:\n",
    "    return f\"L{lecture_id}_{filename}{file_extension}\"\n",
    "\n",
    "outdir = '../figures/'\n",
    "lecture_id = 3"
   ]
  },
  {
   "cell_type": "code",
   "execution_count": null,
   "id": "c3f4f6bc-5c20-4e07-94ac-07a34471c0ad",
   "metadata": {},
   "outputs": [],
   "source": [
    "'''\n",
    "------------------------------------------\n",
    "            SETTINGS\n",
    "------------------------------------------\n",
    "'''\n",
    "plt.style.use('fivethirtyeight')\n",
    "plt.style.use('seaborn-v0_8-white')\n",
    "plt.rcParams['font.family'] = 'PT Sans'\n",
    "# plt.rcParams['font.serif'] = 'Ubuntu'\n",
    "plt.rcParams['font.monospace'] = 'Ubuntu Mono'\n",
    "plt.rcParams['font.size'] = 14\n",
    "plt.rcParams['axes.labelsize'] = 14\n",
    "plt.rcParams['axes.labelweight'] = 'bold'\n",
    "plt.rcParams['xtick.labelsize'] = 12\n",
    "plt.rcParams['ytick.labelsize'] = 12\n",
    "plt.rcParams['legend.fontsize'] = 14\n",
    "plt.rcParams['figure.titlesize'] = 12\n",
    "\n",
    "dpi = 100"
   ]
  },
  {
   "cell_type": "markdown",
   "id": "17dd20a7-ac3e-4802-a454-7db37a1637d7",
   "metadata": {},
   "source": [
    "# 1. Two-state Markov chain example"
   ]
  },
  {
   "cell_type": "code",
   "execution_count": null,
   "id": "416a4fd5-0d6b-4590-b0d9-07d304e1f68f",
   "metadata": {},
   "outputs": [],
   "source": [
    "lmbda = 0.2\n",
    "mu = 0.9"
   ]
  },
  {
   "cell_type": "code",
   "execution_count": null,
   "id": "6108025b-2a13-4dc1-a27c-6123a8393298",
   "metadata": {},
   "outputs": [],
   "source": [
    "states = [\"Operational\", \"Failure\"]\n",
    "Q = np.array([\n",
    "    [0,lmbda], \n",
    "    [mu, 0]\n",
    "])\n",
    "Q.shape"
   ]
  },
  {
   "cell_type": "markdown",
   "id": "c4bf7518-64d4-44fd-bd32-c5f907b4b073",
   "metadata": {
    "execution": {
     "iopub.execute_input": "2024-10-21T13:46:08.915302Z",
     "iopub.status.busy": "2024-10-21T13:46:08.913495Z",
     "iopub.status.idle": "2024-10-21T13:46:08.949114Z",
     "shell.execute_reply": "2024-10-21T13:46:08.948456Z",
     "shell.execute_reply.started": "2024-10-21T13:46:08.915217Z"
    }
   },
   "source": [
    "#### Check that it is a valid Q\n",
    "Row-sum = 0 "
   ]
  },
  {
   "cell_type": "code",
   "execution_count": null,
   "id": "87228b5e-30f1-4603-9cfc-9c9079569d91",
   "metadata": {},
   "outputs": [],
   "source": [
    "def check_valid_Q(Q: np.ndarray) -> bool:\n",
    "    assert np.all(np.isclose(np.sum(Q,1),0)),np.sum(Q,1)\n",
    "    return True"
   ]
  },
  {
   "cell_type": "code",
   "execution_count": null,
   "id": "aea2a13e-aa31-4c9f-bc5c-9b63392d0ac3",
   "metadata": {},
   "outputs": [],
   "source": [
    "check_valid_Q(Q)"
   ]
  },
  {
   "cell_type": "markdown",
   "id": "1097abd4-7ad6-446b-868a-fa9e883550ed",
   "metadata": {},
   "source": [
    "Correct it by fixing diagonal entries"
   ]
  },
  {
   "cell_type": "code",
   "execution_count": null,
   "id": "4a86bf83-ac46-4fb4-9f91-d10482bbc991",
   "metadata": {},
   "outputs": [],
   "source": [
    "for i in range(Q.shape[0]):\n",
    "    rowSum = Q[i].sum() \n",
    "    Q[i,i] = - (rowSum - Q[i,i])\n",
    "check_valid_Q(Q)\n",
    "print(\"Check passed\")"
   ]
  },
  {
   "cell_type": "code",
   "execution_count": null,
   "id": "5eb5d9bc-d780-4f55-af02-078ab1075296",
   "metadata": {},
   "outputs": [],
   "source": [
    "filename = 'two_state_cmc'\n",
    "filename = get_filename(filename,lecture_id=lecture_id)\n",
    "\n",
    "outfile = filename\n",
    "outfile"
   ]
  },
  {
   "cell_type": "code",
   "execution_count": null,
   "id": "b8e824b4-b436-4d88-b028-759260c30518",
   "metadata": {},
   "outputs": [],
   "source": [
    "def get_graph_from_Q(Q: np.ndarray,states: list, keep_selfloop: bool = False) -> nx.MultiDiGraph():\n",
    "    G = nx.MultiDiGraph()\n",
    "    assert Q.shape[0] == len(states)\n",
    "    for start_idx, node_start in enumerate(states):\n",
    "        for end_idx, node_end in enumerate(states):\n",
    "            value = Q[start_idx][end_idx]\n",
    "            if value != 0:\n",
    "                G.add_edge(node_start,node_end, weight=value)\n",
    "\n",
    "    if keep_selfloop == False:\n",
    "        G.remove_edges_from(nx.selfloop_edges(G))\n",
    "    return G"
   ]
  },
  {
   "cell_type": "code",
   "execution_count": null,
   "id": "0a3f6ff4-64ff-4f56-b6bc-d9f938e1f877",
   "metadata": {},
   "outputs": [],
   "source": [
    "fs = 20\n",
    "color = 'salmon'"
   ]
  },
  {
   "cell_type": "code",
   "execution_count": null,
   "id": "690d7450-04c9-4d03-8719-7024a73a23de",
   "metadata": {},
   "outputs": [],
   "source": [
    "\n",
    "plt.figure(figsize=(8,4))\n",
    "\n",
    "# Using a matrix visualization\n",
    "\n",
    "plt.subplot(1,2,1)\n",
    "plt.imshow(Q, vmax=1,vmin=0, cmap='Blues')\n",
    "\n",
    "for (j,i),label in np.ndenumerate(Q):\n",
    "    plt.text(i,j,f\"{label:.1f}\",ha='center',va='center', c=color, fontsize = fs)\n",
    "    plt.text(i,j,f\"{label:.1f}\",ha='center',va='center', c=color, fontsize = fs)\n",
    "plt.axis('off')\n",
    "plt.colorbar()\n",
    "\n",
    "# Using a graph visualization\n",
    "plt.subplot(1,2,2)\n",
    "ax = plt.gca()\n",
    "\n",
    "G = get_graph_from_Q(Q,states)\n",
    "\n",
    "pos = nx.spring_layout(G, seed=10)\n",
    "\n",
    "nx.draw_networkx_nodes(G, pos, node_size=1000, edgecolors='black', node_color='white',ax=ax)\n",
    "nx.draw_networkx_labels(G, pos, font_size=12,ax=ax)\n",
    "\n",
    "arc_rad = 0.2\n",
    "\n",
    "edges = nx.draw_networkx_edges(G, pos, ax=ax, connectionstyle=f'arc3, rad = {arc_rad}', edge_cmap=cm.Blues, width=5,\n",
    "    edge_color=[G[nodes[0]][nodes[1]][0]['weight'] for nodes in G.edges])\n",
    "\n",
    "pc = mpl.collections.PatchCollection(edges, cmap=cm.Blues)\n",
    "\n",
    "# ax = plt.gca()\n",
    "ax.set_axis_off()\n",
    "plt.colorbar(pc, ax=ax)\n",
    "plt.tight_layout()\n",
    "# plt.show()\n",
    "if outfile is not None:\n",
    "    \n",
    "    plt.savefig(f\"{outdir}{outfile}\", dpi=dpi, format=None, metadata=None,\n",
    "                bbox_inches='tight', pad_inches=0.1,\n",
    "                facecolor='auto', edgecolor='auto',\n",
    "                backend=None\n",
    "                )\n",
    "    print(f\"Figure saved in {outdir}{outfile}\")\n",
    "        \n",
    "plt.show()"
   ]
  },
  {
   "cell_type": "markdown",
   "id": "13fc3e60-42af-421a-a102-73c03d4d0c7b",
   "metadata": {},
   "source": [
    "# 2. Simulate a Markov Chain probability distribution"
   ]
  },
  {
   "cell_type": "markdown",
   "id": "ce6543a6-e32c-4589-b170-5bc819550a52",
   "metadata": {},
   "source": [
    "#### 2.1 Get $P$ from $Q$\n",
    "Using:\n",
    "$P(t) = e^{Qt}$"
   ]
  },
  {
   "cell_type": "code",
   "execution_count": null,
   "id": "4f462dbd-555e-4f7e-8f97-44b0e90fc893",
   "metadata": {},
   "outputs": [],
   "source": [
    "def get_P(Q:np.ndarray,t: float) -> np.ndarray:\n",
    "    '''\n",
    "    Get P(t) = exp(Qt)\n",
    "    '''\n",
    "    return expm(Q * t)"
   ]
  },
  {
   "cell_type": "markdown",
   "id": "aecef4e7-984f-454f-baa4-6fbb0fe9fbbc",
   "metadata": {},
   "source": [
    "#### Vary $t$ to get familiar with how $P(t)$ changes"
   ]
  },
  {
   "cell_type": "code",
   "execution_count": null,
   "id": "62408e04-a616-45c0-b8a8-460dcf749d86",
   "metadata": {},
   "outputs": [],
   "source": [
    "t = 1000\n",
    "P = get_P(Q, t = t)\n",
    "\n",
    "plt.figure(figsize=(4,4))\n",
    "plt.imshow(P, vmax=1,vmin=0, cmap='Blues')\n",
    "\n",
    "for (j,i),label in np.ndenumerate(P):\n",
    "    plt.text(i,j,f\"{label:.1f}\",ha='center',va='center', c=color, fontsize = fs)\n",
    "    plt.text(i,j,f\"{label:.1f}\",ha='center',va='center', c=color, fontsize = fs)\n",
    "plt.axis('off')\n",
    "plt.colorbar()"
   ]
  },
  {
   "cell_type": "markdown",
   "id": "1245891b-ea29-4f4b-8b80-c53ac185632a",
   "metadata": {},
   "source": [
    "#### 2.2 Simulate using $s(t) = s(0)\\, P(t)$"
   ]
  },
  {
   "cell_type": "code",
   "execution_count": null,
   "id": "f19f1fe2-81f8-4d8a-9bf3-3cc45c76a773",
   "metadata": {},
   "outputs": [],
   "source": [
    "def simulate(s0: np.ndarray, Q: np.ndarray,\n",
    "             steps: list) -> np.ndarray:\n",
    "    \n",
    "    T = len(steps)\n",
    "    out = np.zeros(shape=(T+1, len(s0)))\n",
    "    out[0, :] = s0\n",
    "\n",
    "    for i in range(1,T+1):\n",
    "        P = get_P(Q, t = steps[i-1])\n",
    "        out[i, :] = np.dot(out[i - 1, :], P)\n",
    "\n",
    "    return out\n"
   ]
  },
  {
   "cell_type": "markdown",
   "id": "15810bf1-d8bc-4b64-af5b-4b02a40b9329",
   "metadata": {},
   "source": [
    "#### Play with $s(0)=$`s0`"
   ]
  },
  {
   "cell_type": "code",
   "execution_count": null,
   "id": "4673e0b1-02ab-48b5-8e90-71e04e7df84d",
   "metadata": {},
   "outputs": [],
   "source": [
    "time_steps = [0.01,0.05,0.1,0.5,1.0,2.0,5.0,10.,100.,1000]\n",
    "time_steps.sort()\n",
    "T = len(time_steps)+1 # number of timesteps to simulate\n",
    "\n",
    "fig, ax = plt.subplots(1,T,figsize=(6 * T, 8))\n",
    "\n",
    "# Set initial state\n",
    "s0 = [0.01,0.99]  # Starting state\n",
    "print(f\"Starting state distribution = {s0}\")\n",
    "\n",
    "state_forecast = simulate(s0,Q,steps = time_steps)\n",
    "for i in range(T):\n",
    "\n",
    "    current_state = state_forecast[i]\n",
    "    nx.draw_networkx_nodes(G, pos, node_size=3000, edgecolors='black', node_color=current_state,ax=ax[i],alpha=0.8, cmap=cm.Blues,vmax=1.,vmin=0)\n",
    "    nx.draw_networkx_labels(G, pos, font_size=12, ax=ax[i])\n",
    "\n",
    "    edges = nx.draw_networkx_edges(G, pos, ax=ax[i], connectionstyle=f'arc3, rad = {arc_rad}', edge_cmap=cm.Blues, width=5,\n",
    "    edge_color=[G[nodes[0]][nodes[1]][0]['weight'] for nodes in G.edges])\n",
    "    \n",
    "    ax[i].set_axis_off()\n",
    "    if i == 0:\n",
    "        title = 't=0'\n",
    "    else:\n",
    "        title = f\"t={time_steps[i-1]}\"\n",
    "    ax[i].set_title(title, fontsize=40)\n",
    "    "
   ]
  },
  {
   "cell_type": "markdown",
   "id": "2a26c797-4c3e-4312-900f-fec46f618b11",
   "metadata": {},
   "source": [
    "Do you notice something odd or are you confused?\n",
    "\n",
    "The use of the word `simulate` is probably not ideal and misleading...  \n",
    "Here we were visualizing the behavior of $s(t)$.\n",
    "But this is a probability distribution,  **not** and individual sample realization!   \n",
    "Hence, this was not really a simulation of the process...  \n",
    "It was useful to see how $s(t)$ changes depending on where you start, i.e. $s_0$, but it is probably more appropriate to visualize this with a heatmap instead.\n",
    "\n",
    "**Q**: How can we instead simulate a sample realization?\n"
   ]
  },
  {
   "cell_type": "markdown",
   "id": "2205d373-1f1b-41cd-9492-8e90d1f9da81",
   "metadata": {},
   "source": [
    "### 2.3 Simulate a sample of the process\n",
    "We can use what we learned about continuous-time Markov processes: \n",
    "1. Select a starting state $X(t=0)=i$\n",
    "2. Stay there a time $\\tau_0 \\sim exp(q_i)$\n",
    "3. Select the next state $j \\sim \\frac{q_{ij}}{q_i}$\n",
    "4. Iterate\n"
   ]
  },
  {
   "cell_type": "code",
   "execution_count": null,
   "id": "ed26e0a0-be8a-462a-b83e-893e584048d8",
   "metadata": {},
   "outputs": [],
   "source": [
    "def simulate_sample_cmc(x0: int, Q: np.ndarray,\n",
    "             n_steps: list, prng: np.random.RandomState = None,\n",
    "                       seed: int = 10) -> dict:\n",
    "\n",
    "    if prng is None:\n",
    "        prng = np.random.RandomState(seed=seed)\n",
    "\n",
    "    N = Q.shape[0]\n",
    "    assert x0 < N\n",
    "    states = np.arange(N)\n",
    "    \n",
    "    time_spent_in_i = {i: 0 for i in states} # keep track of time spent in each state, for statistics\n",
    "    out = np.zeros(shape=(n_steps+1)).astype(int)\n",
    "    tau = np.zeros(shape=(n_steps+1)).astype(int)\n",
    "    out[0] = x0\n",
    "    tau[0] = prng.exponential(scale=1/(-Q[x0,x0]), size=1)[0] # time spent in x0\n",
    "    time_spent_in_i[out[0]] += tau[0]\n",
    "    for n in range(1,n_steps+1):\n",
    "\n",
    "        p = Q[out[n-1]][states!=out[n-1]] # here we select the correct row of Q to get the transition probabilities, excluding the diagonal\n",
    "        p /= p.sum()\n",
    "        out[n] = prng.choice(states[states!=out[n-1]], p=p) # sample the next state j\n",
    "    \n",
    "        tau[n] = prng.exponential(scale=1/(-Q[out[n],out[n]]), size=1)[0] # time spent in x0\n",
    "        time_spent_in_i[out[n]] += tau[n]\n",
    "\n",
    "    return {'xs':out,'taus':tau, 'pis':time_spent_in_i}"
   ]
  },
  {
   "cell_type": "markdown",
   "id": "0e19f2fe-88f5-4af9-a1c6-6c73102fec08",
   "metadata": {
    "execution": {
     "iopub.execute_input": "2024-11-26T09:06:13.683036Z",
     "iopub.status.busy": "2024-11-26T09:06:13.682501Z",
     "iopub.status.idle": "2024-11-26T09:06:13.709228Z",
     "shell.execute_reply": "2024-11-26T09:06:13.708618Z",
     "shell.execute_reply.started": "2024-11-26T09:06:13.682999Z"
    }
   },
   "source": [
    "Alternatively, you can sample $\\tau_j$ from $\\exp(q_{ij})$ for all $j\\neq i$, and then select the one with the minimum value"
   ]
  },
  {
   "cell_type": "code",
   "execution_count": null,
   "id": "4b650c11-1e84-4bef-b27a-50fae6e6f1e2",
   "metadata": {},
   "outputs": [],
   "source": [
    "def simulate_sample_cmc_2(x0: int, Q: np.ndarray,\n",
    "             n_steps: list, prng: np.random.RandomState = None,\n",
    "                       seed: int = 10) -> dict:\n",
    "\n",
    "    if prng is None:\n",
    "        prng = np.random.RandomState(seed=seed)\n",
    "\n",
    "    N = Q.shape[0]\n",
    "    assert x0 < N\n",
    "    states = np.arange(N)\n",
    "    \n",
    "    time_spent_in_i = {i: 0 for i in states} # keep track of time spent in each state, for statistics\n",
    "    out = np.zeros(shape=(n_steps+1)).astype(int)\n",
    "    tau = np.zeros(shape=(n_steps+1)).astype(int)\n",
    "    out[0] = x0\n",
    "    tau[0] = prng.exponential(scale=1/(-Q[x0,x0]), size=1)[0] # time spent in x0\n",
    "    time_spent_in_i[out[0]] += tau[0]\n",
    "    for n in range(1,n_steps+1):\n",
    "\n",
    "        current_state = out[n-1]\n",
    "        # Sample the taus in each state\n",
    "        tau_j = [prng.exponential(scale=1/rate, size=1)[0] for rate in Q[current_state][:current_state]]\n",
    "        tau_j += [1e10]  # An infinite sojourn to the same state, so that we do not select this\n",
    "        tau_j += [prng.exponential(scale=1/rate, size=1)[0] for rate in Q[current_state][current_state + 1:]]\n",
    "        tau_j = np.array(tau_j)\n",
    "        \n",
    "        # Identify the next state, selecting the min exp time\n",
    "        out[n] = np.argmin(tau_j)\n",
    "        tau[n] = np.min(tau_j)\n",
    "        time_spent_in_i[out[n]] += tau[n]\n",
    "\n",
    "    return {'xs':out,'taus':tau, 'pis':time_spent_in_i}"
   ]
  },
  {
   "cell_type": "code",
   "execution_count": null,
   "id": "f9cfbddc-664e-4d65-9f05-74fe27f18266",
   "metadata": {},
   "outputs": [],
   "source": [
    "seed = 10\n",
    "prng = np.random.RandomState(seed=seed)\n",
    "\n",
    "states = [\"Operational\", \"Failure\"]\n",
    "assert len(states) == Q.shape[0]"
   ]
  },
  {
   "cell_type": "code",
   "execution_count": null,
   "id": "b48fb80b-73f1-43b2-a487-4f2bec7f61bb",
   "metadata": {},
   "outputs": [],
   "source": [
    "T = 100 # number of timesteps to simulate\n",
    "N = Q.shape[0] \n",
    "\n",
    "# Set initial state\n",
    "x0 = 0\n",
    "print(f\"Starting state x = {states[x0]}\")\n",
    "\n",
    "sample_realization = simulate_sample_cmc(x0,Q,n_steps = T,prng=prng)\n",
    "ts = np.cumsum(sample_realization['taus'])  # compute successive sums to create a sequence of arrival times \n",
    "sample_realization['xs'],ts"
   ]
  },
  {
   "cell_type": "code",
   "execution_count": null,
   "id": "c851edf0-67cc-420c-aa63-cab06bbc1422",
   "metadata": {},
   "outputs": [],
   "source": [
    "outfile = None"
   ]
  },
  {
   "cell_type": "code",
   "execution_count": null,
   "id": "9ba97be3-27dd-4535-9d34-718b9cddb5ed",
   "metadata": {},
   "outputs": [],
   "source": [
    "plt.figure(figsize=(9,5))\n",
    "\n",
    "plt.subplot(2,1,1)\n",
    "plt.scatter(ts, sample_realization['xs'], s = 100, edgecolors='black')\n",
    "plt.ylabel('Event happening')\n",
    "plt.xlabel('t')\n",
    "plt.yticks(np.arange(N),labels=states)\n",
    "\n",
    "plt.subplot(2,1,2)\n",
    "plt.step(ts,sample_realization['xs'])\n",
    "plt.ylabel('X(t)')\n",
    "plt.xlabel('t')\n",
    "plt.yticks(np.arange(N),labels=states)\n",
    "\n",
    "plt.tight_layout()\n",
    "if outfile is not None:\n",
    "    \n",
    "    plt.savefig(f\"{outdir}{outfile}\", dpi=dpi, format=None, metadata=None,\n",
    "                bbox_inches='tight', pad_inches=0.1,\n",
    "                facecolor='auto', edgecolor='auto',\n",
    "                backend=None\n",
    "                )\n",
    "    print(f\"Figure saved in {outdir}{outfile}\")\n",
    "\n",
    "\n",
    "    "
   ]
  },
  {
   "cell_type": "markdown",
   "id": "d2e5da31-4778-42c2-bd07-b7eb9a1016d9",
   "metadata": {},
   "source": [
    "Let's check the stats about **how much time** was **spent** in each state.\n",
    "\n",
    "Compare with $P(t)$ at large time:  \n",
    "$\\lim_{t \\rightarrow \\infty} P(t)$"
   ]
  },
  {
   "cell_type": "code",
   "execution_count": null,
   "id": "b8859e1d-428d-49d9-84e3-5abb6fb85cd0",
   "metadata": {},
   "outputs": [],
   "source": [
    "\n",
    "plt.figure(figsize=(12,4))\n",
    "\n",
    "plt.subplot(1,3,1)\n",
    "\n",
    "tot_time = sum(sample_realization['pis'].values())\n",
    "y = np.array(list(sample_realization['pis'].values()))  / tot_time\n",
    "\n",
    "plt.bar(states,y)\n",
    "plt.xlabel('State',fontsize=fs)\n",
    "plt.ylabel(f\"% time spent in state\",fontsize=fs)\n",
    "\n",
    "pad = 0.1\n",
    "for i,s in enumerate(states):\n",
    "    plt.text(i - pad,y[i] - pad,f\"{y[i]:.2f}\",fontsize=fs,color='white')\n",
    "plt.ylim([0,1])\n",
    "\n",
    "plt.subplot(1,3,2)\n",
    "bins, y = np.unique(sample_realization['xs'], return_counts=True)\n",
    "y = y / y.sum()\n",
    "plt.bar(bins,y)\n",
    "plt.xlabel('State',fontsize=fs)\n",
    "plt.ylabel(f\"% jumps to state\",fontsize=fs)\n",
    "plt.ylim([0,1])\n",
    "\n",
    "# pad = 0.1\n",
    "# for i,s in enumerate(states):\n",
    "#     plt.text(i - pad,y[i] - pad,f\"{y[i]:.2f}\",fontsize=fs,color='white')\n",
    "# plt.ylim([0,1])\n",
    "\n",
    "plt.subplot(1,3,3)\n",
    "\n",
    "t = 1000\n",
    "P_infty = get_P(Q, t = t)\n",
    "\n",
    "plt.imshow(P_infty, vmax=1,vmin=0, cmap='Blues')\n",
    "\n",
    "for (j,i),label in np.ndenumerate(P_infty):\n",
    "    plt.text(i,j,f\"{label:.2f}\",ha='center',va='center', c=color, fontsize = fs)\n",
    "    plt.text(i,j,f\"{label:.2f}\",ha='center',va='center', c=color, fontsize = fs)\n",
    "plt.axis('off')\n",
    "plt.colorbar()\n",
    "\n",
    "plt.tight_layout()"
   ]
  },
  {
   "cell_type": "markdown",
   "id": "945f9fa3-7d0c-4e85-a27e-8293cc247eb3",
   "metadata": {},
   "source": [
    "But we can also compare with the average % of _sojurn_ times:\n",
    "\n",
    "$\\frac{\\tau_j}{\\sum_k \\tau_k}$"
   ]
  },
  {
   "cell_type": "code",
   "execution_count": null,
   "id": "9f584c56-7f63-488b-8ae2-6d264e60e730",
   "metadata": {},
   "outputs": [],
   "source": [
    "1 / (-np.diag(Q)) "
   ]
  },
  {
   "cell_type": "code",
   "execution_count": null,
   "id": "1a84f674-955a-4b68-9a7d-37f6e591014f",
   "metadata": {},
   "outputs": [],
   "source": [
    "1 / (-np.diag(Q)) / (1 / (-np.diag(Q)) ).sum()"
   ]
  },
  {
   "cell_type": "code",
   "execution_count": null,
   "id": "e6b4b326-ddab-4227-8518-8653340bd377",
   "metadata": {},
   "outputs": [],
   "source": [
    "empirical_sojourn = np.zeros(len(states))\n",
    "for i in range(len(states)):\n",
    "    mask = sample_realization['xs'] == i\n",
    "    empirical_sojourn[i] = sample_realization['taus'][mask].mean()\n",
    "empirical_sojourn, empirical_sojourn/empirical_sojourn.sum() "
   ]
  },
  {
   "cell_type": "markdown",
   "id": "d2d7e8fe-2007-41aa-a7f1-d4ab93a3e134",
   "metadata": {},
   "source": [
    "# 3. Check different ways of _computing_ $P$ from $Q$\n",
    "Using:\n",
    "$P(t) = e^{Qt}$"
   ]
  },
  {
   "cell_type": "code",
   "execution_count": null,
   "id": "3ce5c3db-3e2f-48e1-902c-1a70484d2a32",
   "metadata": {},
   "outputs": [],
   "source": [
    "Q"
   ]
  },
  {
   "cell_type": "markdown",
   "id": "c1207a3b-6dc5-4604-b0c8-8fae7c7d3a92",
   "metadata": {},
   "source": [
    "You can play with $t$, changing from small to large "
   ]
  },
  {
   "cell_type": "code",
   "execution_count": null,
   "id": "d1c0eb52-7949-4734-9d5f-61e50f21ee9f",
   "metadata": {},
   "outputs": [],
   "source": [
    "t = 1.0"
   ]
  },
  {
   "cell_type": "code",
   "execution_count": null,
   "id": "21e5a35e-d2a8-4b57-8fa9-81e0b3114e37",
   "metadata": {},
   "outputs": [],
   "source": [
    "print(f\"P =\\n\")\n",
    "get_P(Q, t = t)"
   ]
  },
  {
   "cell_type": "markdown",
   "id": "82062cc7-d9c6-49d1-af77-07ad16c99716",
   "metadata": {},
   "source": [
    "### 3.1 Method 1: Using the Taylor expansion $e^{Qt} = \\sum_{k=0}^{\\infty}\\frac{({Qt})^{k}}{k !}$"
   ]
  },
  {
   "cell_type": "code",
   "execution_count": null,
   "id": "e9b939c1-4201-49b4-ab7e-3672ecb3f6bf",
   "metadata": {},
   "outputs": [],
   "source": [
    "from numpy.linalg import matrix_power\n",
    "from math import factorial"
   ]
  },
  {
   "cell_type": "code",
   "execution_count": null,
   "id": "41fc9aba-e7f4-4012-b9e7-14d7f53b88cc",
   "metadata": {},
   "outputs": [],
   "source": [
    "max_k = 2\n",
    "P1 = sum([matrix_power(Q * t, k) / factorial(k) for k in range(max_k)])\n",
    "P1"
   ]
  },
  {
   "cell_type": "markdown",
   "id": "a67d8730-e298-415e-9108-e4ce0ce8956d",
   "metadata": {},
   "source": [
    "### 3.2 Method 2: Use the eigen-decomposition of $e^{Qt} = X \\,\\text{diag}(e^{\\lambda_{k}t}) Y^{T}$"
   ]
  },
  {
   "cell_type": "code",
   "execution_count": null,
   "id": "d00f37c8-33db-443a-8a74-9e22a9b02942",
   "metadata": {},
   "outputs": [],
   "source": [
    "eigenvalues_left, Y = np.linalg.eig(Q.T) #  left eigenvector (i.e. y.T @ Q = z * y.T)\n",
    "eigenvalues_right, X = np.linalg.eig(Q) # right eigenvector\n",
    "assert np.allclose(eigenvalues_left,eigenvalues_right)\n",
    "\n",
    "D = np.diag(np.exp(eigenvalues_right * t)) # build diagonal matrix\n",
    "\n",
    "P2 = np.matmul(np.matmul(X, D),Y.T) \n",
    "P2 / P2.sum(axis=1)\n"
   ]
  },
  {
   "cell_type": "markdown",
   "id": "404bd944-8814-4d85-a3ca-7e96b0fe87c3",
   "metadata": {},
   "source": [
    "# 4. Find steady-state distribution"
   ]
  },
  {
   "cell_type": "markdown",
   "id": "141e80e7-b0be-424e-a7ac-3a49ec9791ed",
   "metadata": {},
   "source": [
    "Solving an eigenvector equation."
   ]
  },
  {
   "cell_type": "markdown",
   "id": "214513eb-4f4a-4cf0-8efc-296ceba525e9",
   "metadata": {},
   "source": [
    "#### 4.1 Method 1: Analytical solution for two-state example"
   ]
  },
  {
   "cell_type": "markdown",
   "id": "a567bd1d-009d-4bc9-9adf-caacc31b9338",
   "metadata": {
    "execution": {
     "iopub.execute_input": "2024-10-30T13:27:44.650806Z",
     "iopub.status.busy": "2024-10-30T13:27:44.650036Z",
     "iopub.status.idle": "2024-10-30T13:27:44.687238Z",
     "shell.execute_reply": "2024-10-30T13:27:44.686210Z",
     "shell.execute_reply.started": "2024-10-30T13:27:44.650754Z"
    }
   },
   "source": [
    "TODO: homework\n",
    "\n",
    "Result is:  \n",
    "$\\pi = \\left(\\frac{\\mu}{\\mu + \\lambda},\\frac{\\lambda}{\\mu + \\lambda}\\right)$"
   ]
  },
  {
   "cell_type": "code",
   "execution_count": null,
   "id": "f729ccfb-ecdb-4dcd-9ea9-0428db415fb8",
   "metadata": {},
   "outputs": [],
   "source": [
    "den = lmbda + mu\n",
    "pi = np.array([mu, lmbda]) / den\n",
    "pi\n"
   ]
  },
  {
   "cell_type": "markdown",
   "id": "7b2a1359-d16d-44d8-82ca-391eeb5681df",
   "metadata": {},
   "source": [
    "#### 4.2 Method 2: Numerical solution"
   ]
  },
  {
   "cell_type": "code",
   "execution_count": null,
   "id": "7a3816ca-7576-477b-8205-4603864ea1c3",
   "metadata": {},
   "outputs": [],
   "source": [
    "# Calculate the steady-state distribution\n",
    "eigenvalues, eigenvectors = np.linalg.eig(Q.T) \n",
    "steady_state = eigenvectors[:, np.isclose(eigenvalues, 0)]\n",
    "\n",
    "# Normalize the steady-state distribution\n",
    "steady_state = steady_state / steady_state.sum()\n",
    "\n",
    "print(steady_state.real.flatten())"
   ]
  },
  {
   "cell_type": "markdown",
   "id": "497922e7-b792-4c46-b9ed-f989b899ebda",
   "metadata": {},
   "source": [
    "#### 4.3 Method 3: compare with $P$ at large time\n",
    "$\\lim_{t \\rightarrow \\infty} P(t)$"
   ]
  },
  {
   "cell_type": "code",
   "execution_count": null,
   "id": "f1e4105b-1a01-4717-8d91-d24b67ac19b6",
   "metadata": {},
   "outputs": [],
   "source": [
    "t = 1000\n",
    "get_P(Q, t = t)"
   ]
  },
  {
   "cell_type": "markdown",
   "id": "3be855ea-dbfc-4034-9f2f-b67ec21e9227",
   "metadata": {
    "execution": {
     "iopub.execute_input": "2024-10-30T13:30:47.487964Z",
     "iopub.status.busy": "2024-10-30T13:30:47.487472Z",
     "iopub.status.idle": "2024-10-30T13:30:47.513533Z",
     "shell.execute_reply": "2024-10-30T13:30:47.512770Z",
     "shell.execute_reply.started": "2024-10-30T13:30:47.487935Z"
    }
   },
   "source": [
    "# 5. How long do you expect on average to stay in each state?"
   ]
  },
  {
   "cell_type": "markdown",
   "id": "bc3968f1-6ddc-4e08-a5ff-505f9851380a",
   "metadata": {},
   "source": [
    "This is the sojourn time $\\tau$!  \n",
    "$\\{\\tau_j\\}_j$ are i.i.d. variables distributed with an exponential distribution with mean $1/ q_j$."
   ]
  },
  {
   "cell_type": "code",
   "execution_count": null,
   "id": "3b427f3d-4e1c-4f2b-aa82-efc2770ab685",
   "metadata": {},
   "outputs": [],
   "source": [
    "1 / (-np.diag(Q))"
   ]
  },
  {
   "cell_type": "markdown",
   "id": "7610d91c-8f2c-4dba-a788-5af355bcca83",
   "metadata": {},
   "source": [
    "# 6. Sampled Markov chain\n",
    "Let's see how we can get discrete samples of a continuous chain.  \n",
    "These are often more interpretable quantities, but we need to be careful in using them as \"proxy\" for a continuous process.  \n",
    "Depending on the way we sample we can have (or not) properties that resemble the ones of the original continuous process."
   ]
  },
  {
   "cell_type": "markdown",
   "id": "03419880-6b55-4601-987b-e51c51fdfa4c",
   "metadata": {},
   "source": [
    "#### 6.1 Let's use the Q as in exercise 10.8 (i)"
   ]
  },
  {
   "cell_type": "code",
   "execution_count": null,
   "id": "17a2bd33-1b61-481c-8c65-6869717c1e44",
   "metadata": {},
   "outputs": [],
   "source": [
    "outfile = None"
   ]
  },
  {
   "cell_type": "code",
   "execution_count": null,
   "id": "082ad64a-25da-4101-9100-628700884d05",
   "metadata": {},
   "outputs": [],
   "source": [
    "lmbda = 1 / 1000 # 1/h\n",
    "mu = 1 / 100 # 1/h\n",
    "states = ['Both ok', 'One ok', 'None ok']"
   ]
  },
  {
   "cell_type": "code",
   "execution_count": null,
   "id": "f4386e1f-a546-4264-8dcd-a71bfcde5ada",
   "metadata": {},
   "outputs": [],
   "source": [
    "Q = [\n",
    "    [-2 * lmbda, 2 * lmbda, 0],\n",
    "     [mu, -(lmbda+mu),lmbda],\n",
    "     [0,2 * mu, -2* mu]\n",
    "    ]\n",
    "Q = np.array(Q)\n",
    "Q.shape"
   ]
  },
  {
   "cell_type": "markdown",
   "id": "1e332df7-e824-4f51-9956-2c50605d36f8",
   "metadata": {},
   "source": [
    "#### First check that this is a valid Q"
   ]
  },
  {
   "cell_type": "code",
   "execution_count": null,
   "id": "cb9eede4-e261-4c02-94a8-60c089fb119f",
   "metadata": {},
   "outputs": [],
   "source": [
    "check_valid_Q(Q)"
   ]
  },
  {
   "cell_type": "markdown",
   "id": "26ff6e43-a44d-4da7-b2a5-121480711c1c",
   "metadata": {},
   "source": [
    "####  Visualize the Q"
   ]
  },
  {
   "cell_type": "code",
   "execution_count": null,
   "id": "7da0b2fd-8de8-44ae-9c65-569d0a0603a4",
   "metadata": {},
   "outputs": [],
   "source": [
    "\n",
    "plt.figure(figsize=(10,4))\n",
    "\n",
    "# Using a matrix visualization\n",
    "\n",
    "plt.subplot(1,2,1)\n",
    "plt.imshow(Q, vmax=Q.max(),vmin=0, cmap='Blues')\n",
    "\n",
    "for (j,i),label in np.ndenumerate(Q):\n",
    "    plt.text(i,j,f\"{label:.3f}\",ha='center',va='center', c=color, fontsize = fs)\n",
    "    plt.text(i,j,f\"{label:.3f}\",ha='center',va='center', c=color, fontsize = fs)\n",
    "plt.axis('off')\n",
    "plt.colorbar()\n",
    "\n",
    "# Using a graph visualization\n",
    "plt.subplot(1,2,2)\n",
    "ax = plt.gca()\n",
    "\n",
    "G = get_graph_from_Q(Q,states)\n",
    "\n",
    "pos = nx.spring_layout(G, seed=10)\n",
    "\n",
    "nx.draw_networkx_nodes(G, pos, node_size=1000, edgecolors='black', node_color='white',ax=ax)\n",
    "nx.draw_networkx_labels(G, pos, font_size=12,ax=ax)\n",
    "\n",
    "arc_rad = 0.2\n",
    "\n",
    "edges = nx.draw_networkx_edges(G, pos, ax=ax, connectionstyle=f'arc3, rad = {arc_rad}', edge_cmap=cm.Blues, width=5,\n",
    "    edge_color=[G[nodes[0]][nodes[1]][0]['weight'] for nodes in G.edges])\n",
    "\n",
    "pc = mpl.collections.PatchCollection(edges, cmap=cm.Blues)\n",
    "\n",
    "# ax = plt.gca()\n",
    "ax.set_axis_off()\n",
    "plt.colorbar(pc, ax=ax)\n",
    "plt.tight_layout()\n",
    "# plt.show()\n",
    "if outfile is not None:\n",
    "    \n",
    "    plt.savefig(f\"{outdir}{outfile}\", dpi=dpi, format=None, metadata=None,\n",
    "                bbox_inches='tight', pad_inches=0.1,\n",
    "                facecolor='auto', edgecolor='auto',\n",
    "                backend=None\n",
    "                )\n",
    "    print(f\"Figure saved in {outdir}{outfile}\")\n",
    "        \n",
    "plt.show()"
   ]
  },
  {
   "cell_type": "markdown",
   "id": "19e91e34-8b0b-4de8-9e19-5a56a95fb5fa",
   "metadata": {
    "execution": {
     "iopub.execute_input": "2024-11-22T17:04:10.101299Z",
     "iopub.status.busy": "2024-11-22T17:04:10.099099Z",
     "iopub.status.idle": "2024-11-22T17:04:10.182738Z",
     "shell.execute_reply": "2024-11-22T17:04:10.182445Z",
     "shell.execute_reply.started": "2024-11-22T17:04:10.101228Z"
    }
   },
   "source": [
    "## 6.2 Method 1: use the sampled-time routine of 10.4.2"
   ]
  },
  {
   "cell_type": "markdown",
   "id": "7441c64c-7e58-4c9e-8724-515e8330eb6f",
   "metadata": {
    "execution": {
     "iopub.execute_input": "2024-11-22T17:04:10.101299Z",
     "iopub.status.busy": "2024-11-22T17:04:10.099099Z",
     "iopub.status.idle": "2024-11-22T17:04:10.182738Z",
     "shell.execute_reply": "2024-11-22T17:04:10.182445Z",
     "shell.execute_reply.started": "2024-11-22T17:04:10.101228Z"
    }
   },
   "source": [
    "#### 6.2.1 Check average sojourn times\n",
    "We need to guarantee that transition probabilities are valid probabilities first:  \n",
    "$\\Delta t < 1/ \\max_i q_i$"
   ]
  },
  {
   "cell_type": "code",
   "execution_count": null,
   "id": "4ad4df04-d13c-4a2b-ada7-60abc8846df0",
   "metadata": {},
   "outputs": [],
   "source": [
    "t_soj = 1 / (-np.diag(Q)) # in hours\n",
    "\n",
    "t_soj"
   ]
  },
  {
   "cell_type": "code",
   "execution_count": null,
   "id": "f2e03ae6-8b7d-4624-be25-0c70219d07ce",
   "metadata": {},
   "outputs": [],
   "source": [
    "np.min(1 / (-np.diag(Q)))"
   ]
  },
  {
   "cell_type": "markdown",
   "id": "378fddfa-2d55-4b8b-9278-d2772eb81d75",
   "metadata": {},
   "source": [
    "Let's use this as an upper bound for our choice of $\\Delta t$"
   ]
  },
  {
   "cell_type": "code",
   "execution_count": null,
   "id": "c1f5bca3-ac9a-41bd-9450-a8ef2df1ca50",
   "metadata": {},
   "outputs": [],
   "source": [
    "delta_t = 50 # h"
   ]
  },
  {
   "cell_type": "markdown",
   "id": "a19b12af-652e-4a2c-8fd2-5e65d574e9d2",
   "metadata": {
    "execution": {
     "iopub.execute_input": "2024-11-22T17:06:55.574422Z",
     "iopub.status.busy": "2024-11-22T17:06:55.573585Z",
     "iopub.status.idle": "2024-11-22T17:06:55.598044Z",
     "shell.execute_reply": "2024-11-22T17:06:55.597056Z",
     "shell.execute_reply.started": "2024-11-22T17:06:55.574385Z"
    }
   },
   "source": [
    "Let's now build $P$ using:\n",
    "\n",
    "- $P_{ij} = q_{ij} \\Delta t \\quad, \\quad$ for $j \\neq i$\n",
    "- $P_{ii} = 1 - q_{i} \\Delta t$  \n"
   ]
  },
  {
   "cell_type": "code",
   "execution_count": null,
   "id": "309da3eb-4dbd-444a-967c-f360674283be",
   "metadata": {},
   "outputs": [],
   "source": [
    "P = Q * delta_t\n",
    "\n",
    "np.fill_diagonal(P,1-(-np.diag(Q)) * delta_t)"
   ]
  },
  {
   "cell_type": "code",
   "execution_count": null,
   "id": "7dfd2bc1-0e1e-4fa8-a4cf-28367d43d13e",
   "metadata": {},
   "outputs": [],
   "source": [
    "\n",
    "plt.figure(figsize=(10,4))\n",
    "\n",
    "# Using a matrix visualization\n",
    "\n",
    "plt.subplot(1,2,1)\n",
    "plt.imshow(P, vmax=P.max(),vmin=0, cmap='Blues')\n",
    "\n",
    "for (j,i),label in np.ndenumerate(P):\n",
    "    plt.text(i,j,f\"{label:.3f}\",ha='center',va='center', c=color, fontsize = fs)\n",
    "    plt.text(i,j,f\"{label:.3f}\",ha='center',va='center', c=color, fontsize = fs)\n",
    "plt.axis('off')\n",
    "plt.colorbar()\n",
    "\n",
    "# Using a graph visualization\n",
    "plt.subplot(1,2,2)\n",
    "ax = plt.gca()\n",
    "\n",
    "G = get_graph_from_Q(P,states, keep_selfloop=True)\n",
    "\n",
    "pos = nx.spring_layout(G, seed=10)\n",
    "\n",
    "nx.draw_networkx_nodes(G, pos, node_size=1000, edgecolors='black', node_color='white',ax=ax)\n",
    "nx.draw_networkx_labels(G, pos, font_size=12,ax=ax)\n",
    "\n",
    "arc_rad = 0.2\n",
    "\n",
    "edges = nx.draw_networkx_edges(G, pos, ax=ax, connectionstyle=f'arc3, rad = {arc_rad}', edge_cmap=cm.Blues, width=5,\n",
    "    edge_color=[G[nodes[0]][nodes[1]][0]['weight'] for nodes in G.edges])\n",
    "\n",
    "pc = mpl.collections.PatchCollection(edges, cmap=cm.Blues)\n",
    "\n",
    "# ax = plt.gca()\n",
    "ax.set_axis_off()\n",
    "plt.colorbar(pc, ax=ax)\n",
    "plt.tight_layout()\n",
    "# plt.show()\n",
    "if outfile is not None:\n",
    "    \n",
    "    plt.savefig(f\"{outdir}{outfile}\", dpi=dpi, format=None, metadata=None,\n",
    "                bbox_inches='tight', pad_inches=0.1,\n",
    "                facecolor='auto', edgecolor='auto',\n",
    "                backend=None\n",
    "                )\n",
    "    print(f\"Figure saved in {outdir}{outfile}\")\n",
    "        \n",
    "plt.show()"
   ]
  },
  {
   "cell_type": "markdown",
   "id": "95104a0b-f877-4c2e-b926-4a3f2ce5f79a",
   "metadata": {},
   "source": [
    "#### Check it is a valid stochastic matrix"
   ]
  },
  {
   "cell_type": "code",
   "execution_count": null,
   "id": "8279f902-96d2-4a44-acde-0b9b4ce38d45",
   "metadata": {},
   "outputs": [],
   "source": [
    "assert np.all(np.isclose(np.sum(P,1),1)),np.sum(P,1)"
   ]
  },
  {
   "cell_type": "code",
   "execution_count": null,
   "id": "8c089f33-f922-47f4-b293-a7be8c49f5d4",
   "metadata": {},
   "outputs": [],
   "source": [
    "# Simulate transitions\n",
    "def next_state(current_state, transition_matrix):\n",
    "    np.all(np.isclose(np.sum(transition_matrix,1),1))\n",
    "    N = transition_matrix.shape[0]\n",
    "    assert 0 <= current_state < N\n",
    "    return np.random.choice(np.arange(N), p=transition_matrix[current_state])\n",
    "\n",
    "\n",
    "current_state = 0  # Starting state\n",
    "days = 20 # number of timesteps to simulate\n",
    "state_forecast = [states[current_state]]\n",
    "\n",
    "fig, ax = plt.subplots(1,days,figsize=(6 * days, 5))\n",
    "\n",
    "print(f\"Starting state = {states[current_state]}\")\n",
    "for i in range(days):\n",
    "\n",
    "    old_state = current_state\n",
    "    node_color = ['white' for i in range(len(states))]\n",
    "    node_color[old_state] = 'r'\n",
    "    current_state = next_state(current_state, P)\n",
    "    state_forecast.append(states[current_state])\n",
    "\n",
    "    nx.draw_networkx_nodes(G, pos, node_size=3000, edgecolors='black', node_color=node_color,ax=ax[i],alpha=0.8)\n",
    "    nx.draw_networkx_labels(G, pos, font_size=12, ax=ax[i])\n",
    "\n",
    "    edge_color = ['black' for e in G.edges()]\n",
    "    width = [1 for e in G.edges]\n",
    "    for idx, (u,v) in enumerate(G.edges()):\n",
    "        if (u == states[old_state]) & (v == states[current_state]):\n",
    "            edge_color[idx] = 'r'\n",
    "            width[idx] = 10\n",
    "    edges = nx.draw_networkx_edges(G, pos, ax=ax[i], connectionstyle=f'arc3, rad = {arc_rad}', edge_cmap=cm.Blues, width=width,\n",
    "                edge_color=edge_color, arrows=True, arrowsize=10)\n",
    "    \n",
    "    ax[i].set_axis_off()\n",
    "    \n",
    "\n",
    "print(state_forecast[1:])"
   ]
  },
  {
   "cell_type": "markdown",
   "id": "fc460b40-0603-423b-aaef-00c9f67e2e27",
   "metadata": {},
   "source": [
    "## 6.3 Method 2: using embedded Markov chain"
   ]
  },
  {
   "cell_type": "markdown",
   "id": "bb225146-332c-446b-90de-10218150f858",
   "metadata": {},
   "source": [
    "#### Let's create the transition matrix using:\n",
    "\n",
    "$V_{ij} = q_{ij}/q_i$"
   ]
  },
  {
   "cell_type": "code",
   "execution_count": null,
   "id": "2d41f637-3f29-4cac-92be-a1376d47287f",
   "metadata": {},
   "outputs": [],
   "source": [
    "V = np.einsum('ij,i->ij',Q, -1/np.diag(Q))\n",
    "np.fill_diagonal(V,0)\n",
    "V"
   ]
  },
  {
   "cell_type": "markdown",
   "id": "92de6322-fffc-4371-bcb4-85473d2128cd",
   "metadata": {},
   "source": [
    "Let's check that it is a valid transition probability"
   ]
  },
  {
   "cell_type": "code",
   "execution_count": null,
   "id": "19a0a1fc-f123-4bf2-ac57-77f6e38c25c0",
   "metadata": {},
   "outputs": [],
   "source": [
    "assert np.all(np.isclose(np.sum(V,1),1)),np.sum(V,1)"
   ]
  },
  {
   "cell_type": "code",
   "execution_count": null,
   "id": "4a0240c7-b57b-4532-a4c8-1a6fac9918c8",
   "metadata": {},
   "outputs": [],
   "source": [
    "\n",
    "plt.figure(figsize=(10,4))\n",
    "\n",
    "# Using a matrix visualization\n",
    "\n",
    "plt.subplot(1,2,1)\n",
    "plt.imshow(V, vmax=V.max(),vmin=0, cmap='Blues')\n",
    "\n",
    "for (j,i),label in np.ndenumerate(V):\n",
    "    plt.text(i,j,f\"{label:.3f}\",ha='center',va='center', c=color, fontsize = fs)\n",
    "    plt.text(i,j,f\"{label:.3f}\",ha='center',va='center', c=color, fontsize = fs)\n",
    "plt.axis('off')\n",
    "plt.colorbar()\n",
    "\n",
    "# Using a graph visualization\n",
    "plt.subplot(1,2,2)\n",
    "ax = plt.gca()\n",
    "\n",
    "G = get_graph_from_Q(V,states, keep_selfloop=True)\n",
    "\n",
    "pos = nx.spring_layout(G, seed=10)\n",
    "\n",
    "nx.draw_networkx_nodes(G, pos, node_size=1000, edgecolors='black', node_color='white',ax=ax)\n",
    "nx.draw_networkx_labels(G, pos, font_size=12,ax=ax)\n",
    "\n",
    "arc_rad = 0.2\n",
    "\n",
    "edges = nx.draw_networkx_edges(G, pos, ax=ax, connectionstyle=f'arc3, rad = {arc_rad}', edge_cmap=cm.Blues, width=5,\n",
    "    edge_color=[G[nodes[0]][nodes[1]][0]['weight'] for nodes in G.edges])\n",
    "\n",
    "pc = mpl.collections.PatchCollection(edges, cmap=cm.Blues)\n",
    "\n",
    "# ax = plt.gca()\n",
    "ax.set_axis_off()\n",
    "plt.colorbar(pc, ax=ax)\n",
    "plt.tight_layout()\n",
    "# plt.show()\n",
    "if outfile is not None:\n",
    "    \n",
    "    plt.savefig(f\"{outdir}{outfile}\", dpi=dpi, format=None, metadata=None,\n",
    "                bbox_inches='tight', pad_inches=0.1,\n",
    "                facecolor='auto', edgecolor='auto',\n",
    "                backend=None\n",
    "                )\n",
    "    print(f\"Figure saved in {outdir}{outfile}\")\n",
    "        \n",
    "plt.show()"
   ]
  },
  {
   "cell_type": "markdown",
   "id": "2dadedff-088b-4c4d-9789-8dee450b9846",
   "metadata": {},
   "source": [
    "We can now use these transitions to simulate a discrete-time sample of the process  \n",
    "(using simulation similar to the one contained in notebook L2)"
   ]
  },
  {
   "cell_type": "code",
   "execution_count": null,
   "id": "de49b610-399f-48c7-9522-7f09faf9abc6",
   "metadata": {},
   "outputs": [],
   "source": [
    "# Simulate transitions\n",
    "def next_state(current_state, transition_matrix):\n",
    "    np.all(np.isclose(np.sum(transition_matrix,1),1))\n",
    "    N = transition_matrix.shape[0]\n",
    "    assert 0 <= current_state < N\n",
    "    return np.random.choice(np.arange(N), p=transition_matrix[current_state])\n",
    "\n",
    "\n",
    "current_state = 0  # Starting state\n",
    "days = 20 # number of timesteps to simulate\n",
    "state_forecast = [states[current_state]]\n",
    "\n",
    "fig, ax = plt.subplots(1,days,figsize=(6 * days, 5))\n",
    "\n",
    "print(f\"Starting state = {states[current_state]}\")\n",
    "for i in range(days):\n",
    "\n",
    "    old_state = current_state\n",
    "    node_color = ['white' for i in range(len(states))]\n",
    "    node_color[old_state] = 'r'\n",
    "    current_state = next_state(current_state, V)\n",
    "    state_forecast.append(states[current_state])\n",
    "\n",
    "    nx.draw_networkx_nodes(G, pos, node_size=3000, edgecolors='black', node_color=node_color,ax=ax[i],alpha=0.8)\n",
    "    nx.draw_networkx_labels(G, pos, font_size=12, ax=ax[i])\n",
    "\n",
    "    edge_color = ['black' for e in G.edges()]\n",
    "    width = [1 for e in G.edges]\n",
    "    for idx, (u,v) in enumerate(G.edges()):\n",
    "        if (u == states[old_state]) & (v == states[current_state]):\n",
    "            edge_color[idx] = 'r'\n",
    "            width[idx] = 10\n",
    "    edges = nx.draw_networkx_edges(G, pos, ax=ax[i], connectionstyle=f'arc3, rad = {arc_rad}', edge_cmap=cm.Blues, width=width,\n",
    "                edge_color=edge_color, arrows=True, arrowsize=10)\n",
    "    \n",
    "    ax[i].set_axis_off()\n",
    "    \n",
    "\n",
    "print(state_forecast[1:])"
   ]
  },
  {
   "cell_type": "markdown",
   "id": "c31f9394-78cf-481a-8914-66072d1d3868",
   "metadata": {},
   "source": [
    "## 6.4 Find steady state"
   ]
  },
  {
   "cell_type": "markdown",
   "id": "3f56ecd6-c499-4aca-9210-adbff9d003cf",
   "metadata": {},
   "source": [
    "#### 6.4.1 Method 1: from the original continuous process, i.e. using Q"
   ]
  },
  {
   "cell_type": "code",
   "execution_count": null,
   "id": "831c938b-0d15-47cb-87f9-2edc3fd4f174",
   "metadata": {},
   "outputs": [],
   "source": [
    "eigenvalues, eigenvectors = np.linalg.eig(Q.T) \n",
    "steady_state = eigenvectors[:, np.isclose(eigenvalues, 0)]\n",
    "\n",
    "# Normalize the steady-state distribution\n",
    "steady_state = steady_state / steady_state.sum()\n",
    "\n",
    "print(steady_state.real.flatten())"
   ]
  },
  {
   "cell_type": "markdown",
   "id": "2c513e5b-48f2-4ace-9875-0bc5e6c411ec",
   "metadata": {},
   "source": [
    "#### 6.4.2 Method 2: using the sampled-time discrete process"
   ]
  },
  {
   "cell_type": "code",
   "execution_count": null,
   "id": "d173c9fd-a1eb-4624-beb0-4777fd17bd1e",
   "metadata": {},
   "outputs": [],
   "source": [
    "eigenvalues, eigenvectors = np.linalg.eig(P.T)\n",
    "steady_state = eigenvectors[:, np.isclose(eigenvalues, 1)]\n",
    "\n",
    "# Normalize the steady-state distribution\n",
    "steady_state = steady_state / steady_state.sum()\n",
    "\n",
    "print(steady_state.real.flatten())"
   ]
  },
  {
   "cell_type": "markdown",
   "id": "4f36bafd-5f93-40c2-8d51-eeaf43c3c149",
   "metadata": {},
   "source": [
    "#### 6.4.3 Method 3: using the embedded discrete process\n",
    "\n",
    "$\\pi_i = (v_i/q_i)/\\sum_j (v_j/q_j)$"
   ]
  },
  {
   "cell_type": "code",
   "execution_count": null,
   "id": "3517267d-e9f1-4c4d-8e81-dede8c42b0f0",
   "metadata": {},
   "outputs": [],
   "source": [
    "eigenvalues, eigenvectors = np.linalg.eig(V.T)\n",
    "steady_state = eigenvectors[:, np.isclose(eigenvalues, 1)]\n",
    "\n",
    "# Normalize the steady-state distribution\n",
    "steady_state = steady_state / steady_state.sum()\n",
    "v = steady_state.real.flatten()\n",
    "print(v)"
   ]
  },
  {
   "cell_type": "code",
   "execution_count": null,
   "id": "264a61f6-c67e-4fe1-9b66-7e07f6261bd4",
   "metadata": {},
   "outputs": [],
   "source": [
    "pi_v = v / (-np.diag(Q))\n",
    "pi_v /= pi_v.sum()\n",
    "pi_v"
   ]
  },
  {
   "cell_type": "code",
   "execution_count": null,
   "id": "00916173-a4ee-445a-bfbd-072a6ffcdeb9",
   "metadata": {},
   "outputs": [],
   "source": []
  }
 ],
 "metadata": {
  "kernelspec": {
   "display_name": "Python 3 (ipykernel)",
   "language": "python",
   "name": "python3"
  },
  "language_info": {
   "codemirror_mode": {
    "name": "ipython",
    "version": 3
   },
   "file_extension": ".py",
   "mimetype": "text/x-python",
   "name": "python",
   "nbconvert_exporter": "python",
   "pygments_lexer": "ipython3",
   "version": "3.12.7"
  }
 },
 "nbformat": 4,
 "nbformat_minor": 5
}
