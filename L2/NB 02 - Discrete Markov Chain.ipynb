{
 "cells": [
  {
   "cell_type": "markdown",
   "id": "43d4bdb6-acd1-4ac2-8914-23f598eb8182",
   "metadata": {},
   "source": [
    "# Lecture 2: Discrete Markov process"
   ]
  },
  {
   "cell_type": "code",
   "execution_count": null,
   "id": "78c3a7eb-3ba9-4bbd-9018-40c75606fca2",
   "metadata": {},
   "outputs": [],
   "source": [
    "\n",
    "%load_ext autoreload\n",
    "%autoreload 2"
   ]
  },
  {
   "cell_type": "code",
   "execution_count": null,
   "id": "ffbaeb79-c0fb-4c88-963a-06d77009ee82",
   "metadata": {},
   "outputs": [],
   "source": [
    "import numpy as np\n",
    "import pandas as pd\n",
    "import networkx as nx\n",
    "\n",
    "import matplotlib.pyplot as plt\n",
    "from matplotlib import cm\n",
    "import matplotlib as mpl"
   ]
  },
  {
   "cell_type": "code",
   "execution_count": null,
   "id": "4bd1446b-125a-4d11-8235-7eabd9ccba28",
   "metadata": {},
   "outputs": [],
   "source": [
    "def get_filename(filename: str, lecture_id: int = 1, file_extension: str = '.png') -> str:\n",
    "    return f\"L{lecture_id}_{filename}{file_extension}\"\n",
    "\n",
    "outdir = '../figures/'\n",
    "lecture_id = 2"
   ]
  },
  {
   "cell_type": "code",
   "execution_count": null,
   "id": "c3f4f6bc-5c20-4e07-94ac-07a34471c0ad",
   "metadata": {},
   "outputs": [],
   "source": [
    "'''\n",
    "------------------------------------------\n",
    "            SETTINGS\n",
    "------------------------------------------\n",
    "'''\n",
    "plt.style.use('fivethirtyeight')\n",
    "plt.style.use('seaborn-v0_8-white')\n",
    "plt.rcParams['font.family'] = 'PT Sans'\n",
    "# plt.rcParams['font.serif'] = 'Ubuntu'\n",
    "plt.rcParams['font.monospace'] = 'Ubuntu Mono'\n",
    "plt.rcParams['font.size'] = 14\n",
    "plt.rcParams['axes.labelsize'] = 14\n",
    "plt.rcParams['axes.labelweight'] = 'bold'\n",
    "plt.rcParams['xtick.labelsize'] = 12\n",
    "plt.rcParams['ytick.labelsize'] = 12\n",
    "plt.rcParams['legend.fontsize'] = 14\n",
    "plt.rcParams['figure.titlesize'] = 12\n",
    "\n",
    "dpi = 100"
   ]
  },
  {
   "cell_type": "markdown",
   "id": "2ced696b-f706-4db7-bb96-64c3e0db1dd6",
   "metadata": {},
   "source": [
    "# 1. Example discrete Markov process chain\n",
    "\n",
    "Let's consider an example of a process modeling a server. Its status can be one of **three** possible states:\n",
    "- Operational\n",
    "- Overloaded \n",
    "- Critical\n",
    "\n",
    "The transition probability matrix $P$ is given as in the code below (you can play with it)."
   ]
  },
  {
   "cell_type": "code",
   "execution_count": null,
   "id": "d14d644c-e0f7-4c53-9704-fb8c90c11e2c",
   "metadata": {},
   "outputs": [],
   "source": [
    "states = [\"Operational\", \"Overloaded\", \"Critical\"]\n",
    "P = np.array([\n",
    "    [0.55, 0.3, 0.15],  # From Operational to [Operational, Overloaded, Critical]\n",
    "    [0.4, 0.4, 0.2],  \n",
    "    [0.1, 0.5, 0.4]   \n",
    "])"
   ]
  },
  {
   "cell_type": "markdown",
   "id": "ba6524ba-82f6-4367-a218-0cccd25a7222",
   "metadata": {},
   "source": [
    "We can visualize it as a matrix visualization"
   ]
  },
  {
   "cell_type": "code",
   "execution_count": null,
   "id": "3f53ba66-0fed-416c-ab5b-9f810cc9c72b",
   "metadata": {},
   "outputs": [],
   "source": [
    "fs = 20\n",
    "plt.figure(figsize=(6,3))\n",
    "plt.imshow(P, vmax=1,vmin=0, cmap='Blues')\n",
    "\n",
    "for (j,i),label in np.ndenumerate(P):\n",
    "    plt.text(i,j,f\"{label:.1f}\",ha='center',va='center', c='black', fontsize = fs)\n",
    "    plt.text(i,j,f\"{label:.1f}\",ha='center',va='center', c='black', fontsize = fs)\n",
    "plt.axis('off')\n",
    "plt.colorbar()"
   ]
  },
  {
   "cell_type": "markdown",
   "id": "c4bf7518-64d4-44fd-bd32-c5f907b4b073",
   "metadata": {
    "execution": {
     "iopub.execute_input": "2024-10-21T13:46:08.915302Z",
     "iopub.status.busy": "2024-10-21T13:46:08.913495Z",
     "iopub.status.idle": "2024-10-21T13:46:08.949114Z",
     "shell.execute_reply": "2024-10-21T13:46:08.948456Z",
     "shell.execute_reply.started": "2024-10-21T13:46:08.915217Z"
    }
   },
   "source": [
    "## 1.1  Check that it is a valid probability\n",
    "This is always the first step to take, as a sanity check.\n",
    "\n",
    "We ask that the row-sum of $P$ equals 1:\n",
    "- $\\sum_j P_{ij} =1$, $\\forall i$"
   ]
  },
  {
   "cell_type": "code",
   "execution_count": null,
   "id": "aea2a13e-aa31-4c9f-bc5c-9b63392d0ac3",
   "metadata": {},
   "outputs": [],
   "source": [
    "assert np.all(np.isclose(np.sum(P,1),1))"
   ]
  },
  {
   "cell_type": "markdown",
   "id": "c096b9af-f03f-4423-86fb-975f3a71b6eb",
   "metadata": {
    "execution": {
     "iopub.execute_input": "2024-11-18T12:45:49.258996Z",
     "iopub.status.busy": "2024-11-18T12:45:49.258169Z",
     "iopub.status.idle": "2024-11-18T12:45:49.281164Z",
     "shell.execute_reply": "2024-11-18T12:45:49.280332Z",
     "shell.execute_reply.started": "2024-11-18T12:45:49.258941Z"
    }
   },
   "source": [
    "## 1.2 Visualize into a Markov graph\n",
    "Now that we have $P$, we can visualize using a **graph** (or network).  \n",
    "This will be handy to use all the methods and tools available from network modeling.   \n",
    "In particular, we will use the [`networkx`](https://networkx.org/) python module."
   ]
  },
  {
   "cell_type": "code",
   "execution_count": null,
   "id": "5eb5d9bc-d780-4f55-af02-078ab1075296",
   "metadata": {},
   "outputs": [],
   "source": [
    "filename = 'markov_chain_ex1'\n",
    "filename = get_filename(filename,lecture_id=lecture_id)\n",
    "\n",
    "outfile = filename\n",
    "outfile"
   ]
  },
  {
   "cell_type": "markdown",
   "id": "7efe7d19-f6db-43d0-a6cd-8f889e13057f",
   "metadata": {
    "execution": {
     "iopub.execute_input": "2024-11-18T12:47:44.587707Z",
     "iopub.status.busy": "2024-11-18T12:47:44.587134Z",
     "iopub.status.idle": "2024-11-18T12:47:44.611417Z",
     "shell.execute_reply": "2024-11-18T12:47:44.610680Z",
     "shell.execute_reply.started": "2024-11-18T12:47:44.587684Z"
    }
   },
   "source": [
    "Let's first define a function to takes in input the matrix $P$ and builds a `networkx` graph object `G` with: \n",
    "- **nodes**: states of the Markov chain  \n",
    "- **edge** weights: entries of $P$"
   ]
  },
  {
   "cell_type": "code",
   "execution_count": null,
   "id": "b8e824b4-b436-4d88-b028-759260c30518",
   "metadata": {},
   "outputs": [],
   "source": [
    "def get_graph_from_transition(P: np.ndarray,states: list) -> nx.MultiDiGraph():\n",
    "    G = nx.MultiDiGraph()\n",
    "    assert P.shape[0] == len(states) \n",
    "    for start_idx, node_start in enumerate(states):\n",
    "        for end_idx, node_end in enumerate(states):\n",
    "            value = P[start_idx][end_idx]\n",
    "            if value != 0:\n",
    "                G.add_edge(node_start,node_end, weight=value)\n",
    "    return G"
   ]
  },
  {
   "cell_type": "markdown",
   "id": "a6167ebd-1f46-4296-b06e-6b40c9e2eca3",
   "metadata": {},
   "source": [
    "Let's visualize this graph."
   ]
  },
  {
   "cell_type": "code",
   "execution_count": null,
   "id": "690d7450-04c9-4d03-8719-7024a73a23de",
   "metadata": {},
   "outputs": [],
   "source": [
    "G = get_graph_from_transition(P,states)\n",
    "\n",
    "\n",
    "pos = nx.spring_layout(G, seed=10)\n",
    "fig, ax = plt.subplots()\n",
    "nx.draw_networkx_nodes(G, pos, node_size=1000, edgecolors='black', node_color='white')\n",
    "nx.draw_networkx_labels(G, pos, font_size=12)\n",
    "\n",
    "arc_rad = 0.2\n",
    "\n",
    "edges = nx.draw_networkx_edges(G, pos, ax=ax, connectionstyle=f'arc3, rad = {arc_rad}', edge_cmap=cm.Blues, width=5,\n",
    "    edge_color=[G[nodes[0]][nodes[1]][0]['weight'] for nodes in G.edges])\n",
    "\n",
    "pc = mpl.collections.PatchCollection(edges, cmap=cm.Blues)\n",
    "\n",
    "ax = plt.gca()\n",
    "ax.set_axis_off()\n",
    "plt.colorbar(pc, ax=ax)\n",
    "plt.tight_layout()\n",
    "# plt.show()\n",
    "if outfile is not None:\n",
    "    \n",
    "    plt.savefig(f\"{outdir}{outfile}\", dpi=dpi, format=None, metadata=None,\n",
    "                bbox_inches='tight', pad_inches=0.1,\n",
    "                facecolor='auto', edgecolor='auto',\n",
    "                backend=None\n",
    "                )\n",
    "    print(f\"Figure saved in {outdir}{outfile}\")\n",
    "        \n",
    "plt.show()"
   ]
  },
  {
   "cell_type": "markdown",
   "id": "4344e681-b2d7-49cc-b744-0dce038f9ff8",
   "metadata": {},
   "source": [
    "Notice the existence of **self-loops** for the diagonal entries $P_{ii}$ and that **edge colors** denote the magnitude of $P_{ij}$"
   ]
  },
  {
   "cell_type": "markdown",
   "id": "c645039b-8205-4b28-8a3a-8cce8d76d72d",
   "metadata": {},
   "source": [
    "## 1.3 Irreducible vs reducible"
   ]
  },
  {
   "cell_type": "markdown",
   "id": "d8e6d0e1-11d2-4abf-8d68-81c807d9d4e2",
   "metadata": {},
   "source": [
    "#### Q1: is this irreducible?"
   ]
  },
  {
   "cell_type": "markdown",
   "id": "26992c30-883c-4e73-aa0e-6294ec12bf18",
   "metadata": {},
   "source": [
    "We can use the network property of a graph being **strongly connected** to check this."
   ]
  },
  {
   "cell_type": "code",
   "execution_count": null,
   "id": "1c82f15d-bd52-43be-91e7-1284617cd170",
   "metadata": {},
   "outputs": [],
   "source": [
    "print(f\"Is irreducible?\\n{nx.is_strongly_connected(G)}!\")"
   ]
  },
  {
   "cell_type": "markdown",
   "id": "40204de4-47f2-41eb-a02b-742bc799e289",
   "metadata": {
    "execution": {
     "iopub.execute_input": "2024-10-11T15:12:11.461093Z",
     "iopub.status.busy": "2024-10-11T15:12:11.460548Z",
     "iopub.status.idle": "2024-10-11T15:12:11.485582Z",
     "shell.execute_reply": "2024-10-11T15:12:11.484917Z",
     "shell.execute_reply.started": "2024-10-11T15:12:11.461063Z"
    }
   },
   "source": [
    "#### Q2: how do you make it reducible?"
   ]
  },
  {
   "cell_type": "markdown",
   "id": "1c02dbc0-1082-4883-8b64-1c53ad467b90",
   "metadata": {},
   "source": [
    "You need to break the possibility of reaching any state from any other state..."
   ]
  },
  {
   "cell_type": "code",
   "execution_count": null,
   "id": "48c3f4fa-6f92-4d04-b361-7b1494316024",
   "metadata": {},
   "outputs": [],
   "source": [
    "P_red = np.array([\n",
    "    [0.55, 0.45, 0.0],  \n",
    "    [0.48, 0.48, 0.04],  \n",
    "    [0.0, 0.0, 1.]   # Once you are in Critical you cannot go back to any other states. You are stuck there\n",
    "])\n",
    "assert np.all(np.isclose(np.sum(P_red,1),1))"
   ]
  },
  {
   "cell_type": "markdown",
   "id": "ddf33ddb-41d7-477d-b660-e3ddbd19a1da",
   "metadata": {},
   "source": [
    "Let's check again if it is irreducible"
   ]
  },
  {
   "cell_type": "code",
   "execution_count": null,
   "id": "72573ae4-ab02-4097-9072-568726623499",
   "metadata": {},
   "outputs": [],
   "source": [
    "G_red = get_graph_from_transition(P_red,states)\n",
    "print(f\"Is irreducible?\\n{nx.is_strongly_connected(G_red)}!\")"
   ]
  },
  {
   "cell_type": "markdown",
   "id": "13fc3e60-42af-421a-a102-73c03d4d0c7b",
   "metadata": {},
   "source": [
    "# 2. Simulate a Markov Chain\n",
    "We are now ready to play with the Markov chain and simulate one.  \n",
    "First, it is convenient to build a function that the current state and simulates the next."
   ]
  },
  {
   "cell_type": "code",
   "execution_count": null,
   "id": "e56b7fc9-e1e9-4464-9819-db7238bfee25",
   "metadata": {},
   "outputs": [],
   "source": [
    "# Simulate transitions\n",
    "def next_state(current_state, transition_matrix):\n",
    "    assert np.all(np.isclose(np.sum(transition_matrix,1),1))\n",
    "    N = transition_matrix.shape[0]\n",
    "    assert 0 <= current_state < N\n",
    "    return np.random.choice(np.arange(N), p=transition_matrix[current_state])"
   ]
  },
  {
   "cell_type": "markdown",
   "id": "6ac85a17-24bc-4f9b-b070-2e201445b1f3",
   "metadata": {},
   "source": [
    "Now we can use this to run it for various time steps."
   ]
  },
  {
   "cell_type": "code",
   "execution_count": null,
   "id": "045f49cc-c269-438a-b43c-f3daf2527059",
   "metadata": {},
   "outputs": [],
   "source": [
    "current_state = 0 # initial time step\n",
    "days = 10 # number of timesteps to simulate\n",
    "state_forecast = [states[current_state]]\n",
    "\n",
    "fig, ax = plt.subplots(1,days,figsize=(6 * days, 5))\n",
    "\n",
    "# Set initial state\n",
    "current_state = 0  # Starting state\n",
    "print(f\"Starting state = {states[current_state]}\")\n",
    "for i in range(days):\n",
    "\n",
    "    old_state = current_state\n",
    "    node_color = ['white' for i in range(len(states))]\n",
    "    node_color[old_state] = 'r'\n",
    "    current_state = next_state(current_state, P)\n",
    "    state_forecast.append(states[current_state])\n",
    "\n",
    "    nx.draw_networkx_nodes(G, pos, node_size=3000, edgecolors='black', node_color=node_color,ax=ax[i],alpha=0.8)\n",
    "    nx.draw_networkx_labels(G, pos, font_size=12, ax=ax[i])\n",
    "\n",
    "    edge_color = ['black' for e in G.edges()]\n",
    "    width = [1 for e in G.edges]\n",
    "    for idx, (u,v) in enumerate(G.edges()):\n",
    "        if (u == states[old_state]) & (v == states[current_state]):\n",
    "            edge_color[idx] = 'r'\n",
    "            width[idx] = 10\n",
    "    edges = nx.draw_networkx_edges(G, pos, ax=ax[i], connectionstyle=f'arc3, rad = {arc_rad}', edge_cmap=cm.Blues, width=width,\n",
    "                edge_color=edge_color, arrows=True, arrowsize=10)\n",
    "    \n",
    "    ax[i].set_axis_off()\n",
    "    ax[i].set_title(f\"t = {i}\", fontsize=50)\n",
    "\n",
    "plt.tight_layout()\n"
   ]
  },
  {
   "cell_type": "code",
   "execution_count": null,
   "id": "11418c55-362c-4814-83c9-202765c0315b",
   "metadata": {},
   "outputs": [],
   "source": [
    "print(state_forecast[1:])"
   ]
  },
  {
   "cell_type": "markdown",
   "id": "82062cc7-d9c6-49d1-af77-07ad16c99716",
   "metadata": {},
   "source": [
    "# 3. Number of Visits and Recurrent vs Transient\n",
    "We can check what is the expected value of the number of visits to node $j$, given we start at $i$:\n",
    "\n",
    "$\\mathbb{E} [N_{i}(j)] = \\frac{r_{ij}}{1-r_{jj}} \\, = \\sum_{n=1}^{\\infty}(P^{n})_{ij}$"
   ]
  },
  {
   "cell_type": "markdown",
   "id": "c8050f8f-6a3c-4005-91ad-991d8c7f3048",
   "metadata": {
    "execution": {
     "iopub.execute_input": "2024-10-24T12:08:50.068117Z",
     "iopub.status.busy": "2024-10-24T12:08:50.064341Z",
     "iopub.status.idle": "2024-10-24T12:08:50.208671Z",
     "shell.execute_reply": "2024-10-24T12:08:50.207364Z",
     "shell.execute_reply.started": "2024-10-24T12:08:50.067608Z"
    }
   },
   "source": [
    "For this, we can compute the RHS using the power of a matrix"
   ]
  },
  {
   "cell_type": "code",
   "execution_count": null,
   "id": "72c04cac-7c77-48f0-b80a-aded7f0deeef",
   "metadata": {},
   "outputs": [],
   "source": [
    "from numpy.linalg import matrix_power"
   ]
  },
  {
   "cell_type": "code",
   "execution_count": null,
   "id": "3ce5c3db-3e2f-48e1-902c-1a70484d2a32",
   "metadata": {},
   "outputs": [],
   "source": [
    "P"
   ]
  },
  {
   "cell_type": "markdown",
   "id": "c1207a3b-6dc5-4604-b0c8-8fae7c7d3a92",
   "metadata": {},
   "source": [
    "First, let's take a look at $P^n$, tuning $n$ from small to large values"
   ]
  },
  {
   "cell_type": "code",
   "execution_count": null,
   "id": "d1c0eb52-7949-4734-9d5f-61e50f21ee9f",
   "metadata": {},
   "outputs": [],
   "source": [
    "max_N = 1000\n",
    "P_to_the_N = matrix_power(P, max_N)\n",
    "P_to_the_N"
   ]
  },
  {
   "cell_type": "code",
   "execution_count": null,
   "id": "2e63e29f-a70b-4123-8415-30449605ac82",
   "metadata": {},
   "outputs": [],
   "source": [
    "fs = 20\n",
    "plt.figure(figsize=(6,3))\n",
    "fig, ax = plt.subplots(1,2,figsize=(6,3))\n",
    "\n",
    "# Original transition matrix\n",
    "ax[0].imshow(P, vmax=1,vmin=0, cmap='Blues')\n",
    "\n",
    "for (j,i),label in np.ndenumerate(P):\n",
    "    ax[0].text(i,j,f\"{label:.2f}\",ha='center',va='center', c='black', fontsize = fs)\n",
    "    ax[0].text(i,j,f\"{label:.2f}\",ha='center',va='center', c='black', fontsize = fs)\n",
    "\n",
    "ax[0].axis('off')\n",
    "ax[0].set_title('P')\n",
    "# n-step transition matrix\n",
    "ax[1].imshow(P_to_the_N, vmax=1,vmin=0, cmap='Blues')\n",
    "\n",
    "for (j,i),label in np.ndenumerate(P_to_the_N):\n",
    "    ax[1].text(i,j,f\"{label:.2f}\",ha='center',va='center', c='black', fontsize = fs)\n",
    "    ax[1].text(i,j,f\"{label:.2f}\",ha='center',va='center', c='black', fontsize = fs)\n",
    "    \n",
    "ax[1].axis('off')\n",
    "ax[1].set_title(r'$P^n$' +f\", n = {max_N}\" )\n",
    "# pc.colorbar()"
   ]
  },
  {
   "cell_type": "markdown",
   "id": "6b9dcf98-39f2-4134-9d27-d5d724d9420b",
   "metadata": {
    "execution": {
     "iopub.execute_input": "2024-11-18T14:25:44.052620Z",
     "iopub.status.busy": "2024-11-18T14:25:44.051780Z",
     "iopub.status.idle": "2024-11-18T14:25:44.078615Z",
     "shell.execute_reply": "2024-11-18T14:25:44.077513Z",
     "shell.execute_reply.started": "2024-11-18T14:25:44.052583Z"
    }
   },
   "source": [
    "#### Q3: play with `max_N`, what do you see?"
   ]
  },
  {
   "cell_type": "markdown",
   "id": "a64c62c5-5411-44dd-9b6b-e3fe1b5c285f",
   "metadata": {},
   "source": [
    "Now we are ready to take the **sum** of this over various $n$"
   ]
  },
  {
   "cell_type": "code",
   "execution_count": null,
   "id": "41fc9aba-e7f4-4012-b9e7-14d7f53b88cc",
   "metadata": {},
   "outputs": [],
   "source": [
    "ref_P = P.copy()\n",
    "max_N = 10\n",
    "\n",
    "sumP_to_the_N = sum([matrix_power(ref_P, n) for n in range(1,max_N+1)])\n",
    "P_to_the_N = matrix_power(ref_P, max_N)\n",
    "\n",
    "sumP_to_the_N"
   ]
  },
  {
   "cell_type": "code",
   "execution_count": null,
   "id": "eabf5688-e834-4e1f-af6f-9e5f6392b0b9",
   "metadata": {},
   "outputs": [],
   "source": [
    "fs = 20\n",
    "# plt.figure(figsize=(12,4))\n",
    "fig, ax = plt.subplots(1,3,figsize=(12,4))\n",
    "\n",
    "# Original transition matrix\n",
    "ax[0].imshow(ref_P, vmax=1,vmin=0, cmap='Blues')\n",
    "\n",
    "for (j,i),label in np.ndenumerate(P):\n",
    "    ax[0].text(i,j,f\"{label:.2f}\",ha='center',va='center', c='black', fontsize = fs)\n",
    "    ax[0].text(i,j,f\"{label:.2f}\",ha='center',va='center', c='black', fontsize = fs)\n",
    "\n",
    "ax[0].axis('off')\n",
    "ax[0].set_title('P')\n",
    "\n",
    "# n-step transition matrix\n",
    "ax[1].imshow(P_to_the_N, cmap='Blues')\n",
    "\n",
    "for (j,i),label in np.ndenumerate(P_to_the_N):\n",
    "    ax[1].text(i,j,f\"{label:.2f}\",ha='center',va='center', c='black', fontsize = fs)\n",
    "    \n",
    "ax[1].axis('off')\n",
    "ax[1].set_title(r'$P^n$' +f\", n = {max_N}\" )\n",
    "\n",
    "# sumP_to_the_N\n",
    "ax[2].imshow(sumP_to_the_N, cmap='Blues')\n",
    "\n",
    "for (j,i),label in np.ndenumerate(sumP_to_the_N):\n",
    "    ax[2].text(i,j,f\"{label:.2f}\",ha='center',va='center', c='black', fontsize = fs)\n",
    "    \n",
    "ax[2].axis('off')\n",
    "ax[2].set_title(r'$\\sum_{n=1}^{max_N} (P^n)$' +f\", maxN = {max_N}\" )\n",
    "\n",
    "\n",
    "# pc.colorbar()\n",
    "plt.tight_layout()"
   ]
  },
  {
   "cell_type": "markdown",
   "id": "970189c2-e471-420b-8d84-e0d37887b0b8",
   "metadata": {
    "execution": {
     "iopub.execute_input": "2024-11-18T14:32:01.201053Z",
     "iopub.status.busy": "2024-11-18T14:32:01.200617Z",
     "iopub.status.idle": "2024-11-18T14:32:01.225455Z",
     "shell.execute_reply": "2024-11-18T14:32:01.224730Z",
     "shell.execute_reply.started": "2024-11-18T14:32:01.201029Z"
    }
   },
   "source": [
    "The expected number **explodes**, as you increase `max_N`!  \n",
    "This is because you keep revisiting states over and over, indefinitely.  \n",
    "- What happens if you use `P_red` (the reducible transition matrix)?\n",
    "- What is a quantity that would make more sense tracking? (instead of the $N_i(j)$)"
   ]
  },
  {
   "cell_type": "markdown",
   "id": "404bd944-8814-4d85-a3ca-7e96b0fe87c3",
   "metadata": {},
   "source": [
    "# 4. Find steady state distribution"
   ]
  },
  {
   "cell_type": "markdown",
   "id": "141e80e7-b0be-424e-a7ac-3a49ec9791ed",
   "metadata": {},
   "source": [
    "**Method 1**: solving an eigenvector equation.\n",
    "\n",
    "**Note**: you can sometime do this also _analytically_, by using a system of equations. This can be helpful in simple cases, e.g. when there are 2-3 states."
   ]
  },
  {
   "cell_type": "code",
   "execution_count": null,
   "id": "760818fd-26e4-41b1-9dc1-58e427564759",
   "metadata": {},
   "outputs": [],
   "source": [
    "ref_P = P.copy()\n",
    "ref_P"
   ]
  },
  {
   "cell_type": "code",
   "execution_count": null,
   "id": "7a3816ca-7576-477b-8205-4603864ea1c3",
   "metadata": {},
   "outputs": [],
   "source": [
    "# Convert the transition matrix to a NumPy array\n",
    "transition_matrix = np.array(ref_P)\n",
    "\n",
    "# Calculate the steady-state distribution\n",
    "eigenvalues, eigenvectors = np.linalg.eig(ref_P.T)\n",
    "steady_state = eigenvectors[:, np.isclose(eigenvalues, 1)]\n",
    "\n",
    "# Normalize the steady-state distribution\n",
    "steady_state = steady_state / steady_state.sum()\n",
    "\n",
    "print(steady_state.real.flatten())"
   ]
  },
  {
   "cell_type": "markdown",
   "id": "dbe0f1e6-c21a-4c04-90e5-701ad10095ba",
   "metadata": {
    "execution": {
     "iopub.execute_input": "2025-09-12T08:36:42.599139Z",
     "iopub.status.busy": "2025-09-12T08:36:42.598341Z",
     "iopub.status.idle": "2025-09-12T08:36:42.623259Z",
     "shell.execute_reply": "2025-09-12T08:36:42.622495Z",
     "shell.execute_reply.started": "2025-09-12T08:36:42.599082Z"
    }
   },
   "source": [
    "**Method 2**: using the power of $P$\n",
    "\n",
    "\n",
    "$ \\lim_{n \\rightarrow \\infty} [P^n]_{ij}= \\pi_{j}$"
   ]
  },
  {
   "cell_type": "code",
   "execution_count": null,
   "id": "49ba982f-2bec-49a4-80c8-21a594c40af9",
   "metadata": {},
   "outputs": [],
   "source": [
    "max_N = 100\n",
    "P_to_the_N = matrix_power(ref_P, max_N)\n",
    "\n",
    "P_to_the_N[0]"
   ]
  },
  {
   "cell_type": "code",
   "execution_count": null,
   "id": "5514f7b1-592b-4242-9d6c-8b5a115f3795",
   "metadata": {},
   "outputs": [],
   "source": [
    "i = 0\n",
    "assert np.allclose(P_to_the_N[i],steady_state.real.flatten(),rtol=1e-3)"
   ]
  },
  {
   "cell_type": "markdown",
   "id": "46aed276-d6df-49fa-928a-26aebec6bd88",
   "metadata": {
    "execution": {
     "iopub.execute_input": "2024-10-24T13:58:26.533579Z",
     "iopub.status.busy": "2024-10-24T13:58:26.531991Z",
     "iopub.status.idle": "2024-10-24T13:58:26.560197Z",
     "shell.execute_reply": "2024-10-24T13:58:26.559545Z",
     "shell.execute_reply.started": "2024-10-24T13:58:26.533503Z"
    }
   },
   "source": [
    "**Method 3**: using the power of $P$ (and its relations with the expected number of visited sites)\n",
    "\n",
    "\n",
    "$ \\lim_{n \\rightarrow \\infty} \\frac{\\mathbb{E} [N_{n,i}(j)]}{n}= \\pi_{j}$"
   ]
  },
  {
   "cell_type": "code",
   "execution_count": null,
   "id": "44b34f1c-e5dc-439e-a5a7-fbc3461061e4",
   "metadata": {},
   "outputs": [],
   "source": [
    "max_N = 10000\n",
    "sumP_to_the_N = sum([matrix_power(ref_P, n)/max_N for n in range(1,max_N)])\n",
    "\n",
    "sumP_to_the_N"
   ]
  },
  {
   "cell_type": "code",
   "execution_count": null,
   "id": "18e14f45-a6fd-4b32-878e-881e9654309b",
   "metadata": {},
   "outputs": [],
   "source": [
    "sumP_to_the_N[i]"
   ]
  },
  {
   "cell_type": "code",
   "execution_count": null,
   "id": "12e41256-d0ca-4e0d-a535-6dfb10e63df8",
   "metadata": {},
   "outputs": [],
   "source": [
    "i = 0\n",
    "assert np.allclose(sumP_to_the_N[i],steady_state.real.flatten(),rtol=1e-3)"
   ]
  },
  {
   "cell_type": "markdown",
   "id": "2632c9f2-fc00-4e4d-9368-c4feff62661c",
   "metadata": {},
   "source": [
    "## 5. Example 9.4\n",
    "$P = \\left[\\begin{array}  \n",
    "                     - 1- p & p\\\\\n",
    "                    q & 1-q\n",
    "                    \\end{array}\n",
    "                    \\right]$  \n",
    "                    \n",
    "Let's consider this illustrative example for 2-state chains.  \n",
    "By plaing with the values of $p,q$ we can see different behaviors."
   ]
  },
  {
   "cell_type": "code",
   "execution_count": null,
   "id": "b1e5eb03-2919-486e-ace2-629448120245",
   "metadata": {},
   "outputs": [],
   "source": [
    "fs = 20\n",
    "color = 'salmon'"
   ]
  },
  {
   "cell_type": "markdown",
   "id": "a32118f6-cf78-4bf0-b1d6-a2cec749b5c2",
   "metadata": {
    "execution": {
     "iopub.execute_input": "2024-10-24T14:11:15.443293Z",
     "iopub.status.busy": "2024-10-24T14:11:15.442659Z",
     "iopub.status.idle": "2024-10-24T14:11:15.468452Z",
     "shell.execute_reply": "2024-10-24T14:11:15.467611Z",
     "shell.execute_reply.started": "2024-10-24T14:11:15.443267Z"
    }
   },
   "source": [
    "#### Play with varying $p$ and $q$:\n",
    "- a) $0 < p+q < 2$  \n",
    "      - Example: $p=1.0$ and $q=0.5$\n",
    "- b) $p=q=0$\n",
    "- c) $p=q=1$\n",
    "  "
   ]
  },
  {
   "cell_type": "code",
   "execution_count": null,
   "id": "a35251bc-a9ba-45e6-8ddc-369f43394ee8",
   "metadata": {},
   "outputs": [],
   "source": [
    "p = 1.0\n",
    "q = 0.5"
   ]
  },
  {
   "cell_type": "code",
   "execution_count": null,
   "id": "ded10827-e62a-492d-b928-827fa2940fe4",
   "metadata": {},
   "outputs": [],
   "source": [
    "P_exa = np.array([[1-p,p],[q,1-q]])\n",
    "assert np.all(np.isclose(np.sum(P_exa,1),1)) # check that is a valid row-sum to 1 matrix\n",
    "\n",
    "plt.figure(figsize=(6,3))\n",
    "\n",
    "# Using a matrix visualization\n",
    "\n",
    "plt.subplot(1,2,1)\n",
    "plt.imshow(P_exa, vmax=1,vmin=0, cmap='Blues')\n",
    "\n",
    "for (j,i),label in np.ndenumerate(P_exa):\n",
    "    plt.text(i,j,f\"{label:.1f}\",ha='center',va='center', c=color, fontsize = fs)\n",
    "    plt.text(i,j,f\"{label:.1f}\",ha='center',va='center', c=color, fontsize = fs)\n",
    "plt.axis('off')\n",
    "plt.colorbar()\n",
    "\n",
    "# Using a graph visualization\n",
    "plt.subplot(1,2,2)\n",
    "G = get_graph_from_transition(P_exa,['A','B'])\n",
    "\n",
    "pos = nx.spring_layout(G, seed=10)\n",
    "\n",
    "nx.draw_networkx_nodes(G, pos, node_size=1000, edgecolors='black', node_color='white')\n",
    "nx.draw_networkx_labels(G, pos, font_size=12)\n",
    "\n",
    "arc_rad = 0.2\n",
    "\n",
    "ax = plt.gca()\n",
    "edges = nx.draw_networkx_edges(G, pos, ax=ax, connectionstyle=f'arc3, rad = {arc_rad}', edge_cmap=cm.Blues, width=5,\n",
    "    edge_color=[G[nodes[0]][nodes[1]][0]['weight'] for nodes in G.edges])\n",
    "\n",
    "pc = mpl.collections.PatchCollection(edges, cmap=cm.Blues)\n",
    "ax.set_axis_off()\n",
    "plt.colorbar(pc, ax=ax)\n",
    "plt.tight_layout()"
   ]
  },
  {
   "cell_type": "code",
   "execution_count": null,
   "id": "b15e04e8-c6dc-4069-8fb2-f69a04682e73",
   "metadata": {},
   "outputs": [],
   "source": [
    "max_N = 1000"
   ]
  },
  {
   "cell_type": "markdown",
   "id": "c63f9bba-93c5-428a-9a9c-4a615830ff1e",
   "metadata": {},
   "source": [
    "Limiting (equlibrium) distribution\n",
    "\n",
    "$A=\\lim_{n\\rightarrow \\infty} P^n$"
   ]
  },
  {
   "cell_type": "code",
   "execution_count": null,
   "id": "57045e44-10ce-404b-8a75-bd4a5e342cbb",
   "metadata": {},
   "outputs": [],
   "source": [
    "\n",
    "matrix_power(P_exa, max_N)"
   ]
  },
  {
   "cell_type": "markdown",
   "id": "35e8eb26-beca-4967-9313-90411cac071a",
   "metadata": {},
   "source": [
    "Steady state, using the expected sum:\n",
    "\n",
    "$ \\lim_{n \\rightarrow \\infty} \\frac{\\mathbb{E} [N_{n,i}(j)]}{n}= \\pi_{j}$"
   ]
  },
  {
   "cell_type": "code",
   "execution_count": null,
   "id": "3ea924a4-81a3-48aa-b3f2-cb4843a8ccb3",
   "metadata": {},
   "outputs": [],
   "source": [
    "\n",
    "sum([matrix_power(P_exa, n)/max_N for n in range(1,max_N)])"
   ]
  },
  {
   "cell_type": "code",
   "execution_count": null,
   "id": "06968c86-3831-4e41-a0d6-6bb38edb4b2f",
   "metadata": {},
   "outputs": [],
   "source": [
    "# Calculate the steady-state distribution\n",
    "eigenvalues, eigenvectors = np.linalg.eig(P_exa.T)\n",
    "steady_state = eigenvectors[:, np.isclose(eigenvalues, 1)]\n",
    "\n",
    "# Normalize the steady-state distribution\n",
    "steady_state = steady_state / steady_state.sum()\n",
    "\n",
    "print(steady_state.real.flatten())"
   ]
  },
  {
   "cell_type": "code",
   "execution_count": null,
   "id": "27b0a349-d6e3-4dcf-b5ad-7c7d121d5e9b",
   "metadata": {},
   "outputs": [],
   "source": []
  },
  {
   "cell_type": "code",
   "execution_count": null,
   "id": "57859d0f-3a0b-4257-ab26-bf58fc6fb7d9",
   "metadata": {},
   "outputs": [],
   "source": []
  }
 ],
 "metadata": {
  "kernelspec": {
   "display_name": "Python 3 (ipykernel)",
   "language": "python",
   "name": "python3"
  },
  "language_info": {
   "codemirror_mode": {
    "name": "ipython",
    "version": 3
   },
   "file_extension": ".py",
   "mimetype": "text/x-python",
   "name": "python",
   "nbconvert_exporter": "python",
   "pygments_lexer": "ipython3",
   "version": "3.12.7"
  }
 },
 "nbformat": 4,
 "nbformat_minor": 5
}
