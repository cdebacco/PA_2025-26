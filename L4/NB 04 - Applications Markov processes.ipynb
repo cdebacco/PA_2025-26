{
 "cells": [
  {
   "cell_type": "markdown",
   "id": "43d4bdb6-acd1-4ac2-8914-23f598eb8182",
   "metadata": {},
   "source": [
    "# Lecture 4: Applications Markov processes"
   ]
  },
  {
   "cell_type": "code",
   "execution_count": null,
   "id": "78c3a7eb-3ba9-4bbd-9018-40c75606fca2",
   "metadata": {},
   "outputs": [],
   "source": [
    "\n",
    "%load_ext autoreload\n",
    "%autoreload 2"
   ]
  },
  {
   "cell_type": "code",
   "execution_count": null,
   "id": "ffbaeb79-c0fb-4c88-963a-06d77009ee82",
   "metadata": {},
   "outputs": [],
   "source": [
    "import numpy as np\n",
    "import pandas as pd\n",
    "import networkx as nx\n",
    "\n",
    "import matplotlib.pyplot as plt\n",
    "from matplotlib import cm\n",
    "import matplotlib as mpl"
   ]
  },
  {
   "cell_type": "code",
   "execution_count": null,
   "id": "4bd1446b-125a-4d11-8235-7eabd9ccba28",
   "metadata": {},
   "outputs": [],
   "source": [
    "def get_filename(filename: str, lecture_id: int = 1, file_extension: str = '.png') -> str:\n",
    "    return f\"L{lecture_id}_{filename}{file_extension}\"\n",
    "\n",
    "outdir = '../figures/'\n",
    "lecture_id = 4"
   ]
  },
  {
   "cell_type": "code",
   "execution_count": null,
   "id": "c3f4f6bc-5c20-4e07-94ac-07a34471c0ad",
   "metadata": {},
   "outputs": [],
   "source": [
    "'''\n",
    "------------------------------------------\n",
    "            SETTINGS\n",
    "------------------------------------------\n",
    "'''\n",
    "plt.style.use('fivethirtyeight')\n",
    "plt.style.use('seaborn-v0_8-white')\n",
    "plt.rcParams['font.family'] = 'PT Sans'\n",
    "# plt.rcParams['font.serif'] = 'Ubuntu'\n",
    "plt.rcParams['font.monospace'] = 'Ubuntu Mono'\n",
    "plt.rcParams['font.size'] = 14\n",
    "plt.rcParams['axes.labelsize'] = 14\n",
    "plt.rcParams['axes.labelweight'] = 'bold'\n",
    "plt.rcParams['xtick.labelsize'] = 12\n",
    "plt.rcParams['ytick.labelsize'] = 12\n",
    "plt.rcParams['legend.fontsize'] = 14\n",
    "plt.rcParams['figure.titlesize'] = 12\n",
    "\n",
    "dpi = 100"
   ]
  },
  {
   "cell_type": "code",
   "execution_count": null,
   "id": "2aa9382a-82ba-4917-9ce1-042ebb17e32f",
   "metadata": {},
   "outputs": [],
   "source": [
    "def plot_trajectories(trajectory: np.ndarray, x_max:int, x_min: int=0):\n",
    "    \"\"\"\n",
    "    Plots the trajectory of all particles over time.\n",
    "\n",
    "    Parameters:\n",
    "    all_positions (ndarray): Positions of particles over all time steps.\n",
    "    x_min (int): Lower boundary of the 1D line.\n",
    "    x_max (int): Upper boundary of the 1D line.\n",
    "    num_particles (int): Number of particles.\n",
    "    \"\"\"\n",
    "\n",
    "    # Plot the trajectory of all particles\n",
    "    plt.figure(figsize=(10, 6))\n",
    "    plt.plot(trajectory, '-.', marker='o', alpha=0.5,lw=1)  # Plot trajectory of each particle\n",
    "\n",
    "    # Add boundary lines\n",
    "    plt.axhline(y=x_min, color='r', linestyle='--', label=f'Boundary at {x_min}',lw=1)\n",
    "    plt.axhline(y=x_max, color='g', linestyle='--', label=f'Boundary at {x_max}',lw=1)\n",
    "    \n",
    "    plt.title(f'Boundaries ({x_min} to {x_max}) starting at 0\\np={p:.3f}, q={q:.3f}')\n",
    "    plt.xlabel('Step')\n",
    "    plt.ylabel('Position')\n",
    "    plt.legend()\n",
    "    plt.show()"
   ]
  },
  {
   "cell_type": "markdown",
   "id": "2ced696b-f706-4db7-bb96-64c3e0db1dd6",
   "metadata": {},
   "source": [
    "# General random walk\n",
    "\n",
    "For a general random walk with $q_{i+1}=q$ and $p_i=p$ for all $i\\geq 0$, we have:\n",
    "\n",
    "$\n",
    "\\pi_{i}= \\frac{(1-\\rho)\\,\\rho^{i}}{1-\\rho^{N+1}}\n",
    "$\n",
    "\n",
    "where $\\rho=p/q$."
   ]
  },
  {
   "cell_type": "markdown",
   "id": "37f0a113-a7ff-4f40-9cf4-1b9862d9bdcc",
   "metadata": {
    "execution": {
     "iopub.execute_input": "2025-08-29T14:42:40.304621Z",
     "iopub.status.busy": "2025-08-29T14:42:40.304026Z",
     "iopub.status.idle": "2025-08-29T14:42:40.329205Z",
     "shell.execute_reply": "2025-08-29T14:42:40.328422Z",
     "shell.execute_reply.started": "2025-08-29T14:42:40.304576Z"
    }
   },
   "source": [
    "Let's look at how this function changes with $i$, to see how the steady state probability of each state varies"
   ]
  },
  {
   "cell_type": "code",
   "execution_count": null,
   "id": "d14d644c-e0f7-4c53-9704-fb8c90c11e2c",
   "metadata": {},
   "outputs": [],
   "source": [
    "def calculate_pi_i(i: int, rho: float = 1, N: int = 100):\n",
    "    if np.isclose(rho,1):\n",
    "        return 1/(N+1)\n",
    "    num = (1-rho) * np.power(rho,i)\n",
    "    den = 1 - np.power(rho,N+1)\n",
    "    return num / den"
   ]
  },
  {
   "cell_type": "code",
   "execution_count": null,
   "id": "a830da50-b0f6-4234-a373-e3ea17f4072b",
   "metadata": {},
   "outputs": [],
   "source": [
    "p = 0.505\n",
    "q = 0.485\n",
    "r = 1 - (p+q)\n",
    "rho = p/q\n",
    "print(f\"rho={rho:.4f}, r={r:.2f}\")"
   ]
  },
  {
   "cell_type": "code",
   "execution_count": null,
   "id": "74f11349-7603-4374-b490-79385475181a",
   "metadata": {},
   "outputs": [],
   "source": [
    "N = 10 # number of states - 1\n",
    "xs = np.arange(N+1)\n",
    "ys0 = [calculate_pi_i(i,rho=rho,N=N) for i in xs]\n",
    "assert np.allclose(np.sum(ys0),1)"
   ]
  },
  {
   "cell_type": "code",
   "execution_count": null,
   "id": "da78054c-130e-4865-916d-571da1625c90",
   "metadata": {},
   "outputs": [],
   "source": [
    "fs = 20\n",
    "plt.figure(figsize=(6,3))\n",
    "\n",
    "plt.scatter(xs,ys0)\n",
    "plt.text( N-2,(max(ys0)- 0.1*(max(ys0)-min(ys0))),f\"{r'$\\rho=$'}{rho:.4f}\")\n",
    "plt.xlabel('State i',fontsize=fs)\n",
    "plt.ylabel(r'$\\pi_i$',fontsize=fs)\n",
    "plt.show()"
   ]
  },
  {
   "cell_type": "markdown",
   "id": "ba6524ba-82f6-4367-a218-0cccd25a7222",
   "metadata": {},
   "source": [
    "How does it change with $\\rho$?"
   ]
  },
  {
   "cell_type": "markdown",
   "id": "93f07b91-d176-4b9d-951c-7d963c135361",
   "metadata": {},
   "source": [
    "### Describe the process investigating the transition probability\n",
    "\n",
    "We know that the transition probability is:\n",
    "\n",
    "$\n",
    "P =\\left[ \n",
    "\\begin{array}{cccccccc} \n",
    "r_{0} & p_{0} & 0 &0 &\\dots & 0 & 0& 0\\\\\n",
    "q_{1} & r_{1} & p_{1} &0 &\\dots & 0 & 0& 0\\\\\n",
    "0 & q_{2} & r_{2} &p_{2} &\\dots & 0 & 0& 0\\\\\n",
    "\\vdots&\\vdots & \\vdots &\\vdots&\\vdots & \\vdots & \\vdots& \\vdots\\\\\n",
    "0 & 0& 0 &0 &\\dots & q_{N-1} & r_{N-1}& p_{N-1}\\\\\n",
    "0 & 0& 0 &0 &\\dots & 0&q_{N} & r_{N}\n",
    "\\end{array}\n",
    "\\right] \\quad,\n",
    "$"
   ]
  },
  {
   "cell_type": "markdown",
   "id": "ea934f43-8029-4de8-a274-6ad16e8d5a3b",
   "metadata": {},
   "source": [
    "### Get P"
   ]
  },
  {
   "cell_type": "code",
   "execution_count": null,
   "id": "10a1c7f1-c710-4f81-a5c6-670685c6a8fc",
   "metadata": {},
   "outputs": [],
   "source": [
    "def get_P(p: float, q: float, N: int = 10):\n",
    "    '''\n",
    "    Assuming constant p,q,r\n",
    "    '''\n",
    "    r = 1 - (p+q)\n",
    "    P = np.zeros((N+1,N+1))\n",
    "\n",
    "    # Boundaries\n",
    "    P[0,0] = r\n",
    "    P[0,1] = p\n",
    "    P[N,N-1] = q\n",
    "    P[N,N] = r\n",
    "\n",
    "    # All other entries\n",
    "    for i in range(1,N):\n",
    "        P[i,i-1] = q\n",
    "        P[i,i] = r\n",
    "        P[i,i+1] = p\n",
    "    return P"
   ]
  },
  {
   "cell_type": "code",
   "execution_count": null,
   "id": "8a06b019-3b99-4d9e-85e4-746153642fa7",
   "metadata": {},
   "outputs": [],
   "source": [
    "N = 10\n",
    "# p = 0.9\n",
    "# q = 0.1\n",
    "P = get_P(p, q, N=N)"
   ]
  },
  {
   "cell_type": "code",
   "execution_count": null,
   "id": "3f53ba66-0fed-416c-ab5b-9f810cc9c72b",
   "metadata": {},
   "outputs": [],
   "source": [
    "fs = 10\n",
    "plt.figure(figsize=(8,5))\n",
    "plt.imshow(P, vmax=1,vmin=0, cmap='Blues')\n",
    "\n",
    "for (j,i),label in np.ndenumerate(P):\n",
    "    plt.text(i,j,f\"{label:.2f}\",ha='center',va='center', c='black', fontsize = fs)\n",
    "    plt.text(i,j,f\"{label:.2f}\",ha='center',va='center', c='black', fontsize = fs)\n",
    "plt.axis('off')\n",
    "plt.colorbar()"
   ]
  },
  {
   "cell_type": "markdown",
   "id": "c4bf7518-64d4-44fd-bd32-c5f907b4b073",
   "metadata": {
    "execution": {
     "iopub.execute_input": "2024-10-21T13:46:08.915302Z",
     "iopub.status.busy": "2024-10-21T13:46:08.913495Z",
     "iopub.status.idle": "2024-10-21T13:46:08.949114Z",
     "shell.execute_reply": "2024-10-21T13:46:08.948456Z",
     "shell.execute_reply.started": "2024-10-21T13:46:08.915217Z"
    }
   },
   "source": [
    "### Check that it is a valid probability\n",
    "This is always the first step to take, as a sanity check.\n",
    "\n",
    "We ask that the row-sum of $P$ equals 1:\n",
    "- $\\sum_j P_{ij} =1$, $\\forall i$"
   ]
  },
  {
   "cell_type": "code",
   "execution_count": null,
   "id": "aea2a13e-aa31-4c9f-bc5c-9b63392d0ac3",
   "metadata": {},
   "outputs": [],
   "source": [
    "assert np.all(np.isclose(np.sum(P,axis=1),1)),np.sum(P,axis=1)"
   ]
  },
  {
   "cell_type": "markdown",
   "id": "c68b55d7-3042-4077-a513-b43b8c3d886b",
   "metadata": {},
   "source": [
    "Boundaries cannot have the same $p,q$ as the non-boundaries!   \n",
    "\n",
    "Let's correct this."
   ]
  },
  {
   "cell_type": "code",
   "execution_count": null,
   "id": "efe00e7e-80d4-4e54-a228-625d5427651d",
   "metadata": {},
   "outputs": [],
   "source": [
    "def get_P(p: float, q: float, N: int = 10):\n",
    "    '''\n",
    "    Assuming constant p,q,r\n",
    "    '''\n",
    "    r = 1 - (p+q)\n",
    "    P = np.zeros((N+1,N+1))\n",
    "\n",
    "    # Boundaries\n",
    "    P[0,0] = r\n",
    "    P[0,1] = 1-r\n",
    "    P[N,N-1] = 1-r\n",
    "    P[N,N] = r\n",
    "\n",
    "    P[0,0] = 1-p\n",
    "    P[0,1] = p\n",
    "    P[N,N-1] = q\n",
    "    P[N,N] = 1-q\n",
    "\n",
    "    # All other entries\n",
    "    for i in range(1,N):\n",
    "        P[i,i-1] = q\n",
    "        P[i,i] = r\n",
    "        P[i,i+1] = p\n",
    "    return P"
   ]
  },
  {
   "cell_type": "code",
   "execution_count": null,
   "id": "4a6372d6-fdbf-4791-a46c-5c2c1b981dcf",
   "metadata": {},
   "outputs": [],
   "source": [
    "N = 10\n",
    "# p = 0.8\n",
    "# q = 0.1\n",
    "P = get_P(p, q, N=N)\n",
    "\n",
    "fs = 10\n",
    "plt.figure(figsize=(8,5))\n",
    "plt.imshow(P, vmax=1,vmin=0, cmap='Blues')\n",
    "\n",
    "for (j,i),label in np.ndenumerate(P):\n",
    "    plt.text(i,j,f\"{label:.2f}\",ha='center',va='center', c='black', fontsize = fs)\n",
    "    plt.text(i,j,f\"{label:.2f}\",ha='center',va='center', c='black', fontsize = fs)\n",
    "plt.axis('off')\n",
    "plt.colorbar()\n",
    "\n",
    "assert np.all(np.isclose(np.sum(P,axis=1),1)),np.sum(P,axis=1)"
   ]
  },
  {
   "cell_type": "markdown",
   "id": "c096b9af-f03f-4423-86fb-975f3a71b6eb",
   "metadata": {
    "execution": {
     "iopub.execute_input": "2024-11-18T12:45:49.258996Z",
     "iopub.status.busy": "2024-11-18T12:45:49.258169Z",
     "iopub.status.idle": "2024-11-18T12:45:49.281164Z",
     "shell.execute_reply": "2024-11-18T12:45:49.280332Z",
     "shell.execute_reply.started": "2024-11-18T12:45:49.258941Z"
    }
   },
   "source": [
    "### Visualize into a Markov graph\n",
    "Now that we have $P$, we can visualize using a **graph** (or network).  \n",
    "This will be handy to use all the methods and tools available from network modeling.   \n",
    "In particular, we will use the [`networkx`](https://networkx.org/) python module."
   ]
  },
  {
   "cell_type": "code",
   "execution_count": null,
   "id": "5eb5d9bc-d780-4f55-af02-078ab1075296",
   "metadata": {},
   "outputs": [],
   "source": [
    "filename = 'markov_chain_grw'\n",
    "filename = get_filename(filename,lecture_id=lecture_id)\n",
    "\n",
    "outfile = filename\n",
    "outfile"
   ]
  },
  {
   "cell_type": "markdown",
   "id": "7efe7d19-f6db-43d0-a6cd-8f889e13057f",
   "metadata": {
    "execution": {
     "iopub.execute_input": "2024-11-18T12:47:44.587707Z",
     "iopub.status.busy": "2024-11-18T12:47:44.587134Z",
     "iopub.status.idle": "2024-11-18T12:47:44.611417Z",
     "shell.execute_reply": "2024-11-18T12:47:44.610680Z",
     "shell.execute_reply.started": "2024-11-18T12:47:44.587684Z"
    }
   },
   "source": [
    "Let's first define a function to takes in input the matrix $P$ and builds a `networkx` graph object `G` with: \n",
    "- **nodes**: states of the Markov chain  \n",
    "- **edge** weights: entries of $P$"
   ]
  },
  {
   "cell_type": "code",
   "execution_count": null,
   "id": "b8e824b4-b436-4d88-b028-759260c30518",
   "metadata": {},
   "outputs": [],
   "source": [
    "def get_graph_from_transition(P: np.ndarray,states: list=None) -> nx.MultiDiGraph():\n",
    "    G = nx.MultiDiGraph()\n",
    "    if states is None:\n",
    "        states = np.arange(P.shape[0])\n",
    "    assert P.shape[0] == len(states) \n",
    "    for start_idx, node_start in enumerate(states):\n",
    "        for end_idx, node_end in enumerate(states):\n",
    "            value = P[start_idx][end_idx]\n",
    "            if value != 0:\n",
    "                G.add_edge(node_start,node_end, weight=value)\n",
    "    return G"
   ]
  },
  {
   "cell_type": "markdown",
   "id": "a6167ebd-1f46-4296-b06e-6b40c9e2eca3",
   "metadata": {},
   "source": [
    "Let's visualize this graph."
   ]
  },
  {
   "cell_type": "code",
   "execution_count": null,
   "id": "690d7450-04c9-4d03-8719-7024a73a23de",
   "metadata": {},
   "outputs": [],
   "source": [
    "G = get_graph_from_transition(P)\n",
    "\n",
    "\n",
    "pos = nx.spring_layout(G, seed=10)\n",
    "fig, ax = plt.subplots()\n",
    "nx.draw_networkx_nodes(G, pos, node_size=1000, edgecolors='black', node_color='white')\n",
    "nx.draw_networkx_labels(G, pos, font_size=12)\n",
    "\n",
    "arc_rad = 0.2\n",
    "\n",
    "edges = nx.draw_networkx_edges(G, pos, ax=ax, connectionstyle=f'arc3, rad = {arc_rad}', edge_cmap=cm.Blues, width=5,\n",
    "    edge_color=[G[nodes[0]][nodes[1]][0]['weight'] for nodes in G.edges])\n",
    "\n",
    "pc = mpl.collections.PatchCollection(edges, cmap=cm.Blues)\n",
    "\n",
    "ax = plt.gca()\n",
    "ax.set_axis_off()\n",
    "plt.colorbar(pc, ax=ax)\n",
    "plt.tight_layout()\n",
    "# plt.show()\n",
    "if outfile is not None:\n",
    "    \n",
    "    plt.savefig(f\"{outdir}{outfile}\", dpi=dpi, format=None, metadata=None,\n",
    "                bbox_inches='tight', pad_inches=0.1,\n",
    "                facecolor='auto', edgecolor='auto',\n",
    "                backend=None\n",
    "                )\n",
    "    print(f\"Figure saved in {outdir}{outfile}\")\n",
    "        \n",
    "plt.show()"
   ]
  },
  {
   "cell_type": "markdown",
   "id": "c645039b-8205-4b28-8a3a-8cce8d76d72d",
   "metadata": {},
   "source": [
    "### Irreducible vs reducible\n",
    "\n",
    "Q: is this irreducible?"
   ]
  },
  {
   "cell_type": "markdown",
   "id": "26992c30-883c-4e73-aa0e-6294ec12bf18",
   "metadata": {},
   "source": [
    "We can use the network property of a graph being **strongly connected** to check this."
   ]
  },
  {
   "cell_type": "code",
   "execution_count": null,
   "id": "1c82f15d-bd52-43be-91e7-1284617cd170",
   "metadata": {},
   "outputs": [],
   "source": [
    "print(f\"Is irreducible?\\n{nx.is_strongly_connected(G)}!\")"
   ]
  },
  {
   "cell_type": "markdown",
   "id": "13fc3e60-42af-421a-a102-73c03d4d0c7b",
   "metadata": {},
   "source": [
    "## Simulate a Markov Chain\n",
    "We are now ready to play with the Markov chain and simulate one.  \n",
    "We can use two methods:\n",
    "1. Concatenate the transition matrix $P$ as done in Notebook 2\n",
    "2. Sample binary steps $Z_i \\in {-1,0,1}$ with probability $q,r,p$ and add them up"
   ]
  },
  {
   "cell_type": "code",
   "execution_count": null,
   "id": "e56b7fc9-e1e9-4464-9819-db7238bfee25",
   "metadata": {},
   "outputs": [],
   "source": [
    "# Method 1\n",
    "def get_trajectory_with_P(initial_state: int, transition_matrix: np.ndarray, T: int, seed: int = 10):\n",
    "    prng = np.random.RandomState(seed=seed)\n",
    "    # assert np.all(np.isclose(np.sum(transition_matrix,axis=1),1))\n",
    "    N = transition_matrix.shape[0]\n",
    "    assert 0 <= initial_state < N\n",
    "    states = np.zeros(T).astype(int)\n",
    "    current_state = initial_state\n",
    "    i = 0\n",
    "    reached_absorbing = False\n",
    "    while (i < T) and reached_absorbing == False:\n",
    "        states[i] = prng.choice(np.arange(N), p=transition_matrix[current_state])\n",
    "        current_state = states[i]\n",
    "        \n",
    "        if np.isclose(transition_matrix[current_state][current_state],1):\n",
    "            reached_absorbing = True\n",
    "            states[i+1:] = states[i]\n",
    "        else:\n",
    "            i += 1\n",
    "            \n",
    "    return states"
   ]
  },
  {
   "cell_type": "code",
   "execution_count": null,
   "id": "8e84b09b-0d93-4dfa-96bc-46fcfc2f07a9",
   "metadata": {},
   "outputs": [],
   "source": [
    "# Method 2\n",
    "def random_walk_reflecting(p: float, q: float, num_steps:int = 100,\n",
    "                           x_min: int = 0, x_max: int =10,x0: int = None, \n",
    "                           boundary_type='reflect',\n",
    "                          seed: int = 10):\n",
    "    \"\"\"\n",
    "    Simulates a 1D random walk with reflecting or absorbing boundaries\n",
    "\n",
    "    Parameters:\n",
    "    num_steps (int): Total number of steps for the random walk.\n",
    "    x_min (int): Lower boundary of the 1D line.\n",
    "    x_max (int): Upper boundary of the 1D line.\n",
    "    boundary_type (str): Type of boundary behavior: 'stick' for stick at the boundary,\n",
    "                         'reflect' for reflecting at the boundary.\n",
    "\n",
    "    Returns:\n",
    "    trajectory (ndarray): states over all time steps.\n",
    "    \"\"\"\n",
    "    assert 0<=p<=1\n",
    "    assert 0<=q<=1\n",
    "    r = 1 - (p+q)\n",
    "\n",
    "    prng = np.random.RandomState(seed=seed)\n",
    "    \n",
    "    if x0 is None: x0 = x_min\n",
    "    # Initialize particles at position 0 (start from zero)\n",
    "    position = x0\n",
    "    trajectory = np.zeros(num_steps + 1)  # Store positions for all particles over time\n",
    "    trajectory[0] = position  # Initial position\n",
    "    for t in range(1, num_steps + 1):\n",
    "        step = prng.choice([-1,0, 1], size=1, p=[q,r,p])  # Random step\n",
    "        position += step  # Update position\n",
    "\n",
    "        # Apply boundary conditions based on 'sticking_type'\n",
    "        if boundary_type == 'stick':\n",
    "            # Apply stick boundaries: process stops at the boundary\n",
    "            position = np.where(position < x_min, x_min, position)\n",
    "            position = np.where(position > x_max, x_max, position)\n",
    "\n",
    "        elif boundary_type == 'reflect':\n",
    "            # Apply reflecting boundaries: absorbing bounces back from the boundary\n",
    "            position = np.where(position < x_min, x_min + (x_min - position), position)\n",
    "            position = np.where(position > x_max, x_max - (position - x_max), position)\n",
    "\n",
    "        # Store position at each time step\n",
    "        trajectory[t] = position\n",
    "\n",
    "    return trajectory"
   ]
  },
  {
   "cell_type": "markdown",
   "id": "6ac85a17-24bc-4f9b-b070-2e201445b1f3",
   "metadata": {},
   "source": [
    "Now we can use this to run it for various time steps."
   ]
  },
  {
   "cell_type": "code",
   "execution_count": null,
   "id": "ddb81d75-6789-466f-8d6d-9abe8e53be01",
   "metadata": {},
   "outputs": [],
   "source": [
    "states = np.arange(N+1)\n",
    "initial_state = 0  # Starting state\n",
    "print(f\"Starting state = {states[initial_state]}\")\n",
    "T = 10000 # number of timesteps to simulate"
   ]
  },
  {
   "cell_type": "code",
   "execution_count": null,
   "id": "8d2ffc4e-04b5-45e5-b26a-372019a7b4cd",
   "metadata": {},
   "outputs": [],
   "source": [
    "trajectory_P = get_trajectory_with_P(initial_state,P, T)"
   ]
  },
  {
   "cell_type": "code",
   "execution_count": null,
   "id": "f1d79c53-8f72-4f43-b328-ed8643b40c42",
   "metadata": {},
   "outputs": [],
   "source": [
    "fig, ax = plt.subplots(1,min(T,11),figsize=(6 * min(T,11), 5))\n",
    "\n",
    "for i in range(11):\n",
    "\n",
    "    if i > 0:\n",
    "        old_state = trajectory_P[i-1]\n",
    "    else:\n",
    "        old_state = initial_state\n",
    "    current_state = trajectory_P[i]\n",
    "    node_color = ['white' for i in range(len(states))]\n",
    "    node_color[old_state] = 'r'    \n",
    "    \n",
    "    nx.draw_networkx_nodes(G, pos, node_size=3000, edgecolors='black', node_color=node_color,ax=ax[i],alpha=0.8)\n",
    "    nx.draw_networkx_labels(G, pos, font_size=12, ax=ax[i])\n",
    "\n",
    "    edge_color = ['black' for e in G.edges()]\n",
    "    width = [1 for e in G.edges]\n",
    "    for idx, (u,v) in enumerate(G.edges()):\n",
    "        if (u == states[old_state]) & (v == states[current_state]):\n",
    "            edge_color[idx] = 'r'\n",
    "            width[idx] = 10\n",
    "    edges = nx.draw_networkx_edges(G, pos, ax=ax[i], connectionstyle=f'arc3, rad = {arc_rad}', edge_cmap=cm.Blues, width=width,\n",
    "                edge_color=edge_color, arrows=True, arrowsize=10)\n",
    "    \n",
    "    ax[i].set_axis_off()\n",
    "    ax[i].set_title(f\"t = {i}\", fontsize=50)\n",
    "\n",
    "plt.tight_layout()"
   ]
  },
  {
   "cell_type": "code",
   "execution_count": null,
   "id": "5b0003af-e3c7-4ac5-920c-30ad4bdbcf95",
   "metadata": {},
   "outputs": [],
   "source": [
    "plot_trajectories(trajectory_P,x_max=N)"
   ]
  },
  {
   "cell_type": "code",
   "execution_count": null,
   "id": "c021e912-4f15-4b6c-85f9-c8292182e19e",
   "metadata": {},
   "outputs": [],
   "source": [
    "\n",
    "trajectory_Z = random_walk_reflecting(p,q,num_steps=T, x_min=0, x_max=N, boundary_type='stick')\n",
    "\n",
    "plot_trajectories(trajectory_Z,x_max=N)"
   ]
  },
  {
   "cell_type": "code",
   "execution_count": null,
   "id": "e5f65085-ca44-4b6b-b32b-a2e030a728e3",
   "metadata": {},
   "outputs": [],
   "source": [
    "Nmin = 5000\n",
    "final_positions_P = trajectory_P[Nmin:]\n",
    "final_positions_Z = trajectory_Z[Nmin:]"
   ]
  },
  {
   "cell_type": "code",
   "execution_count": null,
   "id": "45723adb-d17a-4c1a-85dd-73847a372ddb",
   "metadata": {},
   "outputs": [],
   "source": [
    "\n",
    "fig, ax = plt.subplots(1,2,figsize=(10, 4), sharex=True, sharey=True)\n",
    "ax[0].hist(final_positions_Z, bins = np.arange(0.5,N+1.5,1), density=True, color='b', alpha=0.7, edgecolor='black',label='Empirical')  # Probability distribution\n",
    "ax[0].scatter(xs,ys0,label='Theory',s=100, c='r')\n",
    "ax[0].set_title(f'Long run probability using P')\n",
    "ax[0].set_xlabel('State')\n",
    "ax[0].set_ylabel('Probability')\n",
    "ax[0].legend(loc='best')\n",
    "ax[0].grid(True)\n",
    "\n",
    "ax[1].hist(final_positions_P, bins = np.arange(0.5,N+1.5,1), density=True, color='b', alpha=0.7, edgecolor='black',label='Empirical')  # Probability distribution\n",
    "ax[1].scatter(xs,ys0,label='Theory',s=100, c='r')\n",
    "ax[1].set_title(f'Long run probability using Z')\n",
    "ax[1].set_xlabel('State')\n",
    "ax[1].set_ylabel('Probability')\n",
    "ax[1].legend(loc='best')\n",
    "ax[1].grid(True)\n",
    "\n",
    "# plt.show()"
   ]
  },
  {
   "cell_type": "markdown",
   "id": "82062cc7-d9c6-49d1-af77-07ad16c99716",
   "metadata": {},
   "source": [
    "### Number of Visits\n",
    "We can check what is the expected value of the number of visits to node $j$, given we start at $i$:\n",
    "\n",
    "$\\mathbb{E} [N_{i}(j)] = \\frac{r_{ij}}{1-r_{jj}} \\, = \\sum_{n=1}^{\\infty}(P^{n})_{ij}$"
   ]
  },
  {
   "cell_type": "markdown",
   "id": "c8050f8f-6a3c-4005-91ad-991d8c7f3048",
   "metadata": {
    "execution": {
     "iopub.execute_input": "2024-10-24T12:08:50.068117Z",
     "iopub.status.busy": "2024-10-24T12:08:50.064341Z",
     "iopub.status.idle": "2024-10-24T12:08:50.208671Z",
     "shell.execute_reply": "2024-10-24T12:08:50.207364Z",
     "shell.execute_reply.started": "2024-10-24T12:08:50.067608Z"
    }
   },
   "source": [
    "For this, we can compute the RHS using the power of a matrix"
   ]
  },
  {
   "cell_type": "code",
   "execution_count": null,
   "id": "72c04cac-7c77-48f0-b80a-aded7f0deeef",
   "metadata": {},
   "outputs": [],
   "source": [
    "from numpy.linalg import matrix_power"
   ]
  },
  {
   "cell_type": "code",
   "execution_count": null,
   "id": "3ce5c3db-3e2f-48e1-902c-1a70484d2a32",
   "metadata": {},
   "outputs": [],
   "source": [
    "P"
   ]
  },
  {
   "cell_type": "markdown",
   "id": "c1207a3b-6dc5-4604-b0c8-8fae7c7d3a92",
   "metadata": {},
   "source": [
    "First, let's take a look at $P^n$, tuning $n$ from small to large values"
   ]
  },
  {
   "cell_type": "code",
   "execution_count": null,
   "id": "d1c0eb52-7949-4734-9d5f-61e50f21ee9f",
   "metadata": {},
   "outputs": [],
   "source": [
    "max_N = 1001\n",
    "P_to_the_N = matrix_power(P, max_N)\n",
    "P_to_the_N[:2]"
   ]
  },
  {
   "cell_type": "code",
   "execution_count": null,
   "id": "2e63e29f-a70b-4123-8415-30449605ac82",
   "metadata": {},
   "outputs": [],
   "source": [
    "fs = 10\n",
    "plt.figure(figsize=(6,3))\n",
    "fig, ax = plt.subplots(1,2,figsize=(10,5))\n",
    "\n",
    "# Original transition matrix\n",
    "ax[0].imshow(P, vmax=1,vmin=0, cmap='Blues')\n",
    "\n",
    "for (j,i),label in np.ndenumerate(P):\n",
    "    ax[0].text(i,j,f\"{label:.2f}\",ha='center',va='center', c='black', fontsize = fs)\n",
    "    ax[0].text(i,j,f\"{label:.2f}\",ha='center',va='center', c='black', fontsize = fs)\n",
    "\n",
    "ax[0].axis('off')\n",
    "ax[0].set_title('P')\n",
    "# n-step transition matrix\n",
    "ax[1].imshow(P_to_the_N, vmax=1,vmin=0, cmap='Blues')\n",
    "\n",
    "for (j,i),label in np.ndenumerate(P_to_the_N):\n",
    "    ax[1].text(i,j,f\"{label:.3f}\",ha='center',va='center', c='black', fontsize = fs)\n",
    "    ax[1].text(i,j,f\"{label:.3f}\",ha='center',va='center', c='black', fontsize = fs)\n",
    "    \n",
    "ax[1].axis('off')\n",
    "ax[1].set_title(r'$P^n$' +f\", n = {max_N}\" )\n",
    "# pc.colorbar()"
   ]
  },
  {
   "cell_type": "markdown",
   "id": "6b9dcf98-39f2-4134-9d27-d5d724d9420b",
   "metadata": {
    "execution": {
     "iopub.execute_input": "2024-11-18T14:25:44.052620Z",
     "iopub.status.busy": "2024-11-18T14:25:44.051780Z",
     "iopub.status.idle": "2024-11-18T14:25:44.078615Z",
     "shell.execute_reply": "2024-11-18T14:25:44.077513Z",
     "shell.execute_reply.started": "2024-11-18T14:25:44.052583Z"
    }
   },
   "source": [
    "### Q3: play with `max_N`, what do you see?"
   ]
  },
  {
   "cell_type": "markdown",
   "id": "a64c62c5-5411-44dd-9b6b-e3fe1b5c285f",
   "metadata": {},
   "source": [
    "Now we are ready to take the **sum** of this over various $n$"
   ]
  },
  {
   "cell_type": "code",
   "execution_count": null,
   "id": "41fc9aba-e7f4-4012-b9e7-14d7f53b88cc",
   "metadata": {},
   "outputs": [],
   "source": [
    "max_N = 1000\n",
    "sumP_to_the_N = sum([matrix_power(P, n) for n in range(1,max_N+1)])\n",
    "\n",
    "sumP_to_the_N[:3]"
   ]
  },
  {
   "cell_type": "code",
   "execution_count": null,
   "id": "eabf5688-e834-4e1f-af6f-9e5f6392b0b9",
   "metadata": {},
   "outputs": [],
   "source": [
    "fs = 10\n",
    "plt.figure(figsize=(6,3))\n",
    "fig, ax = plt.subplots(1,2,figsize=(10,5))\n",
    "\n",
    "# Original transition matrix\n",
    "ax[0].imshow(P, vmax=1,vmin=0, cmap='Blues')\n",
    "\n",
    "for (j,i),label in np.ndenumerate(P):\n",
    "    ax[0].text(i,j,f\"{label:.2f}\",ha='center',va='center', c='black', fontsize = fs)\n",
    "    ax[0].text(i,j,f\"{label:.2f}\",ha='center',va='center', c='black', fontsize = fs)\n",
    "\n",
    "ax[0].axis('off')\n",
    "ax[0].set_title('P')\n",
    "# n-step transition matrix\n",
    "ax[1].imshow(sumP_to_the_N, cmap='Blues')\n",
    "\n",
    "for (j,i),label in np.ndenumerate(sumP_to_the_N):\n",
    "    ax[1].text(i,j,f\"{label:.1f}\",ha='center',va='center', c='black', fontsize = fs)\n",
    "    ax[1].text(i,j,f\"{label:.1f}\",ha='center',va='center', c='black', fontsize = fs)\n",
    "    \n",
    "ax[1].axis('off')\n",
    "ax[1].set_title(r'$\\sum_{n=1}^{max_N} (P^n)$' +f\", max_N = {max_N}\" )\n",
    "# pc.colorbar()"
   ]
  },
  {
   "cell_type": "markdown",
   "id": "404bd944-8814-4d85-a3ca-7e96b0fe87c3",
   "metadata": {},
   "source": [
    "### Find steady state distribution"
   ]
  },
  {
   "cell_type": "markdown",
   "id": "141e80e7-b0be-424e-a7ac-3a49ec9791ed",
   "metadata": {},
   "source": [
    "**Method 1**: solving an eigenvector equation.\n",
    "\n",
    "**Note**: you can sometime do this also _analytically_, by using a system of equations. This can be helpful in simple cases, e.g. when there are 2-3 states."
   ]
  },
  {
   "cell_type": "code",
   "execution_count": null,
   "id": "7a3816ca-7576-477b-8205-4603864ea1c3",
   "metadata": {},
   "outputs": [],
   "source": [
    "# Convert the transition matrix to a NumPy array\n",
    "transition_matrix = np.array(P)\n",
    "\n",
    "# Calculate the steady-state distribution\n",
    "eigenvalues, eigenvectors = np.linalg.eig(P.T)\n",
    "steady_state = eigenvectors[:, np.isclose(eigenvalues, 1)]\n",
    "\n",
    "# Normalize the steady-state distribution\n",
    "steady_state = steady_state / steady_state.sum()\n",
    "\n",
    "print(steady_state.real.flatten())"
   ]
  },
  {
   "cell_type": "code",
   "execution_count": null,
   "id": "47a16f6c-d48f-4966-8f73-a50bd434fbcc",
   "metadata": {},
   "outputs": [],
   "source": [
    "ys = steady_state.real.flatten()\n",
    "fs = 20\n",
    "plt.figure(figsize=(6,3))\n",
    "\n",
    "plt.scatter(xs,ys)\n",
    "plt.text( N-2,(max(ys)- 0.1*(max(ys)-min(ys))),f\"{r'$\\rho=$'}{p/q:.4f}\")\n",
    "plt.xlabel('State i',fontsize=fs)\n",
    "plt.ylabel(r'$\\pi_i$',fontsize=fs)\n",
    "plt.show()"
   ]
  },
  {
   "cell_type": "markdown",
   "id": "46aed276-d6df-49fa-928a-26aebec6bd88",
   "metadata": {
    "execution": {
     "iopub.execute_input": "2024-10-24T13:58:26.533579Z",
     "iopub.status.busy": "2024-10-24T13:58:26.531991Z",
     "iopub.status.idle": "2024-10-24T13:58:26.560197Z",
     "shell.execute_reply": "2024-10-24T13:58:26.559545Z",
     "shell.execute_reply.started": "2024-10-24T13:58:26.533503Z"
    }
   },
   "source": [
    "**Method 2**: using the power of $P$ (and its relations with the expected number of visited sites)\n",
    "\n",
    "\n",
    "$ \\lim_{n \\rightarrow \\infty} \\frac{\\mathbb{E} [N_{n,i}(j)]}{n}= \\pi_{j}$"
   ]
  },
  {
   "cell_type": "code",
   "execution_count": null,
   "id": "44b34f1c-e5dc-439e-a5a7-fbc3461061e4",
   "metadata": {},
   "outputs": [],
   "source": [
    "max_N = 10000\n",
    "sumP_to_the_N = sum([matrix_power(P, n)/max_N for n in range(1,max_N)])\n",
    "\n",
    "sumP_to_the_N[:3]"
   ]
  },
  {
   "cell_type": "code",
   "execution_count": null,
   "id": "18e14f45-a6fd-4b32-878e-881e9654309b",
   "metadata": {},
   "outputs": [],
   "source": [
    "sumP_to_the_N[i]"
   ]
  },
  {
   "cell_type": "code",
   "execution_count": null,
   "id": "12e41256-d0ca-4e0d-a535-6dfb10e63df8",
   "metadata": {},
   "outputs": [],
   "source": [
    "i = 0\n",
    "assert np.allclose(sumP_to_the_N[i],steady_state.real.flatten(),rtol=1e-1)"
   ]
  },
  {
   "cell_type": "code",
   "execution_count": null,
   "id": "57859d0f-3a0b-4257-ab26-bf58fc6fb7d9",
   "metadata": {},
   "outputs": [],
   "source": [
    "ys2 = sumP_to_the_N[0].real.flatten()\n",
    "fs = 20\n",
    "plt.figure(figsize=(6,3))\n",
    "\n",
    "plt.scatter(xs,ys0,marker='D',label='Theory')\n",
    "plt.scatter(xs,ys,label='Method 1: eigenvalues')\n",
    "plt.scatter(xs,ys2,marker='x',label='Method 2: sumP_to_the_N',alpha=0.5)\n",
    "plt.text( N-2,(max(ys)- 0.1*(max(ys)-min(ys))),f\"{r'$\\rho=$'}{p/q:.4f}\")\n",
    "plt.xlabel('State i',fontsize=fs)\n",
    "plt.ylabel(r'$\\pi_i$',fontsize=fs)\n",
    "plt.legend()\n",
    "plt.show()"
   ]
  },
  {
   "cell_type": "markdown",
   "id": "827bb165-227c-43d0-bf6b-401d1595117f",
   "metadata": {},
   "source": [
    "# Gambler's ruin\n",
    "This can be seen as a random walk as above with absorbing boundary conditions at 0 and $m$.  \n",
    "$m$ is the sum we fix to end the game (if we win).  \n",
    "We assume that $r=0$, i.e. there is no resting step.  \n"
   ]
  },
  {
   "cell_type": "code",
   "execution_count": null,
   "id": "7760cbb6-00f2-4df1-95a4-c298ed50101f",
   "metadata": {},
   "outputs": [],
   "source": [
    "m = 10\n",
    "p = 0.5\n",
    "q = 0.5\n",
    "rho = p / q\n",
    "print(f\"rho={rho:.3f}\")"
   ]
  },
  {
   "cell_type": "markdown",
   "id": "a2a0595f-9a45-45cb-bbe4-a0a77e6097dc",
   "metadata": {
    "execution": {
     "iopub.execute_input": "2025-09-18T16:32:50.710653Z",
     "iopub.status.busy": "2025-09-18T16:32:50.710139Z",
     "iopub.status.idle": "2025-09-18T16:32:50.735015Z",
     "shell.execute_reply": "2025-09-18T16:32:50.734378Z",
     "shell.execute_reply.started": "2025-09-18T16:32:50.710623Z"
    }
   },
   "source": [
    "### What is the probability of ruin?\n",
    "There are two possibilities, depending on $\\rho$:\n",
    "1. $r_{a} = \\frac{\\rho^{a}-\\rho^{m}}{\t1-\\rho^{m}}\\,,\\quad (\\rho\\neq1)$\n",
    "2. $r_{a} = 1-\\frac{a}{m}\\,,\\quad(\\rho=1)$\n",
    "\n",
    "Let's check how this behaves"
   ]
  },
  {
   "cell_type": "code",
   "execution_count": null,
   "id": "3a9d75c7-6646-4a43-be3b-60186287894e",
   "metadata": {},
   "outputs": [],
   "source": [
    "def calculate_ra(a: int, m: int, rho, EPS=1e-8):\n",
    "    assert 0<a<m, f\"a={a}\"\n",
    "    if np.isclose(rho,1):\n",
    "        return 1 - a/m\n",
    "    num = np.power(rho,a) - np.power(rho,m)\n",
    "    den = 1 - np.power(rho,m) + EPS\n",
    "    return num / den"
   ]
  },
  {
   "cell_type": "code",
   "execution_count": null,
   "id": "de8c8929-b6cd-4ba8-a099-cabd652633ce",
   "metadata": {},
   "outputs": [],
   "source": [
    "m = 100 # value of the win\n",
    "a = 10\n",
    "xs = np.linspace(0.001,2,100)\n",
    "ys0 = [calculate_ra(a,m, rho=rho) for rho in xs]\n",
    "assert np.allclose(np.sum(ys),1)"
   ]
  },
  {
   "cell_type": "code",
   "execution_count": null,
   "id": "cc360403-c934-434f-af1b-167d4e1463f1",
   "metadata": {},
   "outputs": [],
   "source": [
    "fs = 20\n",
    "plt.figure(figsize=(6,3))\n",
    "\n",
    "plt.scatter(xs,ys0)\n",
    "plt.text( 0.1,0.9,f\"a={a:.0f}, m={m}\")\n",
    "plt.axvline(x=1, color='b', linestyle='--', lw=1)\n",
    "plt.axhline(y=1, color='r', linestyle='--', lw=1)\n",
    "\n",
    "plt.xlabel(r'$\\rho$',fontsize=fs)\n",
    "plt.ylabel(r'$r_a$',fontsize=fs)\n",
    "plt.show()"
   ]
  },
  {
   "cell_type": "markdown",
   "id": "f4d9adc6-fe09-4277-9f1f-f32c78afa74f",
   "metadata": {
    "execution": {
     "iopub.execute_input": "2025-09-18T17:06:03.976987Z",
     "iopub.status.busy": "2025-09-18T17:06:03.975759Z",
     "iopub.status.idle": "2025-09-18T17:06:04.008232Z",
     "shell.execute_reply": "2025-09-18T17:06:04.007295Z",
     "shell.execute_reply.started": "2025-09-18T17:06:03.976911Z"
    }
   },
   "source": [
    "What happens if we send $m\\rightarrow \\infty$?"
   ]
  },
  {
   "cell_type": "code",
   "execution_count": null,
   "id": "4957ebad-b6b2-47b1-ab4c-b7990a8eb5cc",
   "metadata": {},
   "outputs": [],
   "source": [
    "m = 1000 # value of the win\n",
    "a = 10\n",
    "xs = np.linspace(0.001,2,100)\n",
    "ys0 = [calculate_ra(a,m, rho=rho) for rho in xs]\n",
    "assert np.allclose(np.sum(ys),1)\n",
    "\n",
    "fs = 20\n",
    "plt.figure(figsize=(6,3))\n",
    "\n",
    "plt.scatter(xs,ys0)\n",
    "plt.text( 0.1,0.9,f\"a={a:.0f}, m={m}\")\n",
    "plt.axvline(x=1, color='b', linestyle='--', lw=1)\n",
    "plt.axhline(y=1, color='r', linestyle='--', lw=1)\n",
    "\n",
    "plt.xlabel(r'$\\rho$',fontsize=fs)\n",
    "plt.ylabel(r'$r_a$',fontsize=fs)\n",
    "plt.show()"
   ]
  },
  {
   "cell_type": "markdown",
   "id": "433f2dc2-a92b-47c7-a8af-8239c3409af6",
   "metadata": {},
   "source": [
    "### Compare with simulations\n",
    "\n",
    "Let's test the theory by running some simulations and comparing with it"
   ]
  },
  {
   "cell_type": "code",
   "execution_count": null,
   "id": "3ba9b196-0fb2-47ec-9565-93f9504643cc",
   "metadata": {},
   "outputs": [],
   "source": [
    "def get_P_gambler(p: float, q: float, m: int = 10):\n",
    "\n",
    "    assert np.isclose(p+q,1)\n",
    "    \n",
    "    P = np.zeros((m+1,m+1))\n",
    "\n",
    "    # All other entries\n",
    "    for i in range(1,m):\n",
    "        P[i,i-1] = q\n",
    "        P[i,i+1] = p\n",
    "\n",
    "    # Boundaries\n",
    "    P[0,0] = 1\n",
    "    P[0,1] = 0\n",
    "    P[m,m-1] = 0\n",
    "    P[m,m] = 1\n",
    "\n",
    "    return P"
   ]
  },
  {
   "cell_type": "code",
   "execution_count": null,
   "id": "315845ef-148f-400a-a14b-3cf61e3df8e6",
   "metadata": {},
   "outputs": [],
   "source": [
    "m = 10\n",
    "p = 0.5\n",
    "q = 0.5"
   ]
  },
  {
   "cell_type": "code",
   "execution_count": null,
   "id": "e34876a5-f752-4579-bae1-ebf8fc4517e9",
   "metadata": {},
   "outputs": [],
   "source": [
    "P_gambler = get_P_gambler(p,q,m)\n",
    "assert np.all(np.isclose(np.sum(P_gambler,axis=1),1)),np.sum(P_gambler,axis=1)\n",
    "print(P_gambler.shape)"
   ]
  },
  {
   "cell_type": "code",
   "execution_count": null,
   "id": "4cd8752c-6125-4b3e-99ca-b764e3e528e6",
   "metadata": {},
   "outputs": [],
   "source": [
    "fs = 10\n",
    "plt.figure(figsize=(8,5))\n",
    "plt.imshow(P_gambler[:10,:10], vmax=1,vmin=0, cmap='Blues')\n",
    "\n",
    "if m <=10:\n",
    "    for (j,i),label in np.ndenumerate(P_gambler):\n",
    "        plt.text(i,j,f\"{label:.2f}\",ha='center',va='center', c='black', fontsize = fs)\n",
    "        plt.text(i,j,f\"{label:.2f}\",ha='center',va='center', c='black', fontsize = fs)\n",
    "    plt.axis('off')\n",
    "    plt.colorbar()"
   ]
  },
  {
   "cell_type": "code",
   "execution_count": null,
   "id": "a5991f72-de62-4483-b9c4-1c6f902cfe5c",
   "metadata": {},
   "outputs": [],
   "source": [
    "initial_state = 9\n",
    "T = 1000\n",
    "trajectory_P_gambler = get_trajectory_with_P(initial_state,P_gambler, T, seed=11)\n",
    "trajectory_P_gambler.shape"
   ]
  },
  {
   "cell_type": "code",
   "execution_count": null,
   "id": "8eff682a-38bd-41d2-8f89-a7e065f04826",
   "metadata": {},
   "outputs": [],
   "source": [
    "plot_trajectories(trajectory_P_gambler,x_max=m)"
   ]
  },
  {
   "cell_type": "markdown",
   "id": "e27e3bcb-3f90-4522-908e-b9b459be2797",
   "metadata": {
    "execution": {
     "iopub.execute_input": "2025-09-18T17:16:58.499770Z",
     "iopub.status.busy": "2025-09-18T17:16:58.499339Z",
     "iopub.status.idle": "2025-09-18T17:16:58.523609Z",
     "shell.execute_reply": "2025-09-18T17:16:58.522501Z",
     "shell.execute_reply.started": "2025-09-18T17:16:58.499738Z"
    }
   },
   "source": [
    "Let's now run for many gamblers"
   ]
  },
  {
   "cell_type": "code",
   "execution_count": null,
   "id": "6efcc8fc-936b-4856-9763-3c4079498eaf",
   "metadata": {},
   "outputs": [],
   "source": [
    "\n",
    "initial_state = 5\n",
    "N_gamblers = 1000\n",
    "T = 1000\n",
    "trajectory_P_gamblers = np.array([get_trajectory_with_P(initial_state,P_gambler, T, seed=seed) for seed in np.arange(N_gamblers)])\n",
    "trajectory_P_gamblers.shape"
   ]
  },
  {
   "cell_type": "code",
   "execution_count": null,
   "id": "f27c8d05-2ff5-435c-822f-2426692cbead",
   "metadata": {},
   "outputs": [],
   "source": [
    "print('Example ends of the trajectory:') \n",
    "trajectory_P_gamblers[:10,-1]"
   ]
  },
  {
   "cell_type": "code",
   "execution_count": null,
   "id": "c0bb8235-6bd3-401f-ae87-05ae7202b7f3",
   "metadata": {},
   "outputs": [],
   "source": [
    "np.unique(trajectory_P_gamblers[:,-1], return_counts=True)"
   ]
  },
  {
   "cell_type": "code",
   "execution_count": null,
   "id": "83f601a4-b07c-4992-a773-24a74610e574",
   "metadata": {},
   "outputs": [],
   "source": [
    "n_wins = np.sum(trajectory_P_gamblers[:,-1] == m) / N_gamblers\n",
    "n_ruins = np.sum(trajectory_P_gamblers[:,-1] == 0) / N_gamblers\n",
    "# assert n_wins == 1-n_ruins, f\"n_wins={n_wins}, n_ruins={n_ruins}\"\n",
    "print(f\"n_wins = {n_wins}, n_ruins = {n_ruins}\")\n",
    "\n",
    "ra = calculate_ra(initial_state,m, rho=p/q) \n",
    "print(f\"theory: {ra:.2f}\")"
   ]
  },
  {
   "cell_type": "markdown",
   "id": "88689143-17dd-47b5-b085-71b32de6e921",
   "metadata": {},
   "source": [
    "### Duration of the game\n",
    "The theory says that the expected value $d_a = \\text{E}[T]$ of the duration of a game, where:\n",
    "\n",
    "$T=\\min \\{n>0 | X_{n}=0 \\lor X_{n}=m\\}$ \n",
    "\n",
    "is: \n",
    "\n",
    "$\n",
    "d_{a}=\\left\\{\n",
    "\\begin{array}{ll}\n",
    "\\frac{1}{q-p}(a-m\\,\\frac{1-\\rho^{a}}{1-\\rho^{m}}) & (\\rho \\neq 1)\\\\\n",
    "a\\,(m-a) & (\\rho=1)\n",
    "\\end{array}\n",
    "\\right.\n",
    "$"
   ]
  },
  {
   "cell_type": "markdown",
   "id": "08df8f58-1fc6-4d76-876c-2ff2cd01ba3a",
   "metadata": {},
   "source": [
    "Let's use the simulations above to check this"
   ]
  },
  {
   "cell_type": "code",
   "execution_count": null,
   "id": "66be44b2-fd54-410e-a873-a40eee84ce3c",
   "metadata": {},
   "outputs": [],
   "source": [
    "def get_expected_duration(p: float,q: float, m: int, a: int = 0):\n",
    "\n",
    "    assert 0<p<1\n",
    "    assert 0<q<1\n",
    "    assert 0<a<m\n",
    "    \n",
    "    rho = p/q\n",
    "    if np.isclose(rho,1):\n",
    "        return a * (m-a)\n",
    "    d = a - m * (1 - np.power(rho,a)) / (1 - np.power(rho,m))\n",
    "    d = d / (q-p)\n",
    "    return d"
   ]
  },
  {
   "cell_type": "code",
   "execution_count": null,
   "id": "3009d174-c168-467e-bf7c-9ed563e39c87",
   "metadata": {},
   "outputs": [],
   "source": [
    "assert N_gamblers == len(np.where(trajectory_P_gamblers[:,-1] == m)[0]) + len(np.where(trajectory_P_gamblers[:,-1] == 0)[0])"
   ]
  },
  {
   "cell_type": "code",
   "execution_count": null,
   "id": "454c699a-dc5f-4dcd-933a-18dab93121fb",
   "metadata": {},
   "outputs": [],
   "source": [
    "duration = np.zeros(N_gamblers)\n",
    "for i in range(N_gamblers):\n",
    "    cond_win = np.where(trajectory_P_gamblers[i] == m)[0]\n",
    "    if len(cond_win) == 0:\n",
    "        cond_ruin = np.where(trajectory_P_gamblers[i] == 0)[0]\n",
    "        duration[i] = min(cond_ruin)\n",
    "    else:\n",
    "        duration[i] = min(cond_win)\n",
    "    "
   ]
  },
  {
   "cell_type": "code",
   "execution_count": null,
   "id": "e66205e8-5a28-491a-bc24-305caf13487c",
   "metadata": {},
   "outputs": [],
   "source": [
    "expected_d = get_expected_duration(p,q,m,initial_state)\n",
    "empirical_mean_duration = np.mean(duration)\n",
    "\n",
    "fig, ax = plt.subplots(1,1,figsize=(6, 4))\n",
    "ax.hist(duration, bins = 20, density=True, color='b', alpha=0.7, edgecolor='black')  # Probability distribution\n",
    "plt.axvline(x=expected_d, color='r', linestyle='--', lw=1, label='Theory')\n",
    "plt.axvline(x=empirical_mean_duration, color='b', linestyle='--', lw=1,label='Empirical')\n",
    "\n",
    "ax.set_title(f'p={p:.2f}, q={q:.2f}\\na={initial_state}, m={m}')\n",
    "ax.set_xlabel('Duration')\n",
    "ax.set_ylabel('Probability')\n",
    "ax.legend(loc='best')\n",
    "ax.grid(True)\n",
    "\n",
    "# plt.show()"
   ]
  },
  {
   "cell_type": "code",
   "execution_count": null,
   "id": "0c17fe17-6f1a-4852-ba1a-7845e929273c",
   "metadata": {},
   "outputs": [],
   "source": []
  }
 ],
 "metadata": {
  "kernelspec": {
   "display_name": "Python 3 (ipykernel)",
   "language": "python",
   "name": "python3"
  },
  "language_info": {
   "codemirror_mode": {
    "name": "ipython",
    "version": 3
   },
   "file_extension": ".py",
   "mimetype": "text/x-python",
   "name": "python",
   "nbconvert_exporter": "python",
   "pygments_lexer": "ipython3",
   "version": "3.12.7"
  }
 },
 "nbformat": 4,
 "nbformat_minor": 5
}
